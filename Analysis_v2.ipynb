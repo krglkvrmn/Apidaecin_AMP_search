{
 "cells": [
  {
   "cell_type": "code",
   "execution_count": 31,
   "id": "76fd29fb-f905-41cf-906b-6170a8efd765",
   "metadata": {},
   "outputs": [],
   "source": [
    "import yaml\n",
    "import itertools\n",
    "import re\n",
    "import warnings\n",
    "from pathlib import Path\n",
    "\n",
    "import numpy as np\n",
    "import pandas as pd\n",
    "from Bio import SeqIO\n",
    "from Bio.Seq import Seq\n",
    "from Bio.SeqRecord import SeqRecord\n",
    "\n",
    "from src.io import read_yaml_config, read_fasta_as_dict, get_augustus_proteins, read_predictions\n",
    "from src.visual import visualize_predictions, visualize_single_prediction\n",
    "\n",
    "\n",
    "warnings.filterwarnings(\"ignore\", category=pd.errors.SettingWithCopyWarning)"
   ]
  },
  {
   "cell_type": "code",
   "execution_count": 2,
   "id": "14e5484e-c9fe-4c24-9118-703ae28d9a04",
   "metadata": {},
   "outputs": [],
   "source": [
    "config = read_yaml_config(\"config.yaml\")"
   ]
  },
  {
   "cell_type": "code",
   "execution_count": 3,
   "id": "4373f81d-d278-4428-a926-1bf1a3a3109c",
   "metadata": {},
   "outputs": [],
   "source": [
    "TARGET_SPECIES = \"Ganaspis_brasiliensis\""
   ]
  },
  {
   "cell_type": "code",
   "execution_count": 4,
   "id": "4029feb1-b0de-4a20-a04d-2247a9b917b1",
   "metadata": {},
   "outputs": [],
   "source": [
    "TARGET_SPECIES = TARGET_SPECIES.replace(\" \", \"_\")\n",
    "genome_file = Path(config['data_locations']['genomes_dir']) / f'{TARGET_SPECIES}.fna'\n",
    "proteome_file = Path(config['data_locations']['proteomes_dir']) / f'{TARGET_SPECIES}.faa'\n",
    "predictions_file = Path(config['data_locations']['raw_predictions_dir']) / f'{TARGET_SPECIES}.tsv'\n",
    "genes_file = Path(config['data_locations']['gene_predictions_dir']) / f'{TARGET_SPECIES}.fna'\n",
    "annotation_file = Path(config['data_locations']['gene_annotations_dir']) / f'{TARGET_SPECIES}.gff'\n",
    "false_positives_file = Path(config['data_locations']['false_positives_dir']) / f'{TARGET_SPECIES}.faa'"
   ]
  },
  {
   "cell_type": "code",
   "execution_count": 5,
   "id": "4f963c9e-1d8b-4313-976a-0925b3a6ff4c",
   "metadata": {},
   "outputs": [],
   "source": [
    "genome_map = read_fasta_as_dict(genome_file)\n",
    "proteome_map = read_fasta_as_dict(proteome_file)\n",
    "genes_map = read_fasta_as_dict(genes_file)\n",
    "fp_map = read_fasta_as_dict(false_positives_file)\n",
    "predictions_data = read_predictions(predictions_file)"
   ]
  },
  {
   "cell_type": "code",
   "execution_count": 6,
   "id": "ac17c00c-502d-43f4-82c1-da9ba750edf0",
   "metadata": {},
   "outputs": [
    {
     "data": {
      "text/html": [
       "<div>\n",
       "<style scoped>\n",
       "    .dataframe tbody tr th:only-of-type {\n",
       "        vertical-align: middle;\n",
       "    }\n",
       "\n",
       "    .dataframe tbody tr th {\n",
       "        vertical-align: top;\n",
       "    }\n",
       "\n",
       "    .dataframe thead th {\n",
       "        text-align: right;\n",
       "    }\n",
       "</style>\n",
       "<table border=\"1\" class=\"dataframe\">\n",
       "  <thead>\n",
       "    <tr style=\"text-align: right;\">\n",
       "      <th></th>\n",
       "      <th>record_id</th>\n",
       "      <th>record_description</th>\n",
       "      <th>pos_count</th>\n",
       "      <th>sequence</th>\n",
       "      <th>prediction_mask</th>\n",
       "      <th>frame</th>\n",
       "    </tr>\n",
       "  </thead>\n",
       "  <tbody>\n",
       "    <tr>\n",
       "      <th>0</th>\n",
       "      <td>RJVV01031371.1_start=0_end=30000_frame=+2</td>\n",
       "      <td>RJVV01031371.1_start=0_end=30000_frame=+2 RJVV...</td>\n",
       "      <td>66</td>\n",
       "      <td>FQK*DWFGIEKVRNSSIFDITLIQTNLLLLAGMTFI**FRDIRYFL...</td>\n",
       "      <td>0000000000000000000000000000000000000000000000...</td>\n",
       "      <td>2</td>\n",
       "    </tr>\n",
       "    <tr>\n",
       "      <th>1</th>\n",
       "      <td>RJVV01031371.1_start=0_end=30000_frame=+3</td>\n",
       "      <td>RJVV01031371.1_start=0_end=30000_frame=+3 RJVV...</td>\n",
       "      <td>66</td>\n",
       "      <td>FKNEIGLALKKFEIPVYLISL*SKPIYFFLPG*HLFNDFVILDIFY...</td>\n",
       "      <td>0000000000000000000000000000000000000000000000...</td>\n",
       "      <td>3</td>\n",
       "    </tr>\n",
       "    <tr>\n",
       "      <th>2</th>\n",
       "      <td>RJVV01095373.1_start=0_end=30000_frame=+1</td>\n",
       "      <td>RJVV01095373.1_start=0_end=30000_frame=+1 RJVV...</td>\n",
       "      <td>37</td>\n",
       "      <td>ILNFQRVRREPGRPGNMPRPKPIPIRPRPPHPVCCFNNLKFIIFHK...</td>\n",
       "      <td>1111111111111111111111111111111111111000000000...</td>\n",
       "      <td>1</td>\n",
       "    </tr>\n",
       "    <tr>\n",
       "      <th>3</th>\n",
       "      <td>RJVV01183868.1_start=0_end=30000_frame=-2</td>\n",
       "      <td>RJVV01183868.1_start=0_end=30000_frame=-2 RJVV...</td>\n",
       "      <td>37</td>\n",
       "      <td>VENQAVQEICHDLNQFQLDLDHHTQ*VLHLLKMNNN****QKKK*C...</td>\n",
       "      <td>0000000000000000000000000000000000000000000000...</td>\n",
       "      <td>2</td>\n",
       "    </tr>\n",
       "    <tr>\n",
       "      <th>4</th>\n",
       "      <td>RJVV01096013.1_start=0_end=30000_frame=-1</td>\n",
       "      <td>RJVV01096013.1_start=0_end=30000_frame=-1 RJVV...</td>\n",
       "      <td>34</td>\n",
       "      <td>ILNFQRVRREPGRPGNMPRPKPIPIRPRPPHPVSSFNNP*FIIFHS...</td>\n",
       "      <td>1111111111111111111111111111111111000000000000...</td>\n",
       "      <td>1</td>\n",
       "    </tr>\n",
       "    <tr>\n",
       "      <th>5</th>\n",
       "      <td>RJVV01183868.1_start=0_end=30000_frame=-1</td>\n",
       "      <td>RJVV01183868.1_start=0_end=30000_frame=-1 RJVV...</td>\n",
       "      <td>33</td>\n",
       "      <td>RREPGRPGNMPRPKPIPIRPRPPHPVSTTFIENE**LIVITKKEIM...</td>\n",
       "      <td>1111111111111111111111111111111110000000000000...</td>\n",
       "      <td>1</td>\n",
       "    </tr>\n",
       "    <tr>\n",
       "      <th>6</th>\n",
       "      <td>RJVV01026129.1_start=0_end=30000_frame=+1</td>\n",
       "      <td>RJVV01026129.1_start=0_end=30000_frame=+1 RJVV...</td>\n",
       "      <td>31</td>\n",
       "      <td>KGLEFSNICNILLDRRASFKDKFSIKK*FSKKMNLCGFCTNCLNLK...</td>\n",
       "      <td>0000000000000000000000000000000000000000000000...</td>\n",
       "      <td>1</td>\n",
       "    </tr>\n",
       "    <tr>\n",
       "      <th>7</th>\n",
       "      <td>RJVV01467345.1_start=0_end=30000_frame=+1</td>\n",
       "      <td>RJVV01467345.1_start=0_end=30000_frame=+1 RJVV...</td>\n",
       "      <td>30</td>\n",
       "      <td>RVRREPGRPGNMPRPKPIPIRPRPPHPVSTIFIQILNIN****QEK...</td>\n",
       "      <td>1111111111111111111111111111101000000000000000...</td>\n",
       "      <td>1</td>\n",
       "    </tr>\n",
       "    <tr>\n",
       "      <th>8</th>\n",
       "      <td>RJVV01026129.1_start=0_end=30000_frame=+3</td>\n",
       "      <td>RJVV01026129.1_start=0_end=30000_frame=+3 RJVV...</td>\n",
       "      <td>29</td>\n",
       "      <td>GFRV**HM*YFTRS*SFI*R*VFHKKVIFEKNELVRFLHQLPQFKN...</td>\n",
       "      <td>0000000000000000000000000000000000000000000000...</td>\n",
       "      <td>3</td>\n",
       "    </tr>\n",
       "    <tr>\n",
       "      <th>9</th>\n",
       "      <td>RJVV01527581.1_start=0_end=30000_frame=+3</td>\n",
       "      <td>RJVV01527581.1_start=0_end=30000_frame=+3 RJVV...</td>\n",
       "      <td>25</td>\n",
       "      <td>PGNMPRPKPIPIRPRPPHPVSTIFIENE**LIVITRKEIMHIYIFI...</td>\n",
       "      <td>1111111111111111111111111000000000000000000000...</td>\n",
       "      <td>3</td>\n",
       "    </tr>\n",
       "    <tr>\n",
       "      <th>10</th>\n",
       "      <td>RJVV01256475.1_start=0_end=30000_frame=-3</td>\n",
       "      <td>RJVV01256475.1_start=0_end=30000_frame=-3 RJVV...</td>\n",
       "      <td>23</td>\n",
       "      <td>QKMN*FKLFHLSASSSRS*RI*SRRP*S**CFAFRGKKTTLFYCME...</td>\n",
       "      <td>0000000000000000000000000000000000000000000000...</td>\n",
       "      <td>3</td>\n",
       "    </tr>\n",
       "    <tr>\n",
       "      <th>11</th>\n",
       "      <td>RJVV01491319.1_start=0_end=30000_frame=-1</td>\n",
       "      <td>RJVV01491319.1_start=0_end=30000_frame=-1 RJVV...</td>\n",
       "      <td>14</td>\n",
       "      <td>S*RT*SRRP*SR*RFALRGNKRSIFYCVKI*L*KHFI*EN*NLF*N...</td>\n",
       "      <td>0000000000000000000000000000000000000000000000...</td>\n",
       "      <td>1</td>\n",
       "    </tr>\n",
       "    <tr>\n",
       "      <th>12</th>\n",
       "      <td>RJVV01518257.1_start=0_end=30000_frame=-2</td>\n",
       "      <td>RJVV01518257.1_start=0_end=30000_frame=-2 RJVV...</td>\n",
       "      <td>14</td>\n",
       "      <td>*SRRP*SR*RFALRGNKRSIFYCVKI*L*QHFI*EN*NLF*N*NKN...</td>\n",
       "      <td>0000000000000000000000000000000000000000000000...</td>\n",
       "      <td>2</td>\n",
       "    </tr>\n",
       "    <tr>\n",
       "      <th>13</th>\n",
       "      <td>RJVV01002766.1_start=0_end=30000_frame=+2</td>\n",
       "      <td>RJVV01002766.1_start=0_end=30000_frame=+2 RJVV...</td>\n",
       "      <td>10</td>\n",
       "      <td>KK*LENDKSN*DLKKIIEK*RK*IELV*KICIFLTII*ILRNRIEI...</td>\n",
       "      <td>0000000000000000000000000000000000000000000000...</td>\n",
       "      <td>2</td>\n",
       "    </tr>\n",
       "    <tr>\n",
       "      <th>14</th>\n",
       "      <td>RJVV01011221.1_start=0_end=30000_frame=-1</td>\n",
       "      <td>RJVV01011221.1_start=0_end=30000_frame=-1 RJVV...</td>\n",
       "      <td>10</td>\n",
       "      <td>KRKVSAWNN*KSIERGKKRNLKKLFPYSI*TSYVYKLFIIKKNRGK...</td>\n",
       "      <td>0000000000000000000000000000000000000000000000...</td>\n",
       "      <td>1</td>\n",
       "    </tr>\n",
       "  </tbody>\n",
       "</table>\n",
       "</div>"
      ],
      "text/plain": [
       "                                    record_id  \\\n",
       "0   RJVV01031371.1_start=0_end=30000_frame=+2   \n",
       "1   RJVV01031371.1_start=0_end=30000_frame=+3   \n",
       "2   RJVV01095373.1_start=0_end=30000_frame=+1   \n",
       "3   RJVV01183868.1_start=0_end=30000_frame=-2   \n",
       "4   RJVV01096013.1_start=0_end=30000_frame=-1   \n",
       "5   RJVV01183868.1_start=0_end=30000_frame=-1   \n",
       "6   RJVV01026129.1_start=0_end=30000_frame=+1   \n",
       "7   RJVV01467345.1_start=0_end=30000_frame=+1   \n",
       "8   RJVV01026129.1_start=0_end=30000_frame=+3   \n",
       "9   RJVV01527581.1_start=0_end=30000_frame=+3   \n",
       "10  RJVV01256475.1_start=0_end=30000_frame=-3   \n",
       "11  RJVV01491319.1_start=0_end=30000_frame=-1   \n",
       "12  RJVV01518257.1_start=0_end=30000_frame=-2   \n",
       "13  RJVV01002766.1_start=0_end=30000_frame=+2   \n",
       "14  RJVV01011221.1_start=0_end=30000_frame=-1   \n",
       "\n",
       "                                   record_description  pos_count  \\\n",
       "0   RJVV01031371.1_start=0_end=30000_frame=+2 RJVV...         66   \n",
       "1   RJVV01031371.1_start=0_end=30000_frame=+3 RJVV...         66   \n",
       "2   RJVV01095373.1_start=0_end=30000_frame=+1 RJVV...         37   \n",
       "3   RJVV01183868.1_start=0_end=30000_frame=-2 RJVV...         37   \n",
       "4   RJVV01096013.1_start=0_end=30000_frame=-1 RJVV...         34   \n",
       "5   RJVV01183868.1_start=0_end=30000_frame=-1 RJVV...         33   \n",
       "6   RJVV01026129.1_start=0_end=30000_frame=+1 RJVV...         31   \n",
       "7   RJVV01467345.1_start=0_end=30000_frame=+1 RJVV...         30   \n",
       "8   RJVV01026129.1_start=0_end=30000_frame=+3 RJVV...         29   \n",
       "9   RJVV01527581.1_start=0_end=30000_frame=+3 RJVV...         25   \n",
       "10  RJVV01256475.1_start=0_end=30000_frame=-3 RJVV...         23   \n",
       "11  RJVV01491319.1_start=0_end=30000_frame=-1 RJVV...         14   \n",
       "12  RJVV01518257.1_start=0_end=30000_frame=-2 RJVV...         14   \n",
       "13  RJVV01002766.1_start=0_end=30000_frame=+2 RJVV...         10   \n",
       "14  RJVV01011221.1_start=0_end=30000_frame=-1 RJVV...         10   \n",
       "\n",
       "                                             sequence  \\\n",
       "0   FQK*DWFGIEKVRNSSIFDITLIQTNLLLLAGMTFI**FRDIRYFL...   \n",
       "1   FKNEIGLALKKFEIPVYLISL*SKPIYFFLPG*HLFNDFVILDIFY...   \n",
       "2   ILNFQRVRREPGRPGNMPRPKPIPIRPRPPHPVCCFNNLKFIIFHK...   \n",
       "3   VENQAVQEICHDLNQFQLDLDHHTQ*VLHLLKMNNN****QKKK*C...   \n",
       "4   ILNFQRVRREPGRPGNMPRPKPIPIRPRPPHPVSSFNNP*FIIFHS...   \n",
       "5   RREPGRPGNMPRPKPIPIRPRPPHPVSTTFIENE**LIVITKKEIM...   \n",
       "6   KGLEFSNICNILLDRRASFKDKFSIKK*FSKKMNLCGFCTNCLNLK...   \n",
       "7   RVRREPGRPGNMPRPKPIPIRPRPPHPVSTIFIQILNIN****QEK...   \n",
       "8   GFRV**HM*YFTRS*SFI*R*VFHKKVIFEKNELVRFLHQLPQFKN...   \n",
       "9   PGNMPRPKPIPIRPRPPHPVSTIFIENE**LIVITRKEIMHIYIFI...   \n",
       "10  QKMN*FKLFHLSASSSRS*RI*SRRP*S**CFAFRGKKTTLFYCME...   \n",
       "11  S*RT*SRRP*SR*RFALRGNKRSIFYCVKI*L*KHFI*EN*NLF*N...   \n",
       "12  *SRRP*SR*RFALRGNKRSIFYCVKI*L*QHFI*EN*NLF*N*NKN...   \n",
       "13  KK*LENDKSN*DLKKIIEK*RK*IELV*KICIFLTII*ILRNRIEI...   \n",
       "14  KRKVSAWNN*KSIERGKKRNLKKLFPYSI*TSYVYKLFIIKKNRGK...   \n",
       "\n",
       "                                      prediction_mask  frame  \n",
       "0   0000000000000000000000000000000000000000000000...      2  \n",
       "1   0000000000000000000000000000000000000000000000...      3  \n",
       "2   1111111111111111111111111111111111111000000000...      1  \n",
       "3   0000000000000000000000000000000000000000000000...      2  \n",
       "4   1111111111111111111111111111111111000000000000...      1  \n",
       "5   1111111111111111111111111111111110000000000000...      1  \n",
       "6   0000000000000000000000000000000000000000000000...      1  \n",
       "7   1111111111111111111111111111101000000000000000...      1  \n",
       "8   0000000000000000000000000000000000000000000000...      3  \n",
       "9   1111111111111111111111111000000000000000000000...      3  \n",
       "10  0000000000000000000000000000000000000000000000...      3  \n",
       "11  0000000000000000000000000000000000000000000000...      1  \n",
       "12  0000000000000000000000000000000000000000000000...      2  \n",
       "13  0000000000000000000000000000000000000000000000...      2  \n",
       "14  0000000000000000000000000000000000000000000000...      1  "
      ]
     },
     "execution_count": 6,
     "metadata": {},
     "output_type": "execute_result"
    }
   ],
   "source": [
    "predictions_data.head(15)"
   ]
  },
  {
   "cell_type": "code",
   "execution_count": 7,
   "id": "d1d70386-e206-497e-bd53-ab1763d4ad77",
   "metadata": {},
   "outputs": [],
   "source": [
    "SCORE_THRESHOLD = 60\n",
    "\n",
    "selected_data = predictions_data.query(\"pos_count > @SCORE_THRESHOLD\")"
   ]
  },
  {
   "cell_type": "code",
   "execution_count": 42,
   "id": "13c3654c-8ede-43c8-8f1d-c5492551dd5b",
   "metadata": {},
   "outputs": [
    {
     "data": {
      "text/plain": [
       "0"
      ]
     },
     "execution_count": 42,
     "metadata": {},
     "output_type": "execute_result"
    }
   ],
   "source": [
    "2 % 1"
   ]
  },
  {
   "cell_type": "markdown",
   "id": "f1693791-8dc2-42ae-923e-5d0a9f7272d7",
   "metadata": {},
   "source": [
    "# Visualize predictions"
   ]
  },
  {
   "cell_type": "code",
   "execution_count": 10,
   "id": "0d9e2d17-fe49-407e-ba9a-2e0b6710d39a",
   "metadata": {
    "tags": []
   },
   "outputs": [
    {
     "name": "stdout",
     "output_type": "stream",
     "text": [
      "RJVV01031371.1_start=0_end=30000_frame=+2 Score=66 Fragment_start=1139_end=1968\n",
      "\u001b[31mYYLSKFDENYSCSQILKKIHKMLNNYYLITNFESKNFFFYAQLGLIELGKIKFNNIFIRREKPFSII*GSVCQWVEHP*QVYVNNYIQILIVVIFSEPG*NGED*CFLNRSTICICSFICSS*TRTCSGW*TFAP*TTSNQTPSSTSCKSIIFFIKNLMFNNF*RKNIIRSHNYRIFYSILT*YKKLSKYCESYIQINNFWYNVRGNY*K*CKSIH*TNYYINYK*LK*KQNIQ**IENQIINIKSSLYLKRLRREAEGLEEDVAEVETDEVEESAVALDVRTR*NY**KKYSYDIFYFL*LKQIKYKQ*HYKN*NLL*LNTPPVFKLKIQVQIY*FKIKVKKKLIIIK*FIVINKYYAFLESSSRTRSSRKYATS*TNSN*TSTPTPSEFYILLKINNNYNIFMHLLYE*TDKAGSKLIIFFSSFSVFVVKLKNLKQKTFCL*R*KPRSSFL*KYNYNKILFKKI*I*FKITTKIKYFLYEEAIFKNKQLSIIIQFLII\u001b[0m\u001b[32mIL\u001b[0m\u001b[31mN\u001b[0m\u001b[32mFQRVRREPGRPGNMPRPKPIPIRPRPPHPLY\u001b[0m\u001b[31mN\u001b[0m\u001b[32mY\u001b[0m\u001b[31mKYTLLVKKMN*FELFHLSASSS*S*RT*SRRP*S**SFAFRGKKTKLFYCMKI***QNFI*EKKIYF*NKTNKKYFKN*QLAKIIQFLIIILNF*\u001b[0m\u001b[32mRV\u001b[0m\u001b[31mR\u001b[0m\u001b[32mREPGRPGNMPRPKPIPIRPRPPHPVSTAFI\u001b[0m\u001b[31mENK**LIVIT*IEIMHIYIIISTLFLSKNKLILTFSSFSVFAEKLKNLK*KTLKQMMFCL*R*EKIDFLLYENIVITKLYLRKFKFNLKLQQK*TIGYYNSIFNYNLELSESTSRTRPSRKYATTQTNSN*T*TTTPSEYYIY*K*IIINRKEIMHIYIIVSILF\u001b[0m\n",
      "RJVV01031371.1_start=0_end=30000_frame=+3 Score=66 Fragment_start=775_end=1986\n",
      "\u001b[31mEDGDSPSFLARIINARTFLTEKYSQF*VSI*TPSLIGANHKTVNFRGIQTV*TSNRNVSMQNA*KLKNIK*YNYIYQIIN*STK*SE*IFHSKSL*LKL*FDRILIDGIF*IDFYLTYF*HHFKLTNFYLAEMSFYRNSL*PAFYLIKF*FNRISI*KNFK*IESIIAKFPFHRILIDSIFICIN*YLI*LL*NGNSVI*KKRIKYSIYLKFC*MRILLN*NLVKLEFF*VNGCC*EEILSNENSTIYKFY*VKI*LTKNLNNGKTP**KF*QMRIITNW*CKIFYQIIII*KFVFFILKFENN*NFRPILTNNSSF*SLKHSIKVC*PI**KNFACLINFQQNIINKIQRTNL*RMFRRSN*TIICLNSMKITVVHKF*RKYTKC*IIII**QILNQKIFFFMHNWVL*NWVKSNLIIFLLDVKNHFL*FEVLYVNGLNILNKYMLIIIFKY**L*FFQNQAEMAKISAFLIVALFAFAALSVQAEPEPARGGKPSRPR\u001b[0m\u001b[32mP\u001b[0m\u001b[31mPPIKPRPPHPVSQLFFLLKI*CSIISEEKI*FVHIIIGFFILYSHSIKNYLNTAKVTFR*IIFGIMCVVIIKNNVNLFIKQIII*IINN*NKNKIFNNKLKIK*LILNHLFI*SAFVVKLKALKKM*PKLKLMKWKNLQLL*M*ELDETINEKNIVMIYSIFYD*NR*NINNNITRIKTYYD*ILLQFLN*KYKFKFTDSKLK*KKN*L**NNL*L*INIMHF*\u001b[0m\u001b[32mRV\u001b[0m\u001b[31mR\u001b[0m\u001b[32mREPGRPGNMPRPKPIPIRPRPPHPVS\u001b[0m\u001b[31mSIFY*KLIIIIIYLCIYYMNKLIRPGVN*LYFFHLSASSS*S*RT*SRRRFAFRGKNHDLLFYENIIITKFYLRKFKFNLKLQQK*NTSSMKKQYSKINNCLL*SNF*L*F*TFREFVENQAVQEICHDLNQFQLDLDHHTLYIIISTLFLSKK*INLNFFIFQRLRREAEELEAEDL\u001b[0m\u001b[32mE\u001b[0m\u001b[31mADEVLPLEVKKPSSSIV*KYNNNKILFKKKKFIFKIKQTKNILKINNWLK*SNS*L*F*TFREFVENQAVQEICHDLNQFQLDLDHHTQ*VLHLLKINNN****HE*K*CIFI*L*VHSSYQKIN*F*LFHLSASSPRS*RT*SRRP*SR*CFAFRGKKRSISYCMKI*L*QNFI*ENLNLI*NYSKNKQLAIIIPFLII\u001b[0m\u001b[32mIL\u001b[0m\u001b[31mN\u001b[0m\u001b[32mFQRVRREPGRPGNMPRPKPIPIRPRPPHPVSIIF\u001b[0m\u001b[31mIENE**LIEKK*CIFI*L*VYSSWQKIN*FLLFYFSASSPR\u001b[0m\n",
      "RJVV01031371.1_start=0_end=30000_frame=+1 Score=0 Fragment_start=0_end=1987\n",
      "\u001b[31mISKMRLVWH*KSSKFQYI*YHFNPNQSTSSCRDDIYLMIS*Y*IFFMYMQLQKHISINSN*CLCFSK*IQFFF*FKKKLKYISIKNTHIINLTYTVYLYYLQIIEV*KFILKLIEPNMSKNTLT*FSCLRFSLLKDNIN*E*YHSF*K***AKFVHK*TFSKNILTRTKYFEPKFGSISVTRYTERDLRRKKL*VMFVIFGIKIQENQIFIPTSIDV*VFIPSKVFNKTWFLFYIIKK*LLINVTLLKETS*NALQTLI*VV*SISYIFIIHLIRNLNISNNTF*NAIANLLETS*K*LKMYLKLNMPTSCSKY*LSLNIT*NCLILRSLSSYRVTSIYYTGLQGFFFRHRSGFQYIFYEHDPWFQNWI*R*NFEKSGDKIPKKKTPKPVSFNFIKVG*Y*IQNLALLNNEIYEMLKYHRCTEIKFKIKFNIRFIERKLFKTYWGKLIGLLFKCYSEENKI***LY*CSKFSFNV*YSHY*ILFSSL*QFKSKPISSSL*DLNNLLSINTLILNFI*NFL*VCLSLV*DFTVV*KNTEVKKKLKISKIPRFFGTLPPLFSKS*RVRQF*DTGSYSGDKNTLKKSSISNENKRSLFCRSVLFKKKV*EQIKMVPNFN*LFTISKKN*KEYSNSLYSKINWFD*LLLKSVVEVIIRVFIIKTS*FS*I*KKLRLLVLYGYSSFFSRKLLIS**NFY*LKFY*KKS**KFTN*NF*FISGKRLISLRS*SYVFIAHDIKQ*TNCSSSCVHYS*LFENYKETLTHLMCQSICYEY*FTLKKMVIPRASWRE**MRALS*LKNILNSE*VYKLLLSLEQIIKQ*TLEAFKQFKHQIEM*VCKTRKS*KILNDIIIFIKL*IKVQNEANRYFIVSHYN*NYDLTEF*STEYFK*IFI*HIFNIILS*RIFI*QKCHFIEIHFNQLFI*LNFNLTEFQFKRILSKSNL*LPNFHFIESSLTQFLFA*IDI*YDYCKMEILLFEKKESSIRFI*NFAE*EFC*IRIW*N*NSFK*TVAVKKKFCQMKILRFTNSIK*KFN*QKI*IMEKRLDENFNK*EL*QTGDVKFFIK**LFKSLCFSF*SLKIIKTFVQF*QIIAHFNL*NIL*KFVNLYNRRILLV**IFNKILLTKSNEQICRECFEDQIELLFV*IR*KLQLFTNFKENTQNAK*LLFDNKF*IKKFFFLCTTGSYRIG*NQI**YFY*T*KTIFYNLRFCMSMG*TSLTSIC**LYSNINSCNFFRTRLKWRRLVLS*S*HYLHLQLYLFKLNQNLLGVVNLRALDHLQSNPVLHIL*VNYFFY*KFNVQ*FLKKKYNSFT*L*DFLFYTHIV*KII*ILRKLHSDK*FLV*CAW*LLKIM*IYSLNKLLYKL*IIKIKTKYSIIN*KSNN*Y*IISLFKAPSS*S*RP*RRCSRS*N**SGRICSCSRCKN*MKLLMKKI*L*YILFFMIKTDKI*TITLQELKPIMTKYSSSF*IKNTSSNLLIQN*SKKKINYNKIIYSYK*ILCIFREFVENQVVQEICHVLNQFQLDLDPHTQ*VLYFIKN***L*YIYASII*IN**GRE*INYIFFIFQRLRREAEELEAEDVLPLEVKTTIFFSMKI*L*QNFI*ENLNLI*NYNKNKILPL*RSNIQK*TIVYYNPIFNYNFKLSESSSRTRPSRKYATT*TNSN*T*TTTPFI*L*VHSSCQKNELI*TFSSFSVFVVKLKNLKQKTLKLMKFCL*R*KNQALLLYENIIITKFYLRKKNLFLK*NKQKIF*KLTIG*NNPILNYNFKLLESSSRTRPSRKYATT*TNSN*T*TTTPSEYCIY*K*IIINSNNMNRNNAYLYNYKYTLLIKK*INFNFFIFQRLRREAEELEVEDLEADDVLPLEVRKDRFPIV*KYSYNKTLFKKI*I*FKITAKINNWLL*FHF*L*S*TFREYVENQAVQEICHDPNQFQLDLDHHTQ*VLYLLKMNNN**KRNNAYLYNCKYTLLGKK*INFYFFIFQRLRRE\u001b[0m\n",
      "RJVV01031371.1_start=0_end=30000_frame=+ Fragment_start=2327_end=5961\n",
      "\u001b[31mGAAGATGGTGATTCCCCGAGCTTCTTGGCGAGAATAATAAATGCGCGCACTTTCTTGACTGAAAAATATTCTCAATTCTGAGTAAGTATATAAACTCCTTCTCTCATTGGAGCAAATCATAAAACAGTGAACTTTAGAGGCATTCAAACAGTTTAAACATCAAATAGAAATGTGAGTATGCAAAACgcgtaaaagttaaaaaatattaaatgatataattatatttatcaaattataaattaaagtacaaAATGAAGCGAATAGATATTTCATagtaagtcattataattaaaattatgatttgacagaattttaatcgacggaatattttaaatagatttttatttaacatatttttaacatcattttaagttgacgaatttttatttagcagaaatgtcattttatagaaattcactttaaccagctttttatttaattaaattttaatttaaccgaatttcaatttaaaagaattttaagtaaatcgaaTCTATAATTGCCAAATTTCCATTTCATCGAATCCTCATtgactcaatttttatttgcataaattgatatttgatatgattattgtaaaatggaaattctgttatttgaaaaaaaagaatcaagtattcgatttatttaaaattttgctgaatgagaattctgctaaattagaatttggtaaaattagaattcttttaaGTAAACGGTTGCTGTTAAGAagaaattctgtcaaatgaaaattctacgatttacaaattctattaagtaaaaatttaattgacaaaaaatttgaataatggaaaaacgccttgatgaaaattttaacaaatgagaattataacAAACTGgtgatgtaaaattttttatcaaataataattatttaaaagtttgtgtttttcattttaaagtttgaaaataattaaaactttcgtccaattttgacaaataatagctcattttaatctttgaaacattctataAAAGTTTGTTAACCTATATAATAGAAGAATTTtgcttgtttaataaattttcaacaaaatattattaacaaaatccaacgaacaaatttgtagagaatgtttcgaAGATCAAATTGAACTATTATTTGTCTAAATTCGATGAAAATTACAGttgttcacaaattttaaagaaaatacacaaaatgctaaataattattatttgataacaaattttgaatcaaaaaatttttttttttatgcacaaCTGGGTCTTATAGAATTgggtaaaatcaaatttaataatatttttattagacgtgaaaaaccattttctataatttgagGTTCtgtatgtcaatgggttgaacatccttaacaagtatatgttaataattatattcaaatattaatagttgtaattttttcagaacCAGGCTGAAATGGCGAAGATTAGTGCTTTCTTAATCGTAGCACTATTTGCATTTGCAGCTTTATCTGTTCAAGCTGAACCAGAACCTGCTCGGGGTGGTAAACCTTCGCGCCCTAGA\u001b[0m\u001b[32mCCA\u001b[0m\u001b[31mCCTCCAATCAAACCCCGTCCTCCACATCCTgtaagtcaattattttttttattaaaaatttaatgttcaataatttctgaagaaaaaatataattcgttCACATAATTATAGGATTTTTTATTCTATACTCacatagtataaaaaattatctaaatactGCGAAAGTtacattcagataaataatttttggtatAATGTGCgtggtaattattaaaaataatgtaaatctattcattaaacaaattattatataaattataaataattaaaataaaaacaaaatattcaataataaattgaaaatcaaataattaatattaaatcatcTCTTTATTTAAAGCGCCTTCGTCGTGAAGCTGAAGGCCTTGAAGAAGATGTAGCCGAAGTTGAAACTGATGAAGTGGAAGAATCTGCAGTTGCTCTAGATGTAAGAACTAGATGAaactattaatgaaaaaaatatagttatgatatattctattttttatgattaaaacagataaaatataaacaataacatTACAAGAATTAAAACCTATTATGACTAAATACTCctccagtttttaaattaaaaatacaagttcAAATTTactgattcaaaattaaagtaaaaaaaaaattaattataataaaataatttatagttataaataaatattatgcaTTTTTAG\u001b[0m\u001b[32mAGAGTT\u001b[0m\u001b[31mCGT\u001b[0m\u001b[32mCGAGAACCAGGTCGTCCAGGAAATATGCCACGTCCTAAACCAATTCCAATTAGACCTCGACCCCCACACCCAGTGAgt\u001b[0m\u001b[31mtctatattttattaaaaattaataataattataatatatttatgcaTCTATTATATGAATAAACTGATAAGGCCGggagtaaattaattatatttttttcatctttcagCGTCTTCGTCGTGAAGCTGAAGAACTTGAAGCAGAAGACGTTTTGCCTTTAGAGGTAAAAACCACGATCTTCTTTtctatgaaaatataattataacaaaattttatttaagaaaatttaaatttaatttaaaattacaacaaaaataaaatacttcctctatgaagaagcaatattcaaaaataaacaattgtctattataatccaatttttaattata\u001b[0m\u001b[32matttta\u001b[0m\u001b[31maac\u001b[0m\u001b[32mtttcagagAGTTCGTCGAGAACCAGGCCGTCCAGGAAATATGCCACGACCTAAACCAATTCCAATTAGACCTAGACCACCACACcctttatat\u001b[0m\u001b[31maat\u001b[0m\u001b[32mtat\u001b[0m\u001b[31maagtaCACTCTTCTtgtcaaaaaaatgaattaatttgaactttttcatctttcaGCGTCTTCGTCGTGAAGCTGAAGAACTTGAAGCAGAAGACCTT\u001b[0m\u001b[32mGAA\u001b[0m\u001b[31mGCTGATGAAGTTTTGCctttagaggtaaaaaaaccaAGCTCTTCTATtgtatgaaaatataataataacaaaattttatttaagaaaaaaaaatttatttttaaaataaaacaaacaaaaaatattttaaaaattaacaattggcTAAAATAatccaattcttaattataattttaaacttttag\u001b[0m\u001b[32magaGTT\u001b[0m\u001b[31mCGT\u001b[0m\u001b[32mCGAGAACCAGGCCGTCCAGGAAATATGCCACGACCTAAACCAATTCCAATTAGACCTAGACCACCACACCCAGTGAGTACtgcatttatt\u001b[0m\u001b[31mgaaaataaataataattaatagtaataacATGAATAGAAATAAtgcatatttatataattataagtaCACTCttcttatcaaaaaataaattaattttaactttttcatcttTCAGCGTCTTCGCCGAGAAGCTGAAGAACTTGAAGTAGAAGACCTTGAAGCAGATGATGTTTTGCCTTTAGAGGTAAGAAAAGATCGATTTCCTATTGTATGAAAATATAGTTAtaacaaaactttatttaagaaaatttaaatttaatttaaaattacagcaaaaataaacaattggctattataattccatttttaattata\u001b[0m\u001b[32matcttg\u001b[0m\u001b[31maaC\u001b[0m\u001b[32mTTTCAGAGAGTACGTCGAGAACCAGGCCGTCCAGGAAATATGCCACGACCCAAACCAATTCCAATTAGACCTAGACCACCACACCCAGTgagtattatattt\u001b[0m\u001b[31mattgaaaatgaataataattaatagaaaagaaataatgcatatttatataattgtaaGTATACTCTTCttggcaaaaaataaattaatttttacttttttatttttcagcgtCTTCGCCGAGAA\u001b[0m\n",
      "========================================================================================================================\n",
      "                                                                                                                        \n"
     ]
    }
   ],
   "source": [
    "SHOW_NUCLEOTIDE = True\n",
    "SHOW_TRANSLATED = True\n",
    "SHOW_MISSING_FRAMES = True\n",
    "NUCL_VISUAL_OFFSET = np.array((1500, 500))\n",
    "AA_VISUAL_OFFSET = NUCL_VISUAL_OFFSET // 3\n",
    "\n",
    "\n",
    "visualize_predictions(\n",
    "    selected_data,\n",
    "    genome_map=genome_map,\n",
    "    proteome_map=proteome_map,\n",
    "    show_translated=SHOW_TRANSLATED,\n",
    "    show_nucleotide=SHOW_NUCLEOTIDE,\n",
    "    show_missing_frames=SHOW_MISSING_FRAMES,\n",
    "    nucl_visual_offset=NUCL_VISUAL_OFFSET\n",
    ")"
   ]
  },
  {
   "cell_type": "code",
   "execution_count": 23,
   "id": "5a0a7148-268d-4fa3-87c4-b58d9db6d854",
   "metadata": {
    "tags": []
   },
   "outputs": [
    {
     "name": "stdout",
     "output_type": "stream",
     "text": [
      "RJVV01031371.1_start=0_end=30000_frame=+2 Score=66 Fragment_start=0_end=165\n",
      "\u001b[31mI\u001b[0m\u001b[32mIL\u001b[0m\u001b[31mN\u001b[0m\u001b[32mFQRVRREPGRPGNMPRPKPIPIRPRPPHPLY\u001b[0m\u001b[31mN\u001b[0m\u001b[32mY\u001b[0m\u001b[31mKYTLLVKKMN*FELFHLSASSS*S*RT*SRRP*S**SFAFRGKKTKLFYCMKI***QNFI*EKKIYF*NKTNKKYFKN*QLAKIIQFLIIILNF*\u001b[0m\u001b[32mRV\u001b[0m\u001b[31mR\u001b[0m\u001b[32mREPGRPGNMPRPKPIPIRPRPPHPVSTAFI\u001b[0m\n",
      "RJVV01031371.1_start=0_end=30000_frame=+3 Score=66 Fragment_start=0_end=671\n",
      "\u001b[31mR\u001b[0m\u001b[32mP\u001b[0m\u001b[31mPPIKPRPPHPVSQLFFLLKI*CSIISEEKI*FVHIIIGFFILYSHSIKNYLNTAKVTFR*IIFGIMCVVIIKNNVNLFIKQIII*IINN*NKNKIFNNKLKIK*LILNHLFI*SAFVVKLKALKKM*PKLKLMKWKNLQLL*M*ELDETINEKNIVMIYSIFYD*NR*NINNNITRIKTYYD*ILLQFLN*KYKFKFTDSKLK*KKN*L**NNL*L*INIMHF*\u001b[0m\u001b[32mRV\u001b[0m\u001b[31mR\u001b[0m\u001b[32mREPGRPGNMPRPKPIPIRPRPPHPVS\u001b[0m\u001b[31mSIFY*KLIIIIIYLCIYYMNKLIRPGVN*LYFFHLSASSS*S*RT*SRRRFAFRGKNHDLLFYENIIITKFYLRKFKFNLKLQQK*NTSSMKKQYSKINNCLL*SNF*L*F*TFREFVENQAVQEICHDLNQFQLDLDHHTLYIIISTLFLSKK*INLNFFIFQRLRREAEELEAEDL\u001b[0m\u001b[32mE\u001b[0m\u001b[31mADEVLPLEVKKPSSSIV*KYNNNKILFKKKKFIFKIKQTKNILKINNWLK*SNS*L*F*TFREFVENQAVQEICHDLNQFQLDLDHHTQ*VLHLLKINNN****HE*K*CIFI*L*VHSSYQKIN*F*LFHLSASSPRS*RT*SRRP*SR*CFAFRGKKRSISYCMKI*L*QNFI*ENLNLI*NYSKNKQLAIIIPFLII\u001b[0m\u001b[32mIL\u001b[0m\u001b[31mN\u001b[0m\u001b[32mFQRVRREPGRPGNMPRPKPIPIRPRPPHPVSIIF\u001b[0m\n",
      "RJVV01031371.1_start=0_end=30000_frame=+ Fragment_start=0_end=2512\n",
      "\u001b[31matt\u001b[0m\u001b[32mtcaaaa\u001b[0m\u001b[31matg\u001b[0m\u001b[32magattggtTTGGCATTGAAAAAGTTCGAAATTCCAGTATATTTGATATCACTTTAATCCAAACCAATCTACTTCTTCTTGCCGGGATGacatt\u001b[0m\u001b[31mtat\u001b[0m\u001b[32mtta\u001b[0m\u001b[31matgatttcgtgatattagatattttttatgtacATGCAATTGCAAAAACATAtctcaataaattcaaattgatgCTTGTGTTTTTCgaaatgaattcaattttttttttgattcaaaaaaaaacttaagtatataagtataaaaaatactcatataattaatttaacctATACAGTTTATTTATACTACTTGCaaattattgaagtttgaaaatttattttaaagctgatcGAGCCTAATATGAGCAAAAACACTCTCACCTGATTTTCATGCTTacgtttctcg\u001b[0m\u001b[32mctctta\u001b[0m\u001b[31maaa\u001b[0m\u001b[32mgataatataaattaggaataatatcatagtttttagaaataataataggcaaaatttgttcataaataaactttctctaaaaatatACTA\u001b[0m\u001b[31mACtcgtactaaatattttgagcCAAAGTTTGGTTCCATAAGTGTGACGCGATATacagaaagggacctaagaaggaaaaaattgtaggttatgtttgtgatttttggaataaaaatacaAGAGAATCAAATCTTTATTCCAACCTCCATTGATGTTTAAGTCTTCATTCCATCCAAAGTATTC\u001b[0m\u001b[32mAATAAA\u001b[0m\u001b[31mAcc\u001b[0m\u001b[32mtggtttttattttatataataaaaaagtaacttttaatcaatgtaacACTGttaaaagaaacatcttaaaatgcattg\u001b[0m\u001b[31mcagACACTTATTTAAGTTGTTTAAAGTATatcttatattttcattatccaTCTTATAAGAAATcttaatatatctaataatacattttaaaacgcTATTGCTAACTTAttggaaacatcttaaaagtgactaaaaatgtatcttaaattaaatatgccTACTTCTTGCAGTAAATATTAACTATCACtgaatataacctaaaattgtctcattcttaggtccctttcttcatatcgcgtCACAAGTATTTATTACACAGGtttacaaggttttttttttagacatcggagtggtttccaatatattttttatgaacatGATCCCTGGTTCCAAAATTGGATATAACGttagaattttgagaaaagcgGGGATAagatcccaaaaaaaaaaacgcccaaacctgtttcttttaattttatcaaggtaggataatattaaattcaaaatttagcaCTTCTGAACAATGAGATTTATGAAATGTTGAAATATCACCGGTgcactgaaataaaatttaaaataaaatttaatataaga\u001b[0m\u001b[32mttt\u001b[0m\u001b[31mattgaaagaaaactATTCAAGACCTACTGGGGAAAACTAATTGgtttactttttaaatgttacagtgaagaaaataaaatttaatagtgactatattaatgttcaaaatttagttttaatgtttaatatagtcactactaaattcttttttcttcattgtaacaatttaaaagtaaaccaaTTAGTTCTTCCCTGTAGGACTTGAATAATCTCCTTTCAATAAATactcttatattaaattttatttaaaattttctttaagtgtGCCTCTCCTTAGTTTAAGACTTCACGGTAGTGTAAAAAAACacggaagttaaaaaaaaattgaaaatctcaaaaatccCACGTTTTTTTGGcactttacccccacttttctcaaaatcctgacgtgttAGGCAATTTTGAGATACCGGGTCGTATTCAGGGgacaaaaatacattgaaaaaaagttcgatatccaatgaaaataaaagaagcttATTTTGTAGATctgtgttatttaaaaaaaaagtttaagaacaaATAAAGATGGtgcctaattttaattaactatttactataagtaaaaaaaattaaaaagaatatagtAATTCCCTTTAT\u001b[0m\u001b[32mTCCAAA\u001b[0m\u001b[31mATA\u001b[0m\u001b[32mAATTGGTTTGATTGATTGCTATTAAAGTCCGTAGTTGAAGTTATCATAAgagtttttataatcaaaacatcttaattttcataaatttgaaaaaaattgcgt\u001b[0m\u001b[31mcTCTTAGTGCTATATGGATATAGCTCATTTTttagtaggaaactactaatttcatagtgaaatttttactaattaaaattttactaaaaaaaaagttagtaaaagTTTACTAATTAAAACTTCTAGTTCATTAGTGGAAAACGACTAATTAGCTTAAGGAGCTAATCATATGTTTTCATCGCGCATGATATAAAGCAATAAACAAATTGCTCATCCTCGTGTGTACATTATTCTTGATTGTTTGAAAACTATAAGGAAACTCTCACACACTTAATGTGTCAAAGCATCTGTTATGAATATTGATTCACATTAAAGAAGATGGTGATTCCCCGAGCTTCTTGGCGAGAATAATAAATGCGCGCACTTTCTTGACTGAAAAATATTCTCAATTCTGAGTAAGTATATAAACTCCTTCTCTCATTGGAGCAAATCATAAAACAGTGAACTTTAGAGGCATTCAAACAGTTTAAACATCAAATAGAAATGTGAGTATGCAAAA\u001b[0m\n",
      "========================================================================================================================\n",
      "                                                                                                                        \n"
     ]
    }
   ],
   "source": [
    "SHOW_NUCLEOTIDE = True\n",
    "SHOW_TRANSLATED = True\n",
    "SHOW_MISSING_FRAMES = False\n",
    "NUCL_VISUAL_OFFSET = np.array((1500, 500))\n",
    "AA_VISUAL_OFFSET = (1, 1) #NUCL_VISUAL_OFFSET // 3\n",
    "\n",
    "\n",
    "visualize_predictions(\n",
    "    selected_data,\n",
    "    genome_map=genome_map,\n",
    "    proteome_map=proteome_map,\n",
    "    show_translated=SHOW_TRANSLATED,\n",
    "    show_nucleotide=SHOW_NUCLEOTIDE,\n",
    "    show_missing_frames=SHOW_MISSING_FRAMES,\n",
    "    nucl_offset=NUCL_VISUAL_OFFSET,\n",
    "    aa_offset=AA_VISUAL_OFFSET\n",
    ")"
   ]
  },
  {
   "cell_type": "markdown",
   "id": "98dd1bb3-8b25-468a-bf09-395176856e40",
   "metadata": {},
   "source": [
    "# False Positives"
   ]
  },
  {
   "cell_type": "markdown",
   "id": "056bea6c-0b6c-431b-b6bc-ea703283c8dd",
   "metadata": {},
   "source": [
    "## Overview"
   ]
  },
  {
   "cell_type": "code",
   "execution_count": 28,
   "id": "cf98054a-5f71-425a-9a28-9740187c04fc",
   "metadata": {},
   "outputs": [],
   "source": [
    "from src.io import FragmentRecordId\n",
    "from src.predictions import extract_fp_aa_predictions"
   ]
  },
  {
   "cell_type": "code",
   "execution_count": 34,
   "id": "856704b0-548e-4555-acf1-6e8875d0cb53",
   "metadata": {},
   "outputs": [
    {
     "name": "stdout",
     "output_type": "stream",
     "text": [
      "RJVV01491319.1_start=0_end=30000_frame=-1 Score=14 Fragment_start=0_end=33\n",
      "\u001b[31mTIG*NIPIFNYIILNF\u001b[0m\u001b[32mQRV\u001b[0m\u001b[31mR\u001b[0m\u001b[32mRE\u001b[0m\u001b[31mP\u001b[0m\u001b[32mG\u001b[0m\u001b[31mR\u001b[0m\u001b[32mPGNMPRPK\u001b[0m\n",
      "\n",
      "RJVV01518257.1_start=0_end=30000_frame=-2 Score=14 Fragment_start=0_end=33\n",
      "\u001b[31mTIG*NIPIFNYIILNF\u001b[0m\u001b[32mQRV\u001b[0m\u001b[31mR\u001b[0m\u001b[32mRE\u001b[0m\u001b[31mP\u001b[0m\u001b[32mG\u001b[0m\u001b[31mR\u001b[0m\u001b[32mPGNMPRPK\u001b[0m\n",
      "\n",
      "RJVV01002766.1_start=0_end=30000_frame=+2 Score=10 Fragment_start=0_end=43\n",
      "\u001b[31mSLHSASLNPFTLTDFL\u001b[0m\u001b[32mTF\u001b[0m\u001b[31mF\u001b[0m\u001b[32mHFMAPRTY\u001b[0m\u001b[31mRNFRFSQIRHPGVKSR\u001b[0m\n",
      "\n",
      "RJVV01011221.1_start=0_end=30000_frame=-1 Score=10 Fragment_start=0_end=43\n",
      "\u001b[31mQELRKMNTTRRFAVLH\u001b[0m\u001b[32mPFFKFIPP\u001b[0m\u001b[31mR\u001b[0m\u001b[32mWL\u001b[0m\u001b[31mHQSQIRTFHDKTVTLI\u001b[0m\n",
      "\n",
      "RJVV01040401.1_start=0_end=30000_frame=+2 Score=8 Fragment_start=0_end=40\n",
      "\u001b[31mELTLDSEDLKRIFLGF\u001b[0m\u001b[32mPKNSQEYS\u001b[0m\u001b[31mREFHDFP*KSHKWPRI\u001b[0m\n",
      "\n",
      "RJVV01502259.1_start=0_end=30000_frame=+1 Score=8 Fragment_start=0_end=25\n",
      "\u001b[32mPIRPRP\u001b[0m\u001b[31mP\u001b[0m\u001b[32mHP\u001b[0m\u001b[31mVSTIFIENE**LIEKK\u001b[0m\n",
      "\n",
      "RJVV01507231.1_start=0_end=30000_frame=-1 Score=7 Fragment_start=0_end=23\n",
      "\u001b[31mNLPGEESDDESIDEGY\u001b[0m\u001b[32mDSPLDRT\u001b[0m\n",
      "\n",
      "RJVV01380973.1_start=0_end=30000_frame=+3 Score=6 Fragment_start=0_end=41\n",
      "\u001b[31mTIRNVNKKFF*LLLFC\u001b[0m\u001b[32mF\u001b[0m\u001b[31mV\u001b[0m\u001b[32mPR\u001b[0m\u001b[31mA\u001b[0m\u001b[32mST\u001b[0m\u001b[31mK\u001b[0m\u001b[32mN\u001b[0m\u001b[31mYREIHHGKFKLLRNKY\u001b[0m\n",
      "\n",
      "RJVV01008589.1_start=0_end=30000_frame=-1 Score=5 Fragment_start=0_end=38\n",
      "\u001b[31mRTLRRVISPVLRRDFT\u001b[0m\u001b[32mT\u001b[0m\u001b[31mF\u001b[0m\u001b[32mFPRA\u001b[0m\u001b[31mQERDSHGTYRFTIFHK\u001b[0m\n",
      "\n",
      "RJVV01233973.1_start=0_end=30000_frame=+1 Score=5 Fragment_start=0_end=39\n",
      "\u001b[31mVYKCISKRFL*KNKEK\u001b[0m\u001b[32mF\u001b[0m\u001b[31mFF\u001b[0m\u001b[32mFYVP\u001b[0m\u001b[31mRILSQDRNDTFIFKYL\u001b[0m\n",
      "\n",
      "RJVV01557189.1_start=0_end=30000_frame=-3 Score=5 Fragment_start=0_end=21\n",
      "\u001b[32mFVTPR\u001b[0m\u001b[31mVFEDSHSYHKKTSFKS\u001b[0m\n",
      "\n",
      "RJVV01079675.1_start=0_end=30000_frame=-1 Score=5 Fragment_start=0_end=38\n",
      "\u001b[31mTFQRVSKTAIYEFSST\u001b[0m\u001b[32mF\u001b[0m\u001b[31mA\u001b[0m\u001b[32mFSYP\u001b[0m\u001b[31mFPSYKHVRFQLFYKNK\u001b[0m\n",
      "\n",
      "RJVV01449470.1_start=0_end=30000_frame=-1 Score=4 Fragment_start=0_end=20\n",
      "\u001b[32mGLYE\u001b[0m\u001b[31mFAFPRGLSPFRNSTSF\u001b[0m\n",
      "\n",
      "RJVV01530286.1_start=0_end=30000_frame=+2 Score=4 Fragment_start=0_end=22\n",
      "\u001b[31mNLPGEESDDESIDEGY\u001b[0m\u001b[32mDS\u001b[0m\u001b[31mP\u001b[0m\u001b[32mLD\u001b[0m\u001b[31mR\u001b[0m\n",
      "\n",
      "RJVV01527581.1_start=0_end=30000_frame=+2 Score=4 Fragment_start=0_end=21\n",
      "\u001b[31mQRLRREAEEFEVEDLE\u001b[0m\u001b[32mADDV\u001b[0m\u001b[31mL\u001b[0m\n",
      "\n",
      "RJVV01516498.1_start=0_end=30000_frame=+1 Score=4 Fragment_start=0_end=22\n",
      "\u001b[31mNLPGEESDDESIDEGY\u001b[0m\u001b[32mDS\u001b[0m\u001b[31mP\u001b[0m\u001b[32mLD\u001b[0m\u001b[31mR\u001b[0m\n",
      "\n",
      "RJVV01381878.1_start=0_end=30000_frame=+2 Score=4 Fragment_start=0_end=22\n",
      "\u001b[32mVF*\u001b[0m\u001b[31mLV\u001b[0m\u001b[32mP\u001b[0m\u001b[31mRALQKTRKFRVCVLPI\u001b[0m\n",
      "\n",
      "RJVV01119291.1_start=0_end=30000_frame=-2 Score=4 Fragment_start=0_end=22\n",
      "\u001b[32mVF*\u001b[0m\u001b[31mLV\u001b[0m\u001b[32mP\u001b[0m\u001b[31mRALQKTRKFRVCVLPI\u001b[0m\n",
      "\n",
      "RJVV01007264.1_start=0_end=30000_frame=+3 Score=4 Fragment_start=0_end=42\n",
      "\u001b[31mF*PF*IFVSL*LENFV\u001b[0m\u001b[32mS\u001b[0m\u001b[31mFP\u001b[0m\u001b[32mK\u001b[0m\u001b[31mTT\u001b[0m\u001b[32mN\u001b[0m\u001b[31mLH\u001b[0m\u001b[32mY\u001b[0m\u001b[31mARVRSNNDGLRK*NLN\u001b[0m\n",
      "\n",
      "RJVV01002245.1_start=0_end=30000_frame=-3 Score=4 Fragment_start=0_end=38\n",
      "\u001b[31mSLLIENFLIILYQFYK\u001b[0m\u001b[32mK\u001b[0m\u001b[31mV\u001b[0m\u001b[32mFF\u001b[0m\u001b[31mP\u001b[0m\u001b[32mR\u001b[0m\u001b[31mILHENFERFEQPLNIF\u001b[0m\n",
      "\n",
      "RJVV01173818.1_start=0_end=30000_frame=+2 Score=3 Fragment_start=0_end=19\n",
      "\u001b[31mFPTIMTGPNKPNGSNN\u001b[0m\u001b[32mLEH\u001b[0m\n",
      "\n",
      "RJVV01131629.1_start=0_end=30000_frame=+1 Score=3 Fragment_start=0_end=36\n",
      "\u001b[31mVKKGWNLFLRVFFGFS\u001b[0m\u001b[32mGP\u001b[0m\u001b[31mR\u001b[0m\u001b[32mN\u001b[0m\u001b[31mLGIDTEHNFS*NLKFL\u001b[0m\n",
      "\n",
      "RJVV01111899.1_start=0_end=30000_frame=-2 Score=3 Fragment_start=0_end=24\n",
      "\u001b[32mFP\u001b[0m\u001b[31mRALEK\u001b[0m\u001b[32mK\u001b[0m\u001b[31mRFTHTELRCVGKALNH\u001b[0m\n",
      "\n",
      "RJVV01105960.1_start=0_end=30000_frame=+3 Score=3 Fragment_start=0_end=22\n",
      "\u001b[31mGWRCSADPLKTHPYLG\u001b[0m\u001b[32mT\u001b[0m\u001b[31mLR\u001b[0m\u001b[32mP\u001b[0m\u001b[31mL\u001b[0m\u001b[32mP\u001b[0m\n",
      "\n",
      "RJVV01067361.1_start=0_end=30000_frame=+2 Score=3 Fragment_start=0_end=39\n",
      "\u001b[31mENKGRNLFLVVFYGFS\u001b[0m\u001b[32mI\u001b[0m\u001b[31mPR\u001b[0m\u001b[32mN\u001b[0m\u001b[31mME\u001b[0m\u001b[32mI\u001b[0m\u001b[31mDTEHDFL*NFYFQHPP\u001b[0m\n",
      "\n",
      "RJVV01079771.1_start=0_end=30000_frame=+2 Score=3 Fragment_start=0_end=22\n",
      "\u001b[31mGWRCSADPLKTHPYLG\u001b[0m\u001b[32mT\u001b[0m\u001b[31mLR\u001b[0m\u001b[32mP\u001b[0m\u001b[31mL\u001b[0m\u001b[32mP\u001b[0m\n",
      "\n",
      "RJVV01016727.1_start=0_end=30000_frame=-3 Score=3 Fragment_start=0_end=35\n",
      "\u001b[31mRVVDTNTVPVKSFTKF\u001b[0m\u001b[32mITP\u001b[0m\u001b[31mRAKNQSFEFFYKKEPI\u001b[0m\n",
      "\n",
      "RJVV01024432.1_start=0_end=30000_frame=-3 Score=3 Fragment_start=0_end=35\n",
      "\u001b[31mILNYLQYIKITEVSLI\u001b[0m\u001b[32mEPS\u001b[0m\u001b[31mANKRPYERVRRSPGAA\u001b[0m\n",
      "\n",
      "RJVV01006192.1_start=0_end=30000_frame=-2 Score=3 Fragment_start=0_end=35\n",
      "\u001b[31mVHPRLGRYIGLVLFLT\u001b[0m\u001b[32mFVK\u001b[0m\u001b[31mFTPRCTKTLDRFRTTF\u001b[0m\n",
      "\n",
      "RJVV01002665.1_start=0_end=30000_frame=+2 Score=3 Fragment_start=0_end=39\n",
      "\u001b[31mSKNCPIPRTLKKLSFR\u001b[0m\u001b[32mE\u001b[0m\u001b[31mYL\u001b[0m\u001b[32mV\u001b[0m\u001b[31mPR\u001b[0m\u001b[32mT\u001b[0m\u001b[31mYQHQNRKIHQQSKSY*\u001b[0m\n",
      "\n",
      "RJVV01002367.1_start=0_end=30000_frame=+1 Score=3 Fragment_start=0_end=36\n",
      "\u001b[31m*LLFGIEISRKYFIFE\u001b[0m\u001b[32mK\u001b[0m\u001b[31mP\u001b[0m\u001b[32mRE\u001b[0m\u001b[31mLLNFE*HN*KTKNAIE\u001b[0m\n",
      "\n",
      "RJVV01007014.1_start=0_end=30000_frame=+1 Score=3 Fragment_start=0_end=36\n",
      "\u001b[31mFQNFTEDFAGVFQKFS\u001b[0m\u001b[32mK\u001b[0m\u001b[31mA\u001b[0m\u001b[32mFP\u001b[0m\u001b[31mRIFRNSQGFSRNYKKF\u001b[0m\n",
      "\n",
      "RJVV01024899.1_start=0_end=30000_frame=+1 Score=2 Fragment_start=0_end=36\n",
      "\u001b[31mRSHVLPHPSALRSRVF\u001b[0m\u001b[32m*\u001b[0m\u001b[31mLV\u001b[0m\u001b[32mP\u001b[0m\u001b[31mRALQKKRKFRVCVLPI\u001b[0m\n",
      "\n",
      "RJVV01107504.1_start=0_end=30000_frame=+1 Score=2 Fragment_start=0_end=36\n",
      "\u001b[31mLPPERTSSFKFKSSVS\u001b[0m\u001b[32mI\u001b[0m\u001b[31mRI\u001b[0m\u001b[32mP\u001b[0m\u001b[31mRALEKKRSTHTELRCV\u001b[0m\n",
      "\n",
      "RJVV01077618.1_start=0_end=30000_frame=-3 Score=2 Fragment_start=0_end=36\n",
      "\u001b[31mVLYLRQAHIFLLEKFY\u001b[0m\u001b[32mF\u001b[0m\u001b[31mFV\u001b[0m\u001b[32mP\u001b[0m\u001b[31mRKYLH*RKYLK*KIHV\u001b[0m\n",
      "\n",
      "RJVV01062419.1_start=0_end=30000_frame=-2 Score=2 Fragment_start=0_end=19\n",
      "\u001b[32mF\u001b[0m\u001b[31mS\u001b[0m\u001b[32mS\u001b[0m\u001b[31mGCPRPLQRRHYGRLTL\u001b[0m\n",
      "\n",
      "RJVV01053083.1_start=0_end=30000_frame=-1 Score=2 Fragment_start=0_end=36\n",
      "\u001b[31mSILVLPHPSALRSRVF\u001b[0m\u001b[32m*\u001b[0m\u001b[31mLV\u001b[0m\u001b[32mP\u001b[0m\u001b[31mRALQKKRKFRVCVLPI\u001b[0m\n",
      "\n",
      "RJVV01295932.1_start=0_end=30000_frame=+1 Score=2 Fragment_start=0_end=36\n",
      "\u001b[31mSSLVLPHPSALRSRVF\u001b[0m\u001b[32m*\u001b[0m\u001b[31mLV\u001b[0m\u001b[32mP\u001b[0m\u001b[31mRALQKTRKFRVCVLPI\u001b[0m\n",
      "\n",
      "RJVV01014545.1_start=0_end=30000_frame=+2 Score=2 Fragment_start=0_end=36\n",
      "\u001b[31mCFLVPWIKKSLFVPRK\u001b[0m\u001b[32mL\u001b[0m\u001b[31mFF\u001b[0m\u001b[32mF\u001b[0m\u001b[31mVFKKCMQQRVKENYYF\u001b[0m\n",
      "\n",
      "RJVV01011547.1_start=0_end=30000_frame=+1 Score=2 Fragment_start=0_end=36\n",
      "\u001b[31mLH*VFDYRSYFLFPQI\u001b[0m\u001b[32mP\u001b[0m\u001b[31mRL\u001b[0m\u001b[32mL\u001b[0m\u001b[31mSLNRSKVFRYHNQT*F\u001b[0m\n",
      "\n",
      "RJVV01007014.1_start=0_end=30000_frame=-1 Score=2 Fragment_start=0_end=36\n",
      "\u001b[31mLRRS*EFLEYFWEFFK\u001b[0m\u001b[32mI\u001b[0m\u001b[31mPR\u001b[0m\u001b[32mN\u001b[0m\u001b[31mSQGFSRNS*ENPTEIP\u001b[0m\n",
      "\n",
      "RJVV01001016.1_start=0_end=30000_frame=-1 Score=2 Fragment_start=0_end=34\n",
      "\u001b[31mSLLFVSSFSFITNFFL\u001b[0m\u001b[32mSF\u001b[0m\u001b[31mVPPRALGNEQSNFQIW\u001b[0m\n",
      "\n",
      "RJVV01000393.1_start=0_end=30000_frame=-2 Score=2 Fragment_start=0_end=36\n",
      "\u001b[31mLGNRSLLSPLVSIFFF\u001b[0m\u001b[32mF\u001b[0m\u001b[31mFF\u001b[0m\u001b[32mF\u001b[0m\u001b[31mIQPRALEQSHVAPRWK\u001b[0m\n",
      "\n",
      "RJVV01014521.1_start=0_end=30000_frame=-3 Score=2 Fragment_start=0_end=36\n",
      "\u001b[31mNSLLKMFFVAESSSSF\u001b[0m\u001b[32mT\u001b[0m\u001b[31mAF\u001b[0m\u001b[32mP\u001b[0m\u001b[31mESKHSNRHEHKGFQQL\u001b[0m\n",
      "\n",
      "RJVV01204369.1_start=0_end=30000_frame=+2 Score=1 Fragment_start=0_end=17\n",
      "\u001b[31mHLGSAQPRPRTMLLFE\u001b[0m\u001b[32mP\u001b[0m\n",
      "\n",
      "RJVV01460155.1_start=0_end=30000_frame=-1 Score=1 Fragment_start=0_end=17\n",
      "\u001b[32mL\u001b[0m\u001b[31mSFAVPMVWRKQKNHES\u001b[0m\n",
      "\n",
      "RJVV01382534.1_start=0_end=30000_frame=-1 Score=1 Fragment_start=0_end=17\n",
      "\u001b[32mM\u001b[0m\u001b[31mESQKSPLPLERVRDAA\u001b[0m\n",
      "\n",
      "RJVV01308114.1_start=0_end=30000_frame=+1 Score=1 Fragment_start=0_end=17\n",
      "\u001b[32mM\u001b[0m\u001b[31mESQKSPLPLERVRDAA\u001b[0m\n",
      "\n",
      "RJVV01272546.1_start=0_end=30000_frame=-1 Score=1 Fragment_start=0_end=17\n",
      "\u001b[32mK\u001b[0m\u001b[31mSSM*FPRALEKKRSTH\u001b[0m\n",
      "\n",
      "RJVV01215112.1_start=0_end=30000_frame=-2 Score=1 Fragment_start=0_end=17\n",
      "\u001b[31mEEGREIEEIKFFNTKN\u001b[0m\u001b[32mS\u001b[0m\n",
      "\n",
      "RJVV01205109.1_start=0_end=30000_frame=+3 Score=1 Fragment_start=0_end=17\n",
      "\u001b[32mF\u001b[0m\u001b[31mKGFAPPLNIVRFQNKK\u001b[0m\n",
      "\n",
      "RJVV01116417.1_start=0_end=30000_frame=+1 Score=1 Fragment_start=0_end=33\n",
      "\u001b[31mVLPHPSALRSRLF*LV\u001b[0m\u001b[32mP\u001b[0m\u001b[31mRAIQKKRQFRVCVLPI\u001b[0m\n",
      "\n",
      "RJVV01141014.1_start=0_end=30000_frame=+1 Score=1 Fragment_start=0_end=17\n",
      "\u001b[32mF\u001b[0m\u001b[31mKGFAPPLNIVRFQNKK\u001b[0m\n",
      "\n",
      "RJVV01136111.1_start=0_end=30000_frame=+1 Score=1 Fragment_start=0_end=17\n",
      "\u001b[32mF\u001b[0m\u001b[31mKGFAPPLNIVRFQNKK\u001b[0m\n",
      "\n",
      "RJVV01079819.1_start=0_end=30000_frame=+3 Score=1 Fragment_start=0_end=17\n",
      "\u001b[31mKRQGKKVTKVEKQEEW\u001b[0m\u001b[32mY\u001b[0m\n",
      "\n",
      "RJVV01062241.1_start=0_end=30000_frame=+1 Score=1 Fragment_start=0_end=17\n",
      "\u001b[31mHLGSAQPRPRTMLLFE\u001b[0m\u001b[32mP\u001b[0m\n",
      "\n",
      "RJVV01022902.1_start=0_end=30000_frame=-2 Score=1 Fragment_start=0_end=33\n",
      "\u001b[31mLKL*RFLVKIFEFFFF\u001b[0m\u001b[32mD\u001b[0m\u001b[31mSPRVLSISKNIRHQNI\u001b[0m\n",
      "\n",
      "RJVV01000055.1_start=29700_end=59700_frame=-1 Score=1 Fragment_start=0_end=33\n",
      "\u001b[31mPCNRFSSSWPPRAIEF\u001b[0m\u001b[32mL\u001b[0m\u001b[31mFLAFSPAIFEHRRFHC\u001b[0m\n",
      "\n",
      "RJVV01683739.1_start=0_end=30000_frame=-3 Score=1 Fragment_start=0_end=17\n",
      "\u001b[32mN\u001b[0m\u001b[31mFKGFVTPLNIVRFKKK\u001b[0m\n",
      "\n"
     ]
    }
   ],
   "source": [
    "fp_rec_ids = {FragmentRecordId(rec_id) for rec_id in fp_map}\n",
    "fp_predictions = extract_fp_aa_predictions(predictions_data.query(\"record_id in @fp_rec_ids\"), kernel_size=33)\n",
    "for _, row in fp_predictions.iterrows():\n",
    "    visualize_single_prediction(row.sequence, row.prediction_mask, caption=f\"{row.record_id} Score={row.pos_count}\")\n",
    "    print()"
   ]
  },
  {
   "cell_type": "markdown",
   "id": "4543ad93-37c6-4080-830a-f67642b6eb42",
   "metadata": {},
   "source": [
    "## Detailed"
   ]
  },
  {
   "cell_type": "code",
   "execution_count": 12,
   "id": "5f53d936-3eb7-4ec7-8200-e5615033f513",
   "metadata": {},
   "outputs": [
    {
     "name": "stdout",
     "output_type": "stream",
     "text": [
      "RJVV01491319.1_start=0_end=30000_frame=-1 Score=14 Fragment_start=0_end=89\n",
      "\u001b[31mS*RT*SRRP*SR*RFALRGNKRSIFYCVKI*L*KHFI*EN*NLF*N*NKNKIF*KGTIG*NIPIFNYIILNF\u001b[0m\u001b[32mQRV\u001b[0m\u001b[31mR\u001b[0m\u001b[32mRE\u001b[0m\u001b[31mP\u001b[0m\u001b[32mG\u001b[0m\u001b[31mR\u001b[0m\u001b[32mPGNMPRPK\u001b[0m\n",
      "RJVV01491319.1_start=0_end=30000_frame=-2 Score=0 Fragment_start=0_end=88\n",
      "\u001b[31mAEELEVEDLEADDVLPLEVTKDRFFIV*KYNYKNILFKKIEIYFKIKTKIKYFKKGQLAKIFQFLII*F*TFREFVENQAVQEICHDL\u001b[0m\n",
      "RJVV01491319.1_start=0_end=30000_frame=-3 Score=0 Fragment_start=0_end=88\n",
      "\u001b[31mLKNLK*KTLKQMTFCP*R*QKIDFLLCENIIIKTFYLRKLKFILKLKQK*NILKRDNWLKYSNF*LYNFKLSESSSRTRPSRKYATT*\u001b[0m\n",
      "RJVV01491319.1_start=0_end=30000_frame=- Fragment_start=0_end=267\n",
      "\u001b[31mAGCTGAAGAACTTGAAGTAGAAGACCTTGAAGCAGATGACGTTTTGCCCTTAGAGGTAACAAAAGATCGATTTTTTATTGtgtgaaaatataattataaaaacattttatttaagaaaattgaaatttattttaaaattaaaacaaaaataaaatattttaaaaagggaCAATTGGctaaaatattccaatttttaattatataattttaaacttt\u001b[0m\u001b[32mcagagAGTT\u001b[0m\u001b[31mCGT\u001b[0m\u001b[32mCGAGAA\u001b[0m\u001b[31mCCA\u001b[0m\u001b[32mGGC\u001b[0m\u001b[31mCGT\u001b[0m\u001b[32mCCAGGAAATATGCCACGACCTAAA\u001b[0m\n",
      "========================================================================================================================\n",
      "                                                                                                                        \n"
     ]
    }
   ],
   "source": [
    "TARGET_RECORD_ID = \"RJVV01491319.1_start=0_end=30000_frame=-\"\n",
    "SHOW_NUCLEOTIDE = True\n",
    "SHOW_TRANSLATED = True\n",
    "SHOW_MISSING_FRAMES = True\n",
    "NUCL_VISUAL_OFFSET = np.array((1500, 500))\n",
    "AA_VISUAL_OFFSET = NUCL_VISUAL_OFFSET // 3\n",
    "\n",
    "\n",
    "fp_selected_data = predictions_data[predictions_data.record_id.astype(str).str.startswith(TARGET_RECORD_ID)]\n",
    "\n",
    "\n",
    "visualize_predictions(fp_selected_data, genomic_map, proteome_map, show_translated=SHOW_TRANSLATED, show_nucleotide=SHOW_NUCLEOTIDE, show_missing_frames=SHOW_MISSING_FRAMES, nucl_visual_offset=NUCL_VISUAL_OFFSET)"
   ]
  },
  {
   "cell_type": "code",
   "execution_count": 35,
   "id": "12288adb-28f0-4dbf-ae83-953d7bc69630",
   "metadata": {},
   "outputs": [
    {
     "name": "stdout",
     "output_type": "stream",
     "text": [
      "RJVV01491319.1_start=0_end=30000_frame=-1 Score=14 Fragment_start=0_end=89\n",
      "\u001b[31mS*RT*SRRP*SR*RFALRGNKRSIFYCVKI*L*KHFI*EN*NLF*N*NKNKIF*KGTIG*NIPIFNYIILNF\u001b[0m\u001b[32mQRV\u001b[0m\u001b[31mR\u001b[0m\u001b[32mRE\u001b[0m\u001b[31mP\u001b[0m\u001b[32mG\u001b[0m\u001b[31mR\u001b[0m\u001b[32mPGNMPRPK\u001b[0m\n",
      "RJVV01491319.1_start=0_end=30000_frame=-2 Score=0 Fragment_start=0_end=88\n",
      "\u001b[31mAEELEVEDLEADDVLPLEVTKDRFFIV*KYNYKNILFKKIEIYFKIKTKIKYFKKGQLAKIFQFLII*F*TFREFVENQAVQEICHDL\u001b[0m\n",
      "RJVV01491319.1_start=0_end=30000_frame=-3 Score=0 Fragment_start=0_end=88\n",
      "\u001b[31mLKNLK*KTLKQMTFCP*R*QKIDFLLCENIIIKTFYLRKLKFILKLKQK*NILKRDNWLKYSNF*LYNFKLSESSSRTRPSRKYATT*\u001b[0m\n",
      "RJVV01491319.1_start=0_end=30000_frame=- Fragment_start=0_end=267\n",
      "\u001b[31mAGCTGAAGAACTTGAAGTAGAAGACCTTGAAGCAGATGACGTTTTGCCCTTAGAGGTAACAAAAGATCGATTTTTTATTGtgtgaaaatataattataaaaacattttatttaagaaaattgaaatttattttaaaattaaaacaaaaataaaatattttaaaaagggaCAATTGGctaaaatattccaatttttaattatataattttaaacttt\u001b[0m\u001b[32mcagagAGTT\u001b[0m\u001b[31mCGT\u001b[0m\u001b[32mCGAGAA\u001b[0m\u001b[31mCCA\u001b[0m\u001b[32mGGC\u001b[0m\u001b[31mCGT\u001b[0m\u001b[32mCCAGGAAATATGCCACGACCTAAA\u001b[0m\n",
      "========================================================================================================================\n",
      "                                                                                                                        \n"
     ]
    }
   ],
   "source": [
    "TARGET_RECORD_ID = \"RJVV01491319.1_start=0_end=30000_frame=-\"\n",
    "SHOW_NUCLEOTIDE = True\n",
    "SHOW_TRANSLATED = True\n",
    "SHOW_MISSING_FRAMES = True\n",
    "NUCL_VISUAL_OFFSET = np.array((1500, 500))\n",
    "AA_VISUAL_OFFSET = NUCL_VISUAL_OFFSET // 3\n",
    "\n",
    "\n",
    "fp_selected_data = predictions_data[predictions_data.record_id.astype(str).str.startswith(TARGET_RECORD_ID)]\n",
    "\n",
    "\n",
    "visualize_predictions(fp_selected_data, genome_map=genome_map, proteome_map=proteome_map, show_translated=SHOW_TRANSLATED, show_nucleotide=SHOW_NUCLEOTIDE, show_missing_frames=SHOW_MISSING_FRAMES, nucl_offset=NUCL_VISUAL_OFFSET)"
   ]
  },
  {
   "cell_type": "markdown",
   "id": "94e94f3a-5025-4683-a854-a61334333287",
   "metadata": {},
   "source": [
    "# Proteins"
   ]
  },
  {
   "cell_type": "code",
   "execution_count": 14,
   "id": "9d8e098f-5f04-4c9a-acc5-0493df17d254",
   "metadata": {},
   "outputs": [
    {
     "name": "stdout",
     "output_type": "stream",
     "text": [
      "0 RJVV01031371.1_start=0_end=30000_frame=+ Gene_start=1393 Gene_end=3525 Auto\n",
      "MAKISAFLIVALFAFAALSVQAEPEPARGGKPSRPRPPPIKPRPPHPRLRREAEGLEEDVAEVETDEVEESAVALDRVRREPGRPGNMPRPKPIPIRPRPPHPRLRREAEELEAEDVLPLERLRREAEELEAEDLEADEVLPLERVRREPGRPGNMPRPKPIPIRPRPPHPRLRREAEELEVEDLEADDVLPLERVRREPGRPGNMPRPKPIPIRPRPPHPVSIIFIENE\n",
      "\n",
      "1 RJVV01183868.1_start=0_end=30000_frame=- Gene_start=28 Gene_end=535 Auto\n",
      "MPRPKPIPIRPRPPHPRLRREAEELEVEDLEADDVLPLERVRREPGRPGNMPRPKPIPIRPRPPHPVSTIFIENE\n",
      "\n",
      "2 RJVV01026129.1_start=0_end=30000_frame=+ Gene_start=1395 Gene_end=2603 Auto\n",
      "MAKISAFLIVALFAFAALSVQAEPEPARGGKPSRPRPPPIKPRPPHPRLRREAEGLEEDVAEVETDEVEESAVALDRVRREPGRPGNMPRPKPIPIRPRPPHPRLRREAEELEAEDVLPLESPSRTRPSRKYATT\n",
      "\n"
     ]
    }
   ],
   "source": [
    "records = get_augustus_proteins(annotation_file)\n",
    "for idx, record in enumerate(records):\n",
    "    print(idx, record.id, record.description)\n",
    "    print(record.seq)\n",
    "    print()"
   ]
  },
  {
   "cell_type": "markdown",
   "id": "08cf1dfd-6584-4ab2-a874-cb392efafae5",
   "metadata": {},
   "source": [
    "# Commit proteins"
   ]
  },
  {
   "cell_type": "code",
   "execution_count": 21,
   "id": "345816ee-bdea-4a09-aa29-0c375ccac4dc",
   "metadata": {},
   "outputs": [],
   "source": [
    "def commit_proteins(proteins_file, new_records, force=False):\n",
    "    all_proteins = {rec.id: rec for rec in SeqIO.parse(proteins_file, \"fasta\")}\n",
    "    for record in new_records:\n",
    "        if record.id in all_proteins and not force:\n",
    "            warnings.warn(f\"Protein {record.id} is already commited. Skipping...\", category=UserWarning)\n",
    "            continue\n",
    "        all_proteins[record.id] = record\n",
    "    return SeqIO.write(list(all_proteins.values()), proteins_file, \"fasta\")"
   ]
  },
  {
   "cell_type": "markdown",
   "id": "daa28e87-9eef-495b-93bc-0cbe95b07c5d",
   "metadata": {},
   "source": [
    "## Commit auto"
   ]
  },
  {
   "cell_type": "code",
   "execution_count": 22,
   "id": "73f91c09-778e-497e-9106-a3884c48d4c3",
   "metadata": {},
   "outputs": [
    {
     "name": "stdout",
     "output_type": "stream",
     "text": [
      "0 RJVV01031371.1_start=0_end=30000_frame=+ Gene_start=1393 Gene_end=3525 Auto\n",
      "MAKISAFLIVALFAFAALSVQAEPEPARGGKPSRPRPPPIKPRPPHPRLRREAEGLEEDVAEVETDEVEESAVALDRVRREPGRPGNMPRPKPIPIRPRPPHPRLRREAEELEAEDVLPLERLRREAEELEAEDLEADEVLPLERVRREPGRPGNMPRPKPIPIRPRPPHPRLRREAEELEVEDLEADDVLPLERVRREPGRPGNMPRPKPIPIRPRPPHPVSIIFIENE\n",
      "\n",
      "1 RJVV01183868.1_start=0_end=30000_frame=- Gene_start=28 Gene_end=535 Auto\n",
      "MPRPKPIPIRPRPPHPRLRREAEELEVEDLEADDVLPLERVRREPGRPGNMPRPKPIPIRPRPPHPVSTIFIENE\n",
      "\n",
      "2 RJVV01026129.1_start=0_end=30000_frame=+ Gene_start=1395 Gene_end=2603 Auto\n",
      "MAKISAFLIVALFAFAALSVQAEPEPARGGKPSRPRPPPIKPRPPHPRLRREAEGLEEDVAEVETDEVEESAVALDRVRREPGRPGNMPRPKPIPIRPRPPHPRLRREAEELEAEDVLPLESPSRTRPSRKYATT\n",
      "\n"
     ]
    }
   ],
   "source": [
    "subset_to_commit = [0, 1, 2]\n",
    "records_to_commit = [records[idx] for idx in subset_to_commit]\n",
    "for idx, record in enumerate(records_to_commit):\n",
    "    print(idx, record.id, record.description)\n",
    "    print(record.seq)\n",
    "    print()"
   ]
  },
  {
   "cell_type": "code",
   "execution_count": 23,
   "id": "a54e0b2d-5fa1-42dd-969e-108c12bb3606",
   "metadata": {},
   "outputs": [
    {
     "data": {
      "text/plain": [
       "3"
      ]
     },
     "execution_count": 23,
     "metadata": {},
     "output_type": "execute_result"
    }
   ],
   "source": [
    "commit_proteins(\"hymenoptera_proteins.faa\", records_to_commit)"
   ]
  },
  {
   "cell_type": "markdown",
   "id": "8d3dfd77-1808-4773-90d4-051cd50a18bc",
   "metadata": {},
   "source": [
    "## Commit custom"
   ]
  },
  {
   "cell_type": "code",
   "execution_count": 168,
   "id": "0b68dffb-d70b-40fe-83a0-5b07dee5813e",
   "metadata": {},
   "outputs": [
    {
     "ename": "SyntaxError",
     "evalue": "f-string: empty expression not allowed (1575694441.py, line 5)",
     "output_type": "error",
     "traceback": [
      "\u001b[0;36m  Cell \u001b[0;32mIn[168], line 5\u001b[0;36m\u001b[0m\n\u001b[0;31m    )\u001b[0m\n\u001b[0m    ^\u001b[0m\n\u001b[0;31mSyntaxError\u001b[0m\u001b[0;31m:\u001b[0m f-string: empty expression not allowed\n"
     ]
    }
   ],
   "source": [
    "custom_record = SeqRecord(\n",
    "    Seq(\"\"),\n",
    "    id=\"\",\n",
    "    description=f\"Gene_start={} Gene_end={} Manual\"\n",
    ")\n",
    "custom_record"
   ]
  },
  {
   "cell_type": "code",
   "execution_count": null,
   "id": "4d0ef6ac-186c-420a-b617-70d43913ee76",
   "metadata": {},
   "outputs": [],
   "source": [
    "# commit_proteins(\"hymenoptera_proteins.faa\", [custom_record])"
   ]
  }
 ],
 "metadata": {
  "kernelspec": {
   "display_name": "Python 3 (ipykernel)",
   "language": "python",
   "name": "python3"
  },
  "language_info": {
   "codemirror_mode": {
    "name": "ipython",
    "version": 3
   },
   "file_extension": ".py",
   "mimetype": "text/x-python",
   "name": "python",
   "nbconvert_exporter": "python",
   "pygments_lexer": "ipython3",
   "version": "3.10.9"
  }
 },
 "nbformat": 4,
 "nbformat_minor": 5
}
