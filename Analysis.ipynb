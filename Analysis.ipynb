{
 "cells": [
  {
   "cell_type": "code",
   "execution_count": 2,
   "id": "76fd29fb-f905-41cf-906b-6170a8efd765",
   "metadata": {},
   "outputs": [],
   "source": [
    "import yaml\n",
    "import itertools\n",
    "import re\n",
    "import warnings\n",
    "from pathlib import Path\n",
    "\n",
    "import numpy as np\n",
    "import pandas as pd\n",
    "from Bio import SeqIO\n",
    "from Bio.Seq import Seq\n",
    "from Bio.SeqRecord import SeqRecord\n",
    "\n",
    "from src.config import read_yaml_config, get_value_from_config\n",
    "from src.io import read_fasta_as_dict, get_augustus_proteins, read_predictions, read_predictions_from_fasta\n",
    "from src.visual import visualize_predictions, visualize_single_prediction\n",
    "\n",
    "\n",
    "warnings.filterwarnings(\"ignore\", category=pd.errors.SettingWithCopyWarning)"
   ]
  },
  {
   "cell_type": "code",
   "execution_count": 3,
   "id": "14e5484e-c9fe-4c24-9118-703ae28d9a04",
   "metadata": {},
   "outputs": [],
   "source": [
    "config = read_yaml_config(\"config.yaml\")"
   ]
  },
  {
   "cell_type": "code",
   "execution_count": 4,
   "id": "4373f81d-d278-4428-a926-1bf1a3a3109c",
   "metadata": {},
   "outputs": [],
   "source": [
    "TARGET_SPECIES = \"Andrena_dorsata\""
   ]
  },
  {
   "cell_type": "code",
   "execution_count": 5,
   "id": "4029feb1-b0de-4a20-a04d-2247a9b917b1",
   "metadata": {},
   "outputs": [],
   "source": [
    "TARGET_SPECIES = TARGET_SPECIES.replace(\" \", \"_\")\n",
    "genome_file = Path(config['data_locations']['genomes_dir']) / f'{TARGET_SPECIES}.fna'\n",
    "proteome_file = Path(config['data_locations']['proteomes_dir']) / f'{TARGET_SPECIES}.faa'\n",
    "predictions_file = Path(config['data_locations']['scored_predictions_dir']) / f'{TARGET_SPECIES}.tsv'\n",
    "genes_file = Path(config['data_locations']['gene_predictions_dir']) / f'{TARGET_SPECIES}.fna'\n",
    "annotation_file = Path(config['data_locations']['gene_annotations_dir']) / f'{TARGET_SPECIES}.gff'\n",
    "false_positives_file = Path(config['data_locations']['false_positives_dir']) / f'{TARGET_SPECIES}.faa'"
   ]
  },
  {
   "cell_type": "code",
   "execution_count": 6,
   "id": "4f963c9e-1d8b-4313-976a-0925b3a6ff4c",
   "metadata": {},
   "outputs": [],
   "source": [
    "genome_map = read_fasta_as_dict(genome_file)\n",
    "proteome_map = read_fasta_as_dict(proteome_file)\n",
    "genes_map = read_fasta_as_dict(genes_file)\n",
    "fp_map = read_fasta_as_dict(false_positives_file)\n",
    "predictions_data = read_predictions(predictions_file)"
   ]
  },
  {
   "cell_type": "code",
   "execution_count": 7,
   "id": "ac17c00c-502d-43f4-82c1-da9ba750edf0",
   "metadata": {},
   "outputs": [
    {
     "data": {
      "text/html": [
       "<div>\n",
       "<style scoped>\n",
       "    .dataframe tbody tr th:only-of-type {\n",
       "        vertical-align: middle;\n",
       "    }\n",
       "\n",
       "    .dataframe tbody tr th {\n",
       "        vertical-align: top;\n",
       "    }\n",
       "\n",
       "    .dataframe thead th {\n",
       "        text-align: right;\n",
       "    }\n",
       "</style>\n",
       "<table border=\"1\" class=\"dataframe\">\n",
       "  <thead>\n",
       "    <tr style=\"text-align: right;\">\n",
       "      <th></th>\n",
       "      <th>t_record_id</th>\n",
       "      <th>g_record_id</th>\n",
       "      <th>pos_count</th>\n",
       "      <th>score</th>\n",
       "      <th>model_name</th>\n",
       "      <th>frame</th>\n",
       "      <th>record_description</th>\n",
       "      <th>prediction_mask</th>\n",
       "      <th>sequence</th>\n",
       "    </tr>\n",
       "  </thead>\n",
       "  <tbody>\n",
       "    <tr>\n",
       "      <th>0</th>\n",
       "      <td>OV815488.1_start=69205000_end=69235000_frame=+1</td>\n",
       "      <td>OV815488.1_start=69205000_end=69235000_frame=+</td>\n",
       "      <td>112</td>\n",
       "      <td>282.0</td>\n",
       "      <td>HybridModel_1000_cuda_v1</td>\n",
       "      <td>1</td>\n",
       "      <td>OV815488.1_start=69205000_end=69235000_frame=+...</td>\n",
       "      <td>[False, False, False, False, False, False, Fal...</td>\n",
       "      <td>MDTSGINVHVQNRREYKPKMCPF*RILVPNYLLCN*SLKVLIRHFD...</td>\n",
       "    </tr>\n",
       "    <tr>\n",
       "      <th>1</th>\n",
       "      <td>OV815488.1_start=69205000_end=69235000_frame=+3</td>\n",
       "      <td>OV815488.1_start=69205000_end=69235000_frame=+</td>\n",
       "      <td>100</td>\n",
       "      <td>282.0</td>\n",
       "      <td>HybridModel_1000_cuda_v1</td>\n",
       "      <td>3</td>\n",
       "      <td>OV815488.1_start=69205000_end=69235000_frame=+...</td>\n",
       "      <td>[False, False, False, False, False, False, Fal...</td>\n",
       "      <td>GHVGH*RPRPKQKGI*AKDVSLLANISA*LSAM*LISESFNQTL*S...</td>\n",
       "    </tr>\n",
       "    <tr>\n",
       "      <th>2</th>\n",
       "      <td>OV815488.1_start=69205000_end=69235000_frame=+2</td>\n",
       "      <td>OV815488.1_start=69205000_end=69235000_frame=+</td>\n",
       "      <td>80</td>\n",
       "      <td>282.0</td>\n",
       "      <td>HybridModel_1000_cuda_v1</td>\n",
       "      <td>2</td>\n",
       "      <td>OV815488.1_start=69205000_end=69235000_frame=+...</td>\n",
       "      <td>[False, False, False, False, False, False, Fal...</td>\n",
       "      <td>WTRRALTSTSKTEGNISQRCVPFSEY*CLTICYVIDL*KF*SDTLI...</td>\n",
       "    </tr>\n",
       "    <tr>\n",
       "      <th>3</th>\n",
       "      <td>CAKMYH010000097.1_start=145000_end=175000_fram...</td>\n",
       "      <td>CAKMYH010000097.1_start=145000_end=175000_frame=+</td>\n",
       "      <td>16</td>\n",
       "      <td>16.0</td>\n",
       "      <td>HybridModel_1000_cuda_v1</td>\n",
       "      <td>1</td>\n",
       "      <td>CAKMYH010000097.1_start=145000_end=175000_fram...</td>\n",
       "      <td>[False, False, False, False, False, False, Fal...</td>\n",
       "      <td>PGTRQRMGIDENHESNRQCQQVQSAARGMLRQVAAYIVFEESHN*R...</td>\n",
       "    </tr>\n",
       "    <tr>\n",
       "      <th>4</th>\n",
       "      <td>CAKMYH010000097.1_start=295000_end=313107_fram...</td>\n",
       "      <td>CAKMYH010000097.1_start=295000_end=313107_frame=+</td>\n",
       "      <td>16</td>\n",
       "      <td>16.0</td>\n",
       "      <td>HybridModel_1000_cuda_v1</td>\n",
       "      <td>2</td>\n",
       "      <td>CAKMYH010000097.1_start=295000_end=313107_fram...</td>\n",
       "      <td>[False, False, False, False, False, False, Fal...</td>\n",
       "      <td>GLINFVAPGRRRVGRNWDE*AFIQR*EASEF*TPFPPRYDGKGVEF...</td>\n",
       "    </tr>\n",
       "    <tr>\n",
       "      <th>5</th>\n",
       "      <td>OV815488.1_start=7825000_end=7855000_frame=-1</td>\n",
       "      <td>OV815488.1_start=7825000_end=7855000_frame=-</td>\n",
       "      <td>13</td>\n",
       "      <td>13.0</td>\n",
       "      <td>HybridModel_1000_cuda_v1</td>\n",
       "      <td>1</td>\n",
       "      <td>OV815488.1_start=7825000_end=7855000_frame=-1 ...</td>\n",
       "      <td>[False, False, False, False, False, False, Fal...</td>\n",
       "      <td>*RNG*RRLIRQNGKWKKRNGIL*SFVTLAAFRIRVLLLVINVFA*A...</td>\n",
       "    </tr>\n",
       "    <tr>\n",
       "      <th>6</th>\n",
       "      <td>OV815488.1_start=40615000_end=40645000_frame=+1</td>\n",
       "      <td>OV815488.1_start=40615000_end=40645000_frame=+</td>\n",
       "      <td>12</td>\n",
       "      <td>11.0</td>\n",
       "      <td>HybridModel_1000_cuda_v1</td>\n",
       "      <td>1</td>\n",
       "      <td>OV815488.1_start=40615000_end=40645000_frame=+...</td>\n",
       "      <td>[False, False, False, False, False, False, Fal...</td>\n",
       "      <td>ERIIRLKFPLVARADPPGVQLFSDICLQATT**GRAIWKHYPRL*F...</td>\n",
       "    </tr>\n",
       "    <tr>\n",
       "      <th>7</th>\n",
       "      <td>OV815487.1_start=65965000_end=65995000_frame=-3</td>\n",
       "      <td>OV815487.1_start=65965000_end=65995000_frame=-</td>\n",
       "      <td>8</td>\n",
       "      <td>7.0</td>\n",
       "      <td>HybridModel_1000_cuda_v1</td>\n",
       "      <td>3</td>\n",
       "      <td>OV815487.1_start=65965000_end=65995000_frame=-...</td>\n",
       "      <td>[False, False, False, False, False, False, Fal...</td>\n",
       "      <td>LLRRLLIYICRCILNGKCLISC*LDLVIIRRTGIVGVCYGRLRKSS...</td>\n",
       "    </tr>\n",
       "    <tr>\n",
       "      <th>8</th>\n",
       "      <td>OV815488.1_start=25375000_end=25405000_frame=+3</td>\n",
       "      <td>OV815488.1_start=25375000_end=25405000_frame=+</td>\n",
       "      <td>7</td>\n",
       "      <td>6.0</td>\n",
       "      <td>HybridModel_1000_cuda_v1</td>\n",
       "      <td>3</td>\n",
       "      <td>OV815488.1_start=25375000_end=25405000_frame=+...</td>\n",
       "      <td>[False, False, False, False, False, False, Fal...</td>\n",
       "      <td>EIGENPTYRGIARGKERSDLRRDSFDCLLGEVKTALRVNEGLSFAE...</td>\n",
       "    </tr>\n",
       "    <tr>\n",
       "      <th>9</th>\n",
       "      <td>OV815487.1_start=77215000_end=77245000_frame=-1</td>\n",
       "      <td>OV815487.1_start=77215000_end=77245000_frame=-</td>\n",
       "      <td>5</td>\n",
       "      <td>4.0</td>\n",
       "      <td>HybridModel_1000_cuda_v1</td>\n",
       "      <td>1</td>\n",
       "      <td>OV815487.1_start=77215000_end=77245000_frame=-...</td>\n",
       "      <td>[False, False, False, False, False, False, Fal...</td>\n",
       "      <td>NDTVSLTYGGGGVWGGGGLYLRGCVLIPIYQSSDRNVKGSDTSHMC...</td>\n",
       "    </tr>\n",
       "    <tr>\n",
       "      <th>10</th>\n",
       "      <td>OV815489.1_start=29755000_end=29785000_frame=+2</td>\n",
       "      <td>OV815489.1_start=29755000_end=29785000_frame=+</td>\n",
       "      <td>3</td>\n",
       "      <td>3.0</td>\n",
       "      <td>HybridModel_1000_cuda_v1</td>\n",
       "      <td>2</td>\n",
       "      <td>OV815489.1_start=29755000_end=29785000_frame=+...</td>\n",
       "      <td>[False, False, False, False, False, False, Fal...</td>\n",
       "      <td>*HVTVS*RE*IMIDSCKSPRATSLYAPF*FLFFLAEVPFNLARRTG...</td>\n",
       "    </tr>\n",
       "    <tr>\n",
       "      <th>11</th>\n",
       "      <td>OV815487.1_start=62065000_end=62095000_frame=+1</td>\n",
       "      <td>OV815487.1_start=62065000_end=62095000_frame=+</td>\n",
       "      <td>2</td>\n",
       "      <td>2.0</td>\n",
       "      <td>HybridModel_1000_cuda_v1</td>\n",
       "      <td>1</td>\n",
       "      <td>OV815487.1_start=62065000_end=62095000_frame=+...</td>\n",
       "      <td>[False, False, False, False, False, False, Fal...</td>\n",
       "      <td>DLQPICATPTEFSIDVTLTYREGVLLVFFQWRHMK*HYAMLCLV*S...</td>\n",
       "    </tr>\n",
       "    <tr>\n",
       "      <th>12</th>\n",
       "      <td>OV815487.1_start=49585000_end=49615000_frame=+3</td>\n",
       "      <td>OV815487.1_start=49585000_end=49615000_frame=+</td>\n",
       "      <td>3</td>\n",
       "      <td>2.0</td>\n",
       "      <td>HybridModel_1000_cuda_v1</td>\n",
       "      <td>3</td>\n",
       "      <td>OV815487.1_start=49585000_end=49615000_frame=+...</td>\n",
       "      <td>[False, False, False, False, False, False, Fal...</td>\n",
       "      <td>RTDFRSGDRNDSLASSIRDNELLS*WYYPGHLASSAPPLQRPPLPH...</td>\n",
       "    </tr>\n",
       "    <tr>\n",
       "      <th>13</th>\n",
       "      <td>OV815488.1_start=74545000_end=74575000_frame=+3</td>\n",
       "      <td>OV815488.1_start=74545000_end=74575000_frame=+</td>\n",
       "      <td>2</td>\n",
       "      <td>2.0</td>\n",
       "      <td>HybridModel_1000_cuda_v1</td>\n",
       "      <td>3</td>\n",
       "      <td>OV815488.1_start=74545000_end=74575000_frame=+...</td>\n",
       "      <td>[False, False, False, False, False, False, Fal...</td>\n",
       "      <td>VPFYFLYDAL*ARNCHKQWLPSQASLIPRHFASSSVVSAPLCRAFP...</td>\n",
       "    </tr>\n",
       "    <tr>\n",
       "      <th>14</th>\n",
       "      <td>OV815489.1_start=66475000_end=66505000_frame=+3</td>\n",
       "      <td>OV815489.1_start=66475000_end=66505000_frame=+</td>\n",
       "      <td>2</td>\n",
       "      <td>2.0</td>\n",
       "      <td>HybridModel_1000_cuda_v1</td>\n",
       "      <td>3</td>\n",
       "      <td>OV815489.1_start=66475000_end=66505000_frame=+...</td>\n",
       "      <td>[False, False, False, False, False, False, Fal...</td>\n",
       "      <td>HYIVNSAAVFTRSLRELINYYCAPPYVC*RSKLLFKEFQFQMIRN*...</td>\n",
       "    </tr>\n",
       "  </tbody>\n",
       "</table>\n",
       "</div>"
      ],
      "text/plain": [
       "                                          t_record_id  ...                                           sequence\n",
       "0     OV815488.1_start=69205000_end=69235000_frame=+1  ...  MDTSGINVHVQNRREYKPKMCPF*RILVPNYLLCN*SLKVLIRHFD...\n",
       "1     OV815488.1_start=69205000_end=69235000_frame=+3  ...  GHVGH*RPRPKQKGI*AKDVSLLANISA*LSAM*LISESFNQTL*S...\n",
       "2     OV815488.1_start=69205000_end=69235000_frame=+2  ...  WTRRALTSTSKTEGNISQRCVPFSEY*CLTICYVIDL*KF*SDTLI...\n",
       "3   CAKMYH010000097.1_start=145000_end=175000_fram...  ...  PGTRQRMGIDENHESNRQCQQVQSAARGMLRQVAAYIVFEESHN*R...\n",
       "4   CAKMYH010000097.1_start=295000_end=313107_fram...  ...  GLINFVAPGRRRVGRNWDE*AFIQR*EASEF*TPFPPRYDGKGVEF...\n",
       "5       OV815488.1_start=7825000_end=7855000_frame=-1  ...  *RNG*RRLIRQNGKWKKRNGIL*SFVTLAAFRIRVLLLVINVFA*A...\n",
       "6     OV815488.1_start=40615000_end=40645000_frame=+1  ...  ERIIRLKFPLVARADPPGVQLFSDICLQATT**GRAIWKHYPRL*F...\n",
       "7     OV815487.1_start=65965000_end=65995000_frame=-3  ...  LLRRLLIYICRCILNGKCLISC*LDLVIIRRTGIVGVCYGRLRKSS...\n",
       "8     OV815488.1_start=25375000_end=25405000_frame=+3  ...  EIGENPTYRGIARGKERSDLRRDSFDCLLGEVKTALRVNEGLSFAE...\n",
       "9     OV815487.1_start=77215000_end=77245000_frame=-1  ...  NDTVSLTYGGGGVWGGGGLYLRGCVLIPIYQSSDRNVKGSDTSHMC...\n",
       "10    OV815489.1_start=29755000_end=29785000_frame=+2  ...  *HVTVS*RE*IMIDSCKSPRATSLYAPF*FLFFLAEVPFNLARRTG...\n",
       "11    OV815487.1_start=62065000_end=62095000_frame=+1  ...  DLQPICATPTEFSIDVTLTYREGVLLVFFQWRHMK*HYAMLCLV*S...\n",
       "12    OV815487.1_start=49585000_end=49615000_frame=+3  ...  RTDFRSGDRNDSLASSIRDNELLS*WYYPGHLASSAPPLQRPPLPH...\n",
       "13    OV815488.1_start=74545000_end=74575000_frame=+3  ...  VPFYFLYDAL*ARNCHKQWLPSQASLIPRHFASSSVVSAPLCRAFP...\n",
       "14    OV815489.1_start=66475000_end=66505000_frame=+3  ...  HYIVNSAAVFTRSLRELINYYCAPPYVC*RSKLLFKEFQFQMIRN*...\n",
       "\n",
       "[15 rows x 9 columns]"
      ]
     },
     "execution_count": 7,
     "metadata": {},
     "output_type": "execute_result"
    }
   ],
   "source": [
    "predictions_data.head(15)"
   ]
  },
  {
   "cell_type": "code",
   "execution_count": 8,
   "id": "d1d70386-e206-497e-bd53-ab1763d4ad77",
   "metadata": {},
   "outputs": [],
   "source": [
    "SCORE_THRESHOLD = 15\n",
    "\n",
    "selected_data = predictions_data.query(\"pos_count > @SCORE_THRESHOLD\")"
   ]
  },
  {
   "cell_type": "markdown",
   "id": "f1693791-8dc2-42ae-923e-5d0a9f7272d7",
   "metadata": {},
   "source": [
    "# Visualize predictions"
   ]
  },
  {
   "cell_type": "code",
   "execution_count": 9,
   "id": "5a0a7148-268d-4fa3-87c4-b58d9db6d854",
   "metadata": {
    "tags": []
   },
   "outputs": [
    {
     "name": "stdout",
     "output_type": "stream",
     "text": [
      "OV815488.1_start=69205000_end=69235000_frame=+1 Score=282.0 FragmentStart=0_FragmentEnd=1113\n",
      "\u001b[31mNMR*IFKLK*MASYDAINMIYTVLGHGNISRMGHDSSFYWQIFTINFFLMTPNIYRTYTKNTTRWT**YVLTFENKQHFLNYKGRNKIAVPNISASTQII*HENIHILLHAIFQNSEVDGLNN*WF*LKYKLDISNIYSMQF*IIF*YCKWNNCSKMVSILLRVSITRAFYENFVLQELNIFFILTFNKISEYNVKNTNILQLQHTISTIITKRY*H*KEMDTGKLMKKHLCRVNGGSLPDAAQP*TFTQYKLCKLPVNILYKYCCRVSGRSVHPDLQS*VRGKKLLVKY*L*VHLRASHSRSISSISI**VKFLKLIYLFSTRERNFIFDIIFFL*QITHYFDIGVNIILLSV*DTHIDHEAIYDLDNFGSHLHDSTWRIRGCRTTQTTYSSGNVKFKIFYIFAYE**NSVMNIDQILERFMIINE*TFFFILAGSPRTS*SRSQTNLVSCATTSLCSSATTTSSSKYIKIFYLARDIKSNYLNTVHYLLQRLRREAEP\u001b[0m\u001b[32mEAEPGSKPFNSAPRPVYVPP\u001b[0m\u001b[31mP\u001b[0m\u001b[32mRP\u001b[0m\u001b[31mPH\u001b[0m\u001b[32mP\u001b[0m\u001b[31mVN\u001b[0m\u001b[32mIL\u001b[0m\u001b[31mQIYT*HRY*DH*IKYFEFVCYSA*DAKQNQKLNPVQNLLILRHDQFMFPRHDHRTP*IHITNLYLAPLLSPLN*IL*ICLL\u001b[0m\u001b[32mQ\u001b[0m\u001b[31mRLRREAEP\u001b[0m\u001b[32mEAEPGSKPFNPAPRPVYVPPPRP\u001b[0m\u001b[31mPH\u001b[0m\u001b[32mP\u001b[0m\u001b[31mVN\u001b[0m\u001b[32mIL\u001b[0m\u001b[31mQIYT*HRY*DH*IKYCEFVCYSA*DAKQNQKLNPVQNLLILRHDQFMFPRHDHRTP*IHITNLYLAPLLSPLN*IL*ICLL\u001b[0m\u001b[32mQ\u001b[0m\u001b[31mRLRREAEP\u001b[0m\u001b[32mEAEPGSKPFNPAPRPVYVPPPRP\u001b[0m\u001b[31mP\u001b[0m\u001b[32mHPVNIL\u001b[0m\u001b[31mQ\u001b[0m\u001b[32mI\u001b[0m\u001b[31mST*HRY*DH*IKYCELFVTAPTTRSRTRS*TRFKTF*SCATTSLCSPATTTAPRKYILQICT*HRY*VH*IKYCEFVCYSA*DAKQNQKLNPVQNLLILRHDQFMFLRHDHLTP*IYYKFLLSTVIKTIELNIVNWLLQRLRREAEP\u001b[0m\u001b[32mEAEPGSKPFNLAPRPVYVPPPRPPHPVSI\u001b[0m\u001b[31mLTIST*HLILSPII*ICKLFVTAPPTRSRG*S*TRFTASLYSSTTTTSSSKYLLL*TWFIAFCNGCHVKYSIYLFFQRI*KVDEMLTQWYYI*IKLFLNSR*SIHILNIIL*LLI*VLQM*KLLDTILCSM*PSNKSYYF*LYHINIYINLLFTHPN*CLLN*LI\u001b[0m\n",
      "OV815488.1_start=69205000_end=69235000_frame=+2 Score=282.0 FragmentStart=0_FragmentEnd=1215\n",
      "\u001b[31mLKFSFCALKSTKWRLKIKTQIIFIFIYYFRICI*RRA*FWAVEGNLPP*ET*KI*DKFLN*NEWQAMML*I*FIQSWVTAIYREWDTILRFIGKFLR*IFF**RQTFIAHTRKTPRAGLDNTF*LLKISSIS*TIKEGIKLLYQIFPLQHKSFDMKIYIFYCMQFFKILKLMV*TIDGSS*NINWTFQIFIQCNFK*FFNIANGITVARWYRYYYEFLLQGLFTKTLYFKNSTSSLS*LLIKYPNIMSRTRIFCNYNIRYPL*SQRDINIRKKWIQEN**KNICVA*TVVPCQMQHSLELSHSTNCANSRSTFCINTAVECLGDQCILTYRAEYVVRSCL*NINYKYICELLIREVFLLFLFNKLNF*N*YIYSLPGKEISYSI*FSFCDK*RIILI*V*I*FCYPCEIHTSIMKQFMILTILAVICTTVLGESVDVGPPKPLTLPVT*NLKYSTYLHMNNKIQL*T*TRYWNDS***MNELFFLF*RVRREPADPDPKP\u001b[0m\u001b[32mIWYPAPRPVYVPPPRPPHPVNIL\u001b[0m\u001b[31mK\u001b[0m\u001b[32mF\u001b[0m\u001b[31mST*HVILNRII*ILYIICYSAYDAKQNQKLNPVQNLLILRHDQFMFLRHDHLTP*IYYKFILSTVIKTIELNILNLFVTAPKTRSRTRS*TRFKTF*SCATTSLCSPATTTAPRKYILQIYT*HRY*VH*IKYCEFVCYSA*DAKQNQKLNPVQNLLILRHDQFMFLRHDHLTP*IYYKFILSTVIKTIELNIVNLFVTAPKTRSRTRS*TRFKTF*SCATTSLCSPATTTAPRKYILQICT*HRY*VH*IKYCEFVCYSA*DAKQNQKLNPVQNLLILRHDQFMFLRHDHLTP*IYYKFLLSTAIKTIELNIVNYLLQRLRREAEP\u001b[0m\u001b[32mEAEPGSKPFNPAPRPVYVPPPRPPHPVNTYYKF\u001b[0m\u001b[31mVLSTAIESTELNIVNLFVTAPKTRSRTRS*TRFKTF*SCATTSLCSSATTTSPRKYITNFYLAP*LRPLN*IL*IGCYSA*DAKQNQKLNPVQNLLILRPDQFMFPRHDHLIQ*VY*QYLLST*Y*VQLFKYVNCLLQRLR\u001b[0m\u001b[32mREAEAEAEPGSRPVYIPRPLP\u001b[0m\u001b[31mP\u001b[0m\u001b[32mHP\u001b[0m\u001b[31mVNIYYYKLGLSPSVTGVM*NTQFTYFFSEFEKWMKCLRSGTTSKSNYS*IADDPSTF*TLYYNY*YKYYRCKSYSIRYCVQCSLLIKVTTFNCTI*ISI*IYYLPILIDVY*IN*YLQRIPFTYTFL*TVLFVGLSLFKLYTYTKFYSKETTTGASSSLSSCKLE\u001b[0m\n",
      "OV815488.1_start=69205000_end=69235000_frame=+3 Score=282.0 FragmentStart=0_FragmentEnd=1006\n",
      "\u001b[31mAKHLSHIHEKHHALDLIIRFNF*K*AAFLKL*RKE*NCCTKYFRFNTNHLT*KYTYFIACNFSKF*S*WSEQLMVLAKI*TGHFKYLFNAILNNFLILQME*L*QDGIDIITSFYYKGFLRKLCTSRTQHLLYLNF**NIRI*CQEHEYSAITTYDIHYNHKEILTLERNGYRKIDEKTFVSRERWFPARCSTALNFHTVQTVQTPGQHFV*ILLSSVWEISAS*LTELSTW*EVACKILIISTSASFSFEKYFFYFYLIS*ISKINIFILYPGKKFHIRYNFLSVTNNALF*YRCEYNSVIRVRYTHRS*SNL*S*QFWQSSARQYLENPWM*DHPNHLLFR*RKI*NILHICI*IIKFSYEHRPDIGTIHDNK*MNFFFYSSGFAANQLIPIPNQSGILRHDQFMFLRHDHLIQ*IY*NFLLST*Y*IELFKYCTLFVTAPTTRSRTRS*TRFKTF*FCATTSLCSSATTTSPRKYITNLYLAPLLRPLN*IF*ICLL\u001b[0m\u001b[32mQ\u001b[0m\u001b[31mRLRREAEP\u001b[0m\u001b[32mEAEPGSKPFNPAPRPVYVPPPRPPHPVNTYYKF\u001b[0m\u001b[31mILSTAIESTELNIVNLFVTAPKTRSRTRS*TRFKTF*SCATTSLCSSATTTSPRKYITNLYLAPLLRPLN*IL*ICLL\u001b[0m\u001b[32mQ\u001b[0m\u001b[31mRLRREAEP\u001b[0m\u001b[32mEAEPGSKPFNPAPRPVYVPPPRPPHPVNTYYKF\u001b[0m\u001b[31mVLSTAIESTELNIVNLFVTAPKTRSRTRS*TRFKTF*SCATTSLCSSATTTSPRKYITNFYLAPLLRPLN*IL*IICYSAYDAKQNQKLNPVQNLLILRHDQFMFPRHDHRTP*IHITNLYLAPLLSPLN*IL*ICLL\u001b[0m\u001b[32mQ\u001b[0m\u001b[31mRLRREAEP\u001b[0m\u001b[32mEAEPGSKPFNPAPRPVYVPPPRPPHPVNIL\u001b[0m\u001b[31mQ\u001b[0m\u001b[32mI\u001b[0m\u001b[31mST*HRD*DH*IKYCELVVTAPKTRSRTRS*TRFKTF*SCAPTSLCSPATTTSSSKYINNIYLAPDIKSNYLNM*IVCYSASDAKQRLKLNPVHGQFIFLDHYHLIQ*IFITINLVYRLL*RVSCKILNLLIFSANLKSG*NAYAVVLHLNQTIPK*QMIHPHFKH\u001b[0m\n",
      "OV815488.1_start=69205000_end=69235000_frame=+ Score=846.0 FragmentStart=0_FragmentEnd=3649\n",
      "\u001b[31mttaaagttttctttTTGCGCATTAAAATCAACGAAATGGcgcttaaaaattaaaacacaaattatctttatattcatttattacttcAGAATATGCATTTGAAGAAGGGCTTGATTTTGGGCTGTTGAGGGTaatctacccccttaagagacctaaaaaatatgagataaatttttaaattaaaatgaatGGCAAGCTATGATGCTATAAATATGATTTATACAGTCCTGGGTCACGGCAATATATCGAGAATGGGACACGATTCTTCGTTTTATTGGCAAATTTTtacgataaatttttttttaatgacgcCAAACATTTATCGCACATACACGAAAAACACCACGCGCTGGACTTGATAATACGttttaacttttgaaaataagcaGCATTTCTTAAACTATAAAGGAAGGAATAAAATTGCTGTACCAAATATTTCCGCTTCAACACAAATCATTTGACatgaaaatatacatattttattgcatgcaatttttcaaaattctgaaGTTGATGGTCTGAACAATTGATGGTTCTAGCTAAAATATAAACTGgacatttcaaatatttattcaatgcaattttaaataattttttaatattgcaaatggAATAACTGTAGCAAGATGGTATCGATATTATTACGAGTTTCTATTACAAGGGCTTTTTACGAAAACTTTGTACTTCAAGAACTCAACATCTTCTTTATCttaacttttaataaaatatccgAATATAATGTCAAGAACACGAATATTCTGCAATTACAACATACGATATCCACTATAATCACAAAGAGATATTAACATTAGAAAGAAATGGATACAGGAAAATTGATGAAAAAACATTTGTGTCGCGTGAACGGTGGTTCCCTGCCAGATGCAGCACAGCCTTGAACTTTCACACAGTACAAACTGTGCAAACTCCCGGTCAAcattttgtataaatactgCTGTCGAGTGTCTGGGAGATCAGTGCATCCTGACTTACAGAGCTGAGTACGTGGTAAGAAGTtgcttgtaaaatattaattataagtaCATCTGCGAGCTTCTCATTCGAGAAgtatttcttctatttctatttaataagttaaatttctaaaattaatatatttattctctACCCGGGAAAGAAATTTCATATtcgatataattttctttctgtGACAAATAACGCATTATTTTGATATAGGTGTGAATATAATTCTGTTATCCGTGTGAGATACACACATCGATCATGAAGCAATTTATGATCTTGACAATTTTGGCAGTCATCTGCACGACAGTACTTGGAGAATCCGTGGATGTAGGACCACCCAAACCACTTACTCTTCCGGTaacgtaaaatttaaaatattctacatatttgcatatgaataataaaattcagttatGAACATAGACCAGATATTGGAACGATTCATgataataaatgaatgaacttttttttttattctagcGGGTTCGCCGCGAACCAGCTGATCCCGATCCCAAACCA\u001b[0m\u001b[32mATCTGGTATCCTGCGCCACGACCAGTTTATGTTCCTCCGCCACGACCACCTCATCcagtaaatatatta\u001b[0m\u001b[31maaa\u001b[0m\u001b[32mttt\u001b[0m\u001b[31mtctacttAGCACGTGATATTAaatcgaattatttaaatactgtACATTATTTGTTACAGCGCCTACGACGCGAAGCAGAACCA\u001b[0m\u001b[32mGAAGCTGAACCCGGTTCAAAACCTTTTAATTCTGCGCCACGACCAGTTTATGTTCCTCCG\u001b[0m\u001b[31mCCA\u001b[0m\u001b[32mCGACCA\u001b[0m\u001b[31mCCTCAC\u001b[0m\u001b[32mCCC\u001b[0m\u001b[31mGtaaat\u001b[0m\u001b[32matatta\u001b[0m\u001b[31mcaaatttatacTTAGCACCGTTATTAAGACCattgaattaaatattttgaatttgtttGTTA\u001b[0m\u001b[32mCAG\u001b[0m\u001b[31mCGCCTAAGACGCGAAGCAGAACCA\u001b[0m\u001b[32mGAAGCTGAACCCGGTTCAAAACCTTTTAATCCTGCGCCACGACCAGTTTATGTTCCCCCGCCACGACCACCGCACCCCGTAAATAcatattacaaattt\u001b[0m\u001b[31matacTTAGCACCGCTATTGAGTCCACTGAATTAAATATTGTGAATTTGTTTGTTA\u001b[0m\u001b[32mCAG\u001b[0m\u001b[31mCGCCTAAGACGCGAAGCAGAACCA\u001b[0m\u001b[32mGAAGCTGAACCCGGTTCAAAACCTTTTAATCCTGCGCCACGACCAGTTTATGTTCCTCCGCCACGACCA\u001b[0m\u001b[31mCCTCAC\u001b[0m\u001b[32mCCC\u001b[0m\u001b[31mGtaaat\u001b[0m\u001b[32matatta\u001b[0m\u001b[31mcaaatttatacTTAGCACCGTTATTAAGACCATTGAATTAAATATTGTGAATTTGTTTGTTA\u001b[0m\u001b[32mCAG\u001b[0m\u001b[31mCGCCTAAGACGCGAAGCAGAACCA\u001b[0m\u001b[32mGAAGCTGAACCCGGTTCAAAACCTTTTAATCCTGCGCCACGACCAGTTTATGTTCCCCCGCCACGACCACCGCACCCCGTAAATACATATTACAAATTT\u001b[0m\u001b[31mGTACTTAGCACCGCTATTGAGTCCACTGAATTAAATATTGTGAATTTGTTTGTTA\u001b[0m\u001b[32mCAG\u001b[0m\u001b[31mCGCCTAAGACGCGAAGCAGAACCA\u001b[0m\u001b[32mGAAGCTGAACCCGGTTCAAAACCTTTTAATCCTGCGCCACGACCAGTTTATGTTCCTCCGCCACGACCA\u001b[0m\u001b[31mCCT\u001b[0m\u001b[32mCACCCCGtaaatatatta\u001b[0m\u001b[31mcaa\u001b[0m\u001b[32matt\u001b[0m\u001b[31mtctaCTTAGCACCGCTATTAAGACCATTGAATTAAATATTGTGAATTATTTGTTACAGCGCCTACGACGCGAAGCAGAACCA\u001b[0m\u001b[32mGAAGCTGAACCCGGTTCAAAACCTTTTAATCCTGCGCCACGACCAGTTTATGTTCCCCCGCCACGACCACCGCACCCCGTAAATACATATTACAAATTT\u001b[0m\u001b[31mGTACTTAGCACCGCTATTGAGTCCACTGAATTAAATATTGTGAATTTGTTTGTTA\u001b[0m\u001b[32mCAG\u001b[0m\u001b[31mCGCCTAAGACGCGAAGCAGAACCA\u001b[0m\u001b[32mGAAGCTGAACCCGGTTCAAAACCTTTTAATCCTGCGCCACGACCAGTTTATGTTCCTCCGCCACGACCACCTCACCCCGtaaatatatta\u001b[0m\u001b[31mcaa\u001b[0m\u001b[32matt\u001b[0m\u001b[31mtctaCTTAGCACCGTGATTAAGACCATTGAATTAAATATTGTGAATTGGTTGTTACAGCGCCTAAGACGCGAAGCAGAACCA\u001b[0m\u001b[32mGAAGCTGAACCCGGTTCAAAACCTTTTAATCTTGCGCCCCGACCAGTTTATGTTCCCCCGCCACGACCACCTCATCCAGTAAGTATA\u001b[0m\u001b[31mTTAACAATATCTACTTAGCACCTGATATTAAGtccaattatttaaatatgtaaattgtTTGTTACAGCGCCTCCGA\u001b[0m\u001b[32mCGCGAAGCAGAGGCTGAAGCTGAACCCGGTTCACGGCCAGTTTATATTCCTCGACCACTACCA\u001b[0m\u001b[31mCCT\u001b[0m\u001b[32mCATcca\u001b[0m\u001b[31mgtaaatatttattactataAACTTGGTTTATCGCCTTCTGTAACGGGTGTCATGTAAAATACtcaatttacttattttttcagCGAATTTGAAAAGTGGATGAAATGCTTACGCAGTGGTACTACATCTAAATCAAACTATTCCTAAATAGCAGATGATCCATCCACattttaaacattatattataactATTAATATAAGTATTACAGATGTAAAAGTTACTCGATACGATACTGTGTTCAATGTAGCCTTCTAATAAAAGTTACTACTTTTAATTGTACCATATAAATatctatataaatttattatttacccATCCTAATTGATGTCTACTAAATTAACTAATATTTACAAAGGATACCATTTACGTATACGTTTTTGTAGACTGTATTATTCGTAGGATtatctttatttaaattatatacatataccaaGTTTTACTCCAAAGAAACAACTACTGGCGCCTCATCTTCACTCTCGTCTTGTAAATTAGAAAAGT\u001b[0m\n",
      "========================================================================================================================\n",
      "                                                                                                                        \n",
      "CAKMYH010000097.1_start=145000_end=175000_frame=+1 Score=16.0 FragmentStart=0_FragmentEnd=681\n",
      "\u001b[31mPGGGGAAASVPRGMPPPSRMISPYPATIRSGTKSRTEYCDQAGEGGGGRCLLISPSVCDT*L*SDKEACPSTELFLIHRAVVRSADIISMKDLPPCLWCMKVDPALTLMGTSPINASASQQACPLRSKVLPPPPPYRGLGVKVTGHDNAPCARSCFPDQLRQRFQVRRKLLEINVGGNVPTNERYVPYHRGREPLH*QLGGTGSAGVATFY*GRSARLRGRNIRRRWCTLANGTTNGPPGVSRTDGSQPRRR*ISPFDLLGFSGLPLNGFTYS*TLSSKFFSTFPHGTCSLSVSWLYLALDGVYHPLRVALSSNPTLWRDPPETRTGRYGPGTLSG*VAPFKMDLDAVRRHGINGSS*TLQFPAAEPRDSVLG*FLFARRY*GNPC*FLFLRLVICLNSAGNLAYSEVVNRYYYMYHQRKKTETARSKEKIYYISSWE*RARSRLRYPSFGYCTSNGSPGGSTGCARVVASIHRRDGAGPGAGREAGLKNIKQKYVQQQN\u001b[0m\u001b[32mFFRFFLFPRSLEISHA\u001b[0m\u001b[31mHRAYTASRHTHMHFFPRTHPGS*PETRTTDRCDRSRVVVIQRCHHTIFQRKGINTGLFSSNREN*SFPLPLIAPRQSVFSSRFVDSTRVETLLAERPPVFTLTSVRYY*L*DSAIPSRLEQRLAAEGTVEK*AFPWIGRPARPAGSLVRSTKNATKTWGDRGDSF\u001b[0m\n",
      "CAKMYH010000097.1_start=145000_end=175000_frame=+ Score=16.0 FragmentStart=0_FragmentEnd=2047\n",
      "\u001b[31mccggggggggggggcgctgCGGCGTCTGTCCCCAGGGGGATGCCGCCCCCCTCACGGATGATCTCCCCATACCCGGCCACCATCCGCTCCGGGACCAAGTCCCGGACCGAATACTGCGACCAggccggggagggggggggagggaggtgcCTCTTGATATCCCCCAGTGTGTGCGACACGTAGCTGTGATCAGATAAGGAGGCGTGTCCCAGCACCGAGCTCTTCTTAATACATCGGGCAGTGGTCCGATCCGCAGACATTATATCGATGAAGGATCTACCCCCATGCTTGTGGTGCATGAAGGTAGACCCTGCCTTAACTCTGATGGGAACCAGTCCCATCAACGCGAGTGCTTCGCAGCAAGCCTGTCCCCTCCGGTCCAAGgttttaccccccccccccccataccGGGGACTTGGCGTTAAGGTCACCGGCCACGACAACGCCCCGTGTGCGCGTTCTTGCTTCCCTGACCAACTCCGCCAGCGATTCCAAGTGCGTCGAAAATTGCTTGAGATTAATGTTGGGGGAAATGTACCCACTAATGAACGTTATGTCCCCTACCACCGCGGACGCGAACCCCTCCACTGACAGCTGGGGGGCACAGGGTCGGCcggggtcgcgacgttctactaggggagaagtgcacgactacgtggccggaacattcgccgccggtggtgtaccctcgctaatggaaccactaatggtccacccggagtatcgcgcaccgacgggagccagcctcgtcgacgatgaatctccccattcgatcttttgggtttctcaggtttacccctgaacggtttcacgtactcttgaactctctcttcaaagttcttttcaactttccctcacggtacttgttcgctatcggtctcgtggttgtatttagccttagatggagtttaccacccacttagggttgcactctcaagcaacccgactctatggagagatcctcccgaaacgcgtaccggtcgctacgggcctggcaccctctccgggtaagtggccccattcaagatggacttggacgcggtgcgacgtcacgggataaacggatcctcctgaacactacaattccctgcggcggaaccgcgggattcagtgctgggctaattcctgttcgctcgccgctactaaggaaatccttgttagtttcttttcctccgcttagtaatatgcttaaattcagcgggtaatctcgcctactctgaggtcgtcaatcgttattattacatgtaccaccagagaaaaaaaacagagaccgcgagaagtaaagagaagatatattatatatcttcttgggagtagcgcgcgcgctcgcgcctccggtatccctcttttggatattgcacctcgaacgggtctcccggcgggagtacggggtgtgcgcgtgtagtggcatctatacaccgacgcgacggggccgggccgggggccggacgagaagctgggctgaagaatataaagcagaagtatgtgcaacaacaaaac\u001b[0m\u001b[32mttcttcagattctttctcttccctcgctcgctcgaaatttcccatgca\u001b[0m\u001b[31mcaccgcgcgtatacggcatcgcgccacacgcacatgcattttttcccccgtacacatcccggctcatagccggagacccgaacgacggatcgatgtgatcgatctcgtgtggtggtaatccagcgGTGCCATcacacgattttccagaggaaaggtattaataccggactcttctcctctaatcgagagaattagagttttcccctacctctaattgcgcctcgccaaagtgtcttttcgtcgcggttcgtcgattcgacacgggtggagactctcctcgcggaacgaccaccggtttttactttaacgtccgtccgctattattagctttgagattccgctatcccttcacgcctcgagcagcgactcgcagcagagggaaccgtggaaaaataagcttttccgtggattggacgaccggcgagacccgcggggtctcttgtacgatcgaccaagaacgcgacaaagacatggggcgatcggggagactcttttcttt\u001b[0m\n",
      "========================================================================================================================\n",
      "                                                                                                                        \n",
      "CAKMYH010000097.1_start=295000_end=313107_frame=+2 Score=16.0 FragmentStart=0_FragmentEnd=681\n",
      "\u001b[31mSDDRFARQNRYGPPSGFPLTSS*PGIVHHLSGPNVYALGAPLLAMRTRRPGSARPHRNAADPPSVDAKVDLHFHSAFRFLSPNDSRTC*TPWSVFQDGS*EYPKQ*RRRPVIRSLAQSKDTAC*QLARPGDGTRSVPPGKN*PGLRRA*RTHIRKWIGCGPIPSRSTVAQPAGRPRVCRVLWEQRNRQPLGP*TDTQRVATFY*GRSARLRGRNIRRRWCTLANGTTNGPPGVSRTDGSQPRRR*ISPFDLLGFSGLPLNGFTYS*TLSSKFFSTFPHGTCSLSVSWLYLALDGVYHPLRVALSSNPTLWRDPPETRTGRYGPGTLSG*VAPFKMDLDAVRRHGINGSS*TLQFPAAEPRDSVLG*FLFARRY*GNPC*FLFLRLVICLNSAGNLAYSEVVNRYYYMCHQRKKQRPREVKRRYYITYIYLLGSSARARASGIPLLDIAPRERVSRREYGGVCARVVAIYTPTRRGRGPDEKLG*RI*SRSMCVCATQQNF\u001b[0m\u001b[32mFRFFLFPRSLEISHAH\u001b[0m\u001b[31mRAYTASRHTHMHLFPRTHPGS*PETRTTDRCGDRSRVVVIQRCAIARFSRGKVLIPDSSPLIERIRVFPYL*LRLAKVSFRRGSSIRHGWRLSSRNDHRFLL*HPSAIISFEIPLSLHASSRDSQQREPWKNKLFRGLDDRRDPRGLLYDRPTTRQRHGAIGETL\u001b[0m\n",
      "CAKMYH010000097.1_start=295000_end=313107_frame=+ Score=16.0 FragmentStart=0_FragmentEnd=2047\n",
      "\u001b[31mttccgacgatcgatttgcacgtcagaatcgctacggacctccatcagggtttcccctgacttcgtcctgaccaggcatagttcaccatctttcgggtcccaacgtgtacgctctaggtgcgcctcttctcgcaatgagaacgagacgccccgggagtgcgaggccgcatcgtaacgcggccgatcctccctcggtcgacgcaaaggtcgaccttcactttcattccgcctttaggtttctttctcccaatgactcgcgcacatgttagactccttggtccgtgtttcaagacgggtcctgagagtacccaaagcagtagcgtcgccgaccggtaattcgaagcttggcccagtccaaggacaccgcctgctaacagctggccaggcccggggacggcaccaggtccgtgcctccgggtaagaactgaccgggcttgcggcgggcctgacgcacgcacattcgaaaatggattggttgcggcccgataccgtctcggagtaccgtcgcgcagccggccgggcggccgagggtctgtcgcgtgctctgggagcaacgaaacaggcaaccgctcgggccgtagaccgacacgcaacgggtcgcgacgttctactaggggagaagtgcacgactacgtggccggaacattcgccgccggtggtgtaccctcgctaatggaaccactaatggtccacccggagtatcgcgcaccgacgggagccagcctcgtcgacgatgaatctccccattcgatcttttgggtttctcaggtttacccctgaacggtttcacgtactcttgaactctctcttcaaagttcttttcaactttccctcacggtacttgttcgctatcggtctcgtggttgtatttagccttagatggagtttaccacccacttagggttgcactctcaagcaacccgactctatggagagatcctcccgaaacgcgtaccggtcgctacgggcctggcaccctctccgggtaagtggccccattcaagatggacttggacgcggtgcgacgtcacgggataaacggatcctcctgaacactacaattccctgcggcggaaccgcgggattcagtgctgggctaattcctgttcgctcgccgctactaaggaaatccttgttagtttcttttcctccgcttagtaatatgcttaaattcagcgggtaatctcgcctactctgaggtcgtcaatcgttattattacatgtgccaccagagaaaaaaacagagaccgcgagaagtaaagagaagatattatattacatatatatatcttcttgggagtagcgcgcgcgctcgcgcctccggtatccctcttttggatattgcacctcgagaacgggtctcccggcgggagtacggcggggtgtgcgcgcgtgtagtggcaatctatacaccgacgcgacggggccgggggccggacgagaagctgggctgaagaatataaagcagaagtatgtgtgtgtgtgcaacacaacaaaactt\u001b[0m\u001b[32mcttcagattctttctcttccctcgctcgctcgaaatttcccatgcaca\u001b[0m\u001b[31mccgcgcgtatacggcatcgcgccacacgcacatgcatcttttcccccgtacacatcccggctcatagccggagacccgaacgacggatcgatgtggtgatcgatctcgtgtggtggtaatccagaggtgcgccatcgcacgattttccagaggaaaggtattaataccggactcttctcctctaatcgagagaattagagttttcccctacctctaattgcgcctcgccaaagtgtcttttcgtcgcggttcgtcgattcggcacgggtggagactctcctcgcggaacgaccaccggtttttactttaacatccgtccgctattattagctttgagattccgctatcccttcacgcctcgagcagagactcgcagcagagggaaccgtggaaaaataagcttttccgtggactggacgaccggcgagacccgcggggtctcttgtacgatcgaccaacaacgcgtcaaagacatggggcgatcggggagactcttttc\u001b[0m\n",
      "========================================================================================================================\n",
      "                                                                                                                        \n"
     ]
    }
   ],
   "source": [
    "SHOW_NUCLEOTIDE = True\n",
    "SHOW_TRANSLATED = True\n",
    "SHOW_MISSING_FRAMES = False\n",
    "NUCL_VISUAL_OFFSET = np.array((1500, 500))\n",
    "AA_VISUAL_OFFSET = NUCL_VISUAL_OFFSET // 3\n",
    "\n",
    "\n",
    "visualize_predictions(\n",
    "    selected_data,\n",
    "    genome_map=genome_map,\n",
    "    proteome_map=proteome_map,\n",
    "    show_translated=SHOW_TRANSLATED,\n",
    "    show_nucleotide=SHOW_NUCLEOTIDE,\n",
    "    show_missing_frames=SHOW_MISSING_FRAMES,\n",
    "    nucleotide_offset=NUCL_VISUAL_OFFSET,\n",
    "    translated_offset=AA_VISUAL_OFFSET,\n",
    "    translated_caption_template=\"{t_record_id} Score={score}\",\n",
    "    nucleotide_caption_template=\"{g_record_id} Score={score}\"\n",
    ")"
   ]
  },
  {
   "cell_type": "markdown",
   "id": "98dd1bb3-8b25-468a-bf09-395176856e40",
   "metadata": {},
   "source": [
    "# False Positives"
   ]
  },
  {
   "cell_type": "markdown",
   "id": "056bea6c-0b6c-431b-b6bc-ea703283c8dd",
   "metadata": {},
   "source": [
    "## Overview"
   ]
  },
  {
   "cell_type": "code",
   "execution_count": 18,
   "id": "856704b0-548e-4555-acf1-6e8875d0cb53",
   "metadata": {},
   "outputs": [
    {
     "name": "stdout",
     "output_type": "stream",
     "text": [
      "CAKMYH010000097.1_start=145000_end=175000_frame=+1 Score=16.0 FragmentStart=0_FragmentEnd=48\n",
      "\u001b[31mEAGLKNIKQKYVQQQN\u001b[0m\u001b[32mFFRFFLFPRSLEISHA\u001b[0m\u001b[31mHRAYTASRHTHMHFFP\u001b[0m\n",
      "========================================================================================================================\n",
      "                                                                                                                        \n",
      "CAKMYH010000097.1_start=295000_end=313107_frame=+2 Score=16.0 FragmentStart=0_FragmentEnd=48\n",
      "\u001b[31mRI*SRSMCVCATQQNF\u001b[0m\u001b[32mFRFFLFPRSLEISHAH\u001b[0m\u001b[31mRAYTASRHTHMHLFPR\u001b[0m\n",
      "========================================================================================================================\n",
      "                                                                                                                        \n",
      "OV815488.1_start=7825000_end=7855000_frame=-1 Score=13.0 FragmentStart=0_FragmentEnd=46\n",
      "\u001b[31mILLHYEAIDHIFSRFI\u001b[0m\u001b[32mFNLRMFPRSLE\u001b[0m\u001b[31mS\u001b[0m\u001b[32mNR\u001b[0m\u001b[31mFKYSHYRNLRKLRV*K\u001b[0m\n",
      "========================================================================================================================\n",
      "                                                                                                                        \n",
      "OV815488.1_start=40615000_end=40645000_frame=+1 Score=11.0 FragmentStart=0_FragmentEnd=45\n",
      "\u001b[31mASALDARPAAPVQLLC\u001b[0m\u001b[32mFSFAAVPRVHR\u001b[0m\u001b[31mS\u001b[0m\u001b[32mR\u001b[0m\u001b[31mFRFPADFRLDGVREKL\u001b[0m\n",
      "========================================================================================================================\n",
      "                                                                                                                        \n",
      "OV815487.1_start=65965000_end=65995000_frame=-3 Score=7.0 FragmentStart=0_FragmentEnd=42\n",
      "\u001b[31mIIIIRSLSVIFIEKYD\u001b[0m\u001b[32mMVITF\u001b[0m\u001b[31mF\u001b[0m\u001b[32mVP\u001b[0m\u001b[31mR\u001b[0m\u001b[32mA\u001b[0m\u001b[31mKERFKHEVVVERSPCS\u001b[0m\n",
      "========================================================================================================================\n",
      "                                                                                                                        \n",
      "OV815488.1_start=25375000_end=25405000_frame=+3 Score=6.0 FragmentStart=0_FragmentEnd=42\n",
      "\u001b[31mVHAA*LQLLANWQYVL\u001b[0m\u001b[32mE\u001b[0m\u001b[31mH\u001b[0m\u001b[32mFF\u001b[0m\u001b[31mQ\u001b[0m\u001b[32mLP\u001b[0m\u001b[31mS\u001b[0m\u001b[32mAL\u001b[0m\u001b[31mSSHRFRFHLGNLDAVL\u001b[0m\n",
      "========================================================================================================================\n",
      "                                                                                                                        \n",
      "OV815487.1_start=77215000_end=77245000_frame=-1 Score=4.0 FragmentStart=0_FragmentEnd=39\n",
      "\u001b[31mRWSFKLWCHLRQFFHI\u001b[0m\u001b[32mFFEA\u001b[0m\u001b[31mPR\u001b[0m\u001b[32mR\u001b[0m\u001b[31mLSIKKIRHNAKFVLNL\u001b[0m\n",
      "========================================================================================================================\n",
      "                                                                                                                        \n",
      "OV815488.1_start=4795000_end=4825000_frame=+1 Score=0.0 FragmentStart=0_FragmentEnd=41\n",
      "\u001b[31mSVKLLLDRLQIPLCLK\u001b[0m\u001b[32mF\u001b[0m\u001b[31mFF\u001b[0m\u001b[32mF\u001b[0m\u001b[31mTF\u001b[0m\u001b[32mP\u001b[0m\u001b[31mR\u001b[0m\u001b[32mS\u001b[0m\u001b[31mLVNQSRNKDLGRTNER\u001b[0m\n",
      "========================================================================================================================\n",
      "                                                                                                                        \n",
      "OV815487.1_start=58165000_end=58195000_frame=-2 Score=0.0 FragmentStart=0_FragmentEnd=39\n",
      "\u001b[31mPRISLVKYRPREETIA\u001b[0m\u001b[32mR\u001b[0m\u001b[31mFS\u001b[0m\u001b[32mS\u001b[0m\u001b[31mNV\u001b[0m\u001b[32mY\u001b[0m\u001b[31mVVPRALDRSRELPLGT\u001b[0m\n",
      "========================================================================================================================\n",
      "                                                                                                                        \n",
      "OV815489.1_start=29755000_end=29785000_frame=+2 Score=3.0 FragmentStart=0_FragmentEnd=35\n",
      "\u001b[31mVLITDPPEKGPRGSLK\u001b[0m\u001b[32mRFF\u001b[0m\u001b[31mANALPRNLLETHFSYT\u001b[0m\n",
      "========================================================================================================================\n",
      "                                                                                                                        \n",
      "OV815487.1_start=49585000_end=49615000_frame=+3 Score=2.0 FragmentStart=0_FragmentEnd=36\n",
      "\u001b[31mRCFIHSISFADEQRHV\u001b[0m\u001b[32mAG\u001b[0m\u001b[31mF\u001b[0m\u001b[32mS\u001b[0m\u001b[31mVPRCFHSRVHRYRVRG\u001b[0m\n",
      "========================================================================================================================\n",
      "                                                                                                                        \n",
      "OV815487.1_start=73975000_end=74005000_frame=-1 Score=0.0 FragmentStart=0_FragmentEnd=42\n",
      "\u001b[31mRRDAVPEIFNETFISF\u001b[0m\u001b[32mP\u001b[0m\u001b[31mRSTSL\u001b[0m\u001b[32mS\u001b[0m\u001b[31mFT\u001b[0m\u001b[32mV\u001b[0m\u001b[31mPRTVKRKKRISKDTNG\u001b[0m\n",
      "========================================================================================================================\n",
      "                                                                                                                        \n",
      "OV815489.1_start=58375000_end=58405000_frame=+1 Score=0.0 FragmentStart=0_FragmentEnd=36\n",
      "\u001b[31mLGLPFAPPRPALQLGH\u001b[0m\u001b[32mQ\u001b[0m\u001b[31mHR\u001b[0m\u001b[32mG\u001b[0m\u001b[31mHFRAPESFPLEHAEPA\u001b[0m\n",
      "========================================================================================================================\n",
      "                                                                                                                        \n",
      "OV815487.1_start=23815000_end=23845000_frame=-2 Score=0.0 FragmentStart=0_FragmentEnd=36\n",
      "\u001b[31mSVFPFSLVLVFVDFVR\u001b[0m\u001b[32mH\u001b[0m\u001b[31mYF\u001b[0m\u001b[32mP\u001b[0m\u001b[31mRDLVRHSSENYLPQQL\u001b[0m\n",
      "========================================================================================================================\n",
      "                                                                                                                        \n",
      "OV815488.1_start=66565000_end=66595000_frame=+3 Score=0.0 FragmentStart=0_FragmentEnd=35\n",
      "\u001b[31mV*VPIPFRRSASFCFS\u001b[0m\u001b[32mF\u001b[0m\u001b[31mA\u001b[0m\u001b[32mS\u001b[0m\u001b[31mPRHDGEDGSHRLRSTA\u001b[0m\n",
      "========================================================================================================================\n",
      "                                                                                                                        \n",
      "OV815489.1_start=66475000_end=66505000_frame=+3 Score=2.0 FragmentStart=0_FragmentEnd=34\n",
      "\u001b[31mSRDTAASTLSWRNFFR\u001b[0m\u001b[32mFY\u001b[0m\u001b[31mVPRIQISRYSAGYGGS\u001b[0m\n",
      "========================================================================================================================\n",
      "                                                                                                                        \n",
      "OV815488.1_start=56155000_end=56185000_frame=-2 Score=0.0 FragmentStart=0_FragmentEnd=36\n",
      "\u001b[31mRAADVFTAFNLFFPRS\u001b[0m\u001b[32mF\u001b[0m\u001b[31mQN\u001b[0m\u001b[32mA\u001b[0m\u001b[31mRALKQARQRIGNQTRR\u001b[0m\n",
      "========================================================================================================================\n",
      "                                                                                                                        \n",
      "OV815488.1_start=74545000_end=74575000_frame=+3 Score=2.0 FragmentStart=0_FragmentEnd=34\n",
      "\u001b[31m*LMRS*IFGHERV*IA\u001b[0m\u001b[32mVP\u001b[0m\u001b[31mRVSSDREFHRLRLGWD\u001b[0m\n",
      "========================================================================================================================\n",
      "                                                                                                                        \n",
      "OV815487.1_start=62065000_end=62095000_frame=+1 Score=2.0 FragmentStart=0_FragmentEnd=34\n",
      "\u001b[31mKRNSAWQPWARNLNFA\u001b[0m\u001b[32mTF\u001b[0m\u001b[31mTDPRYLQTAHTRFCTI\u001b[0m\n",
      "========================================================================================================================\n",
      "                                                                                                                        \n",
      "OV815489.1_start=21475000_end=21505000_frame=-1 Score=0.0 FragmentStart=0_FragmentEnd=33\n",
      "\u001b[31mVELDEHRLQHQQELFV\u001b[0m\u001b[32mL\u001b[0m\u001b[31mPLSRIERWRPQPLPNA\u001b[0m\n",
      "========================================================================================================================\n",
      "                                                                                                                        \n",
      "OV815489.1_start=51325000_end=51355000_frame=-3 Score=0.0 FragmentStart=0_FragmentEnd=33\n",
      "\u001b[31mPFHCDQTAAACALDSA\u001b[0m\u001b[32mK\u001b[0m\u001b[31mFISTPSPRSFSSRRAP\u001b[0m\n",
      "========================================================================================================================\n",
      "                                                                                                                        \n",
      "OV815487.1_start=31075000_end=31105000_frame=-1 Score=0.0 FragmentStart=0_FragmentEnd=33\n",
      "\u001b[31mARETRRFSAVITEFAF\u001b[0m\u001b[32mI\u001b[0m\u001b[31mRFIWLPRAFEMFRRFS\u001b[0m\n",
      "========================================================================================================================\n",
      "                                                                                                                        \n",
      "OV815488.1_start=37375000_end=37405000_frame=-2 Score=0.0 FragmentStart=0_FragmentEnd=33\n",
      "\u001b[31mQRTASDLPSPFHAPQC\u001b[0m\u001b[32mD\u001b[0m\u001b[31mQVTNHPPVIPIESITK\u001b[0m\n",
      "========================================================================================================================\n",
      "                                                                                                                        \n"
     ]
    }
   ],
   "source": [
    "SHOW_NUCLEOTIDE = False\n",
    "SHOW_TRANSLATED = True\n",
    "SHOW_MISSING_FRAMES = False\n",
    "NUCL_VISUAL_OFFSET = None\n",
    "AA_VISUAL_OFFSET = None\n",
    "\n",
    "fp_predictions = read_predictions_from_fasta(false_positives_file)\n",
    "\n",
    "visualize_predictions(\n",
    "    fp_predictions,\n",
    "    genome_map=genome_map,\n",
    "    proteome_map=proteome_map,\n",
    "    show_translated=SHOW_TRANSLATED,\n",
    "    show_nucleotide=SHOW_NUCLEOTIDE,\n",
    "    show_missing_frames=SHOW_MISSING_FRAMES,\n",
    "    nucleotide_offset=NUCL_VISUAL_OFFSET,\n",
    "    translated_offset=AA_VISUAL_OFFSET,\n",
    "    translated_caption_template=\"{t_record_id} Score={score}\",\n",
    "    nucleotide_caption_template=\"{g_record_id} Score={score}\"\n",
    ")"
   ]
  },
  {
   "cell_type": "markdown",
   "id": "4543ad93-37c6-4080-830a-f67642b6eb42",
   "metadata": {},
   "source": [
    "## Detailed"
   ]
  },
  {
   "cell_type": "code",
   "execution_count": 25,
   "id": "5f53d936-3eb7-4ec7-8200-e5615033f513",
   "metadata": {},
   "outputs": [
    {
     "name": "stdout",
     "output_type": "stream",
     "text": [
      "CAKMYH010000097.1_start=145000_end=175000_frame=+1 FragmentStart=0_FragmentEnd=681\n",
      "\u001b[31mPGGGGAAASVPRGMPPPSRMISPYPATIRSGTKSRTEYCDQAGEGGGGRCLLISPSVCDT*L*SDKEACPSTELFLIHRAVVRSADIISMKDLPPCLWCMKVDPALTLMGTSPINASASQQACPLRSKVLPPPPPYRGLGVKVTGHDNAPCARSCFPDQLRQRFQVRRKLLEINVGGNVPTNERYVPYHRGREPLH*QLGGTGSAGVATFY*GRSARLRGRNIRRRWCTLANGTTNGPPGVSRTDGSQPRRR*ISPFDLLGFSGLPLNGFTYS*TLSSKFFSTFPHGTCSLSVSWLYLALDGVYHPLRVALSSNPTLWRDPPETRTGRYGPGTLSG*VAPFKMDLDAVRRHGINGSS*TLQFPAAEPRDSVLG*FLFARRY*GNPC*FLFLRLVICLNSAGNLAYSEVVNRYYYMYHQRKKTETARSKEKIYYISSWE*RARSRLRYPSFGYCTSNGSPGGSTGCARVVASIHRRDGAGPGAGREAGLKNIKQKYVQQQN\u001b[0m\u001b[32mFFRFFLFPRSLEISHA\u001b[0m\u001b[31mHRAYTASRHTHMHFFPRTHPGS*PETRTTDRCDRSRVVVIQRCHHTIFQRKGINTGLFSSNREN*SFPLPLIAPRQSVFSSRFVDSTRVETLLAERPPVFTLTSVRYY*L*DSAIPSRLEQRLAAEGTVEK*AFPWIGRPARPAGSLVRSTKNATKTWGDRGDSF\u001b[0m\n",
      "CAKMYH010000097.1_start=145000_end=175000_frame=+2 FragmentStart=0_FragmentEnd=9999\n",
      "\u001b[31mQERDSGWALTRIMNLTVNVNKYNPLRAGCYVKLPRILSLKKATISVQSPDNACFAWAVVAALHPVERNADRPSSYPPYASVLNLQGIEFPMSLEQIGKFERQNEISVNVYTFDEEKGSTVFPLRLTSNKRDQHVNLLYTPNQEHGDVGHFVLIKNLSRLVSMQLSRHKEKKFICDRYVQKTCEILKCLTKQIK*KYLWLQMHALFRICREVGDPFAGLRQDERLRHPAAQRRKKSPKLREPLQEGAAPLRGVCRSGVHHRENRGQSRG*SR**VTYISAP*SA*HCILYALFLRHIAIDVSMSPRRGLCFMVRIRTEKICKLRQTHLEQ*CSHA*FNQRTVDDISRCNKLSYLRKTIQG*RCTSSRSLSSIRTV*RPGTFGVQFKL*KRVLHPHSFP*FIRLRFTFHYRGNSYRFRRSR*CIAHNQRKVYFVHKKCRRYG*IRLAKLY*ITIHRFVQISQYQSRQISIFS*HRSIKNFTIQI*NIIHRRFQFIDAKRCLSVRIP*LREQAAGSMLTAARVILQFGNG*DCIRERLRAR*DYLAAFRD*NLGRIQRLVFEN*CLVIG*YF*KFSRKLYQKLWIRFGALLYSTRFHVGCHAKAYQN*IRIAHRR*YGHVYRTRHTWWFKPMFRKICTCQ*QVHAILRRIGRVIVLDVL*CE*FVWVGNVSAPTIR*ISMGRRCRKV*CIINQSRFAHRVHSRGRSGISATSAQRSCRSTVLPDACQTTWQQAGQITRDGIR*AALRYPLP*PAAVHASRSSYYKDTPRASIRSISLAPRLHRTQYTVQNKRDKRL*KKFVQIDEQRGIWQNYGKCTKSRGCKTVNTLGRAIWRGGNDRETEFP*QKCFFGKFNSC*IAKTRGEIQQTDIRGYVHSGHIKNLFV*ISSRVHVAQAWGKL*NSIHRHRQPHLPYSMRRYLRDHEAQYR*IRHKRLSYRQCI*YATCK*EGSRADEG*K*RCDNDRIRRS*SENVCTSRRW*KRYEKGERRQDQRHSQNDNFRRLRAVFAKGDRNGSQTIMYTV*AS*SVHHFGI*NRSKSI**QAAYRTRFDRHSALGTL*YPIVK*KLLYYK*WNYCIINSGIIVL*IVELLYYK*WD*CVKIKKLFTHLHICIIVFIELLILQYIIFIDPRIV*FIKPQPLDVHLIPLSTQHFFH*MHIRIGDTLQLMFIESTGNGFSTGIDEQIRCRISCLYFGYLEHLRCPIRRIAFIEDGFKFAHAHKLAQLESRWSSDLYVAVYGG*QPVGDHRGNIARTHSDGSMFSCVILCKQTR*HIDPSIGSIERKQFPHIVLQSSIETFYDGGLHHRIRRIMINIVLCQEFLHIGVVKFFSLIGLQIFRISISKYLCERFSHLSATFSLERHRPCILAQHIDDGKYVVATLVETRVWTHFYNVSLPQIIVSLHYDASPREMSSSWSVQFLNEL*LLVAMVFFFTLGFR*WLHV*SQRCLGHE*CDNYRVHLLCASRRSEEILDKLLLRSKSGYSLFNFTSFAVGLRDRIERLRYLLNAVLQRQHIFLKHNQLPL*FFLLLSQKFNVLFHV*FIDDIGVGHRLSYTSYLA*FRIKVDTNHAKGVISHVISKQTAPFVIVHCSCSTLLERYPKFVDRHLDAYSAHHRHAV*FIMRPTSRSSSIIDRISGS*ELLPA*RDASSKRIRSTSSLGSFQCT*SILLSFTTIARGTVRPFPALLADARGSSGAITYLYLCPLLLNMGFLAP*PRLWAFVASSILLYFCLSASVYRASSGILLKISS*RPGVPLYFTPSMIILSSLSISKALSPSIVPLLPKYTPYT*SIVVSLSPLRIALMYFCPSGPK*LRNVSCPSDVWNCCLIDVTNDSLGLVSKTSSSMVESDCTLGNVLIGVGGVGESFDLAFCRFRFA*TGVEVMGEYSADMCCFLFALRDVFPFRRIFLGVNVSFPSTSVLISGDVSASVAAVFSAICFSGSTIGLKYFSNAISSSILPVFKA*CF*RMASLVFAISFAILSRSLISRLSISIIAVPQTLLSHRRVDDN*PSHGMANSLNPFL*RPLDIALSLSITTKPYSRCQQLRHKAQKSS*GMSVFT*SLYTCFKLVPSCLNRINRFALSRIRCLGIFAYV*QR*KQSTFEWRPIAKYSRIVSCLSHATSSKIKMEFGSDSLGGMTSLLFENVK*PISSIGANKFSKY*YFGCCNDLEYTYTFSKRTP*GLSNKLTSTLVFPQFDGPQMRQRIVFGSMLPCLRPVFEAITRDLSSKFVTRMVTGCRTNRILPANREK*F*IRRGGDAPYL*VRAET*WLSIQNASDPVG*L*YSRPNL*AIEIYTKDYSTARLWQAH*SVVGQAPRAYKSQFRGSAVSPVLGTL*SPLAANAYRRSNTTD*KL*RMSPTRVKKGCGLLNRAINALPIELHIPGYQFCGPGTHLAKRLARGDRGINPLDAACREHDIAYSRSNDLGERHAADNVLADKARKRIVARDSTLGERGAATAVWAAMKAKTKIGMGMKTKTRKRTPKRASQKRILPVAKRGGILPLLPLLGVLGSLAGGAAGIAKAVNDNKAAQRQLQEMQRHNRSMEGRGLYLAPYKRGQGISKRKKKTSKRK*KCLRA*LPMCNWRSWQNVCVFHSLEVFLCATRYQLVEYVETRAVS*IWTMPRGRGLIGWRMRREGVELYISTALGIFDHLWKW*NIWIRML*KLNTIERPIRSTIRGIADNYVYAFYKRSAPNLRIDFPPL*FSTG*AVRAEYVVNIHSNRQE*HPRGELLSTHRFER*RLRAWSNNL*NLSHNTEHRLEQR*ILLHRKQQCRHRL*IHYDSPRLLRTRRHCQVPEATITRTVS*KSW*HRWRWG*RGQRCVSYSVASQ*QYHEKRAVLSVHRRLYKAQQHWIATGILHESGISTRTMARIGRSN*YHEREHYSHRM*RDRWDVQQWEARTYDT*IFSESSTRI*DIGNARADHLPSNHRTSHYGSDDTRCGSRRTVA*FSR*RDYNQTARATTTTIIRVVRKKCLY*TTPETRFFQVKLFTTPTALITLKRRGSVLRTLHF*NLWDSLCAFKLEKKMADILSIGGKPTFDDRIVKLETHTYNPYVNTTFGYSDEIRIPIQQQDLYTLPCESFLYVEGKLKINKPNDALTVMLGNNCVAFLFDEIRYELNGVEIDRNRNVGITSTLKNYVSLTSDEDKNMENAGWGLKRRDGSLVKNHFNFCIPLKYLLGFCENYKHMIINARHELILIRSRNDNNALIGSSVLEPESKLFKLQWRMPHVTLNDINKLSLLRTLESGQNLSICFQSWDLYEYPMLQNTNKHSWAVKASAQLEKPRCVILALQTGRRNVTSEDVTKFNNCKLTNVKLFLNSEFYPYDDMNLDFDKNKHAILYHMYTQFGKSYYGHSCNEALFTVAEFLQFGPIVVIDCSRQNESIKNGTVDVRIEFECKENVPANTTAYCLILHDRVVEYNPLTNVVRKMN*IATLLVRPLLCQIHTKFHRENRDAL*EKLHSPVCLESERTSKLYR*WLYQHSLTCKGSSSMEDLSRRK*LSYARGQFSHTIFLGVLCHNFFLQNRTNQAFGGWWQNITDYGGTMETFRTVWLNG*LRKL*LMRSTKKTIHLI*YTLKGCRNATGLRISSMKIRERT*SSRRWTLTTRISNL*IS*M*LILCDVVDMQSTAPCKMYLKYSTGGLNTRGKCLNKI*PIFNT*MFFFLHPPQPLACTLD*DDSFNYYVETVRYPFKTVRYPFHTVRYPFKTVRYPFNTVRYPFKTVRYPFKTVQYPFNTVRYPFKTVQYPFNTCSIPVPYRSIPVLIRVQNRSK*YGLAE*YVKEEGKEDACEKGEDGQ**R*VLEDNQRKKNVGGRT*LLQS*ALLDFEL*V*MREPGDAARPVAFKTSLDKV*FFVRDSFLCNKYLKKKNGNQPYRAGVGRGAMLRRL*GMYFKIFFNIYRV*PLKSSEIKSDGCCVSVISWVLFSRTRHRRRRRCRHRHRHRHRHRHRHRHRHRHRRRLQWYVILCIFFFFFFFSFFIRFEVLILYRRLCVCSRTTTSSWDGL*CWRGSWRRLLHLRRYLPRSRICGGVRGQRSVLPWRKGCGDRGCHTGRWGPCGDRGLHHRKKLDGLLSAGRSRRRGG**RPRSQHRHHP*CGRLRGRRRRHLPHHPGGLRRRHRRRPRR*RRPRR*HRPRSRPQRRPRR*RRPRR*HRPRSRPRRRPHRRPHRRPHRRRRPHRHRPSGRRVNLRRRRRPHRHRPSGRRVNLRRRRRPNRHQGHNFFNFFYFLFFIFYVFILFFIFLSLIVFCNNIYS*TYFRVPFYSPVFLLVT*F*DLLTPHNSISFFALLNDVTLHGCSGGFELCTIVRDAKIDKSERFRILLALKTVSFRMRAIVSPSSVVSFPLPKF*L*R*CSVSFPPKTRCENTNLSQHCPKQFLIMY*TIPSHNGLENYLGVVPSLG*V*KKILGWAEV*KRFFGGHSPPWKFPAVGPVWRGLRGRSARTDPLHDRGFPLSAARARATCLPLRTGPASMFPSAALPRAPSLPPRPRAPLRGPELESPYTYYFGQF*IMLDVFI**SCSAHGNYGVRPEFADSGISHLQYVGQVMHRSSIMRSRVS*RRPLLTSVDTAE*LPLWVRGSCLCWVQLSPLIRLGPYVSRIPPLPPIVVLRRLGRDSGCESRGTPGVLHARRPRAP*VRVIMPGREDTG*SPEVGDRCRSKS*NSP*GVTSLLDPDLGDNDTES**VGWCSRTKLYQNLRSHCL*ALIYYGRGEAGAIGVPVFDPGFRSFAMC*WYWCASEIPYVVVSDFGRSIAAIGMCAVSTTLGVGSGTTEEIKKFNFITLHVIKIVL*RCFPLV*MSKRFARPFISFALPPEPHY*Q**PRSPRPVEATKYKFDFFNK*TAKSL*QRCFPLVYMSKRFARPFIPFALPPEPNY**K*PRSPRPVEATKVQVRFFIN*TAKSL*QRCFPLV*RSKRFSRPFISFALSPEPHY*Q**PRSPTSVEATKYKFDFLINKRRNRSNNDAFL*FTCQRDLPDHLFHLPCLQNRIINNNSQEVRDPLKRPKYKFDFLLIKRRNRSNNDAFL*FRGQRDLPDHLFHLPRLQNRIINNNSQEVREPLKRPKYKFDFLLIKRRNRSNNDAFL*FRVQRDLPNHLFHLPCLLLRPRKARRVSRSNVSTADESAEGVDTFMFTLTSFRRAHPATVSGQRILVVTRTYALISKLSLRPLRR*LNFA*RPKSPNAHAFAVS*CVVYVYQCL*RPVADLSTG**RVPVPQRVASFVSPSLRVAPAPAI*LSHLAKTPPEPNY*Q**PIGPRPVEATKYKLDFLINKRRNRCNNDAFL*FTCQRDLPDHLFHLPCLQNRIINNNSQEVRNPLKRPSTSSIFFEYIIKIVGSYRIGLRCLVVYYPKFMHTLLPVTLSV*HFNLQPPLNNLHFSHFCSMCRITPESTNAFFGIFH*LQQ*NCETKNDIIFSQLLHQP*MNARSYKVCVRTLLTD*LSCAVGKNWRVSRTSVYVSAVALGAAAP*GVSVSWPQRKENNYAFISISDKLSPNTLNCYVENNRWNFLM*EKLKYRINLFSKFYI*KIYI*NLENKFIRYFSFSYIRKL*KIYI*NLGKSL*PKGKRRCYSDFAV*LIKNRTCTLVASTGLGLLGYYC**FGSGGRANEINGRANLFDM*TKGKHRC*SDFAVYLLKNRTCTWSLQRVPHLLAIIVNNSVLETGQMK*MVGQISLTSKLTESIVKERF**HGG**CDVPVFFARSYSKIHQ*TSKSLHQSPSNSTLTPSPQSLITLMLYLSGHQHKMIETNSTSPMYLSGPHREMIVTKPLRLFAL*GTNPFLQNEFKQVPHFKSLLNRDHVSIPPLFRLTESKPR*PLSYQPPKIQSKS*VSPLPFIKTLETQLRRIWRT*HKIWLLIAIPFIKTPEVILRLIPKYVKVFTSRNPRNTPVKIHKYEVLRGLALFHRRTSDNVSI*TVLKIIIIQVLKPVLRQPL*VITIIILSFTSILSLIAFYTIFSHITLY**HLSHSKSLLLFAHYFVLSL*RLLRPYIYIFCLTIAYNFLYYIFSYYFILITFITYQRLLHSSITLYYYCLCLLYSYIYFFIIAYYL*TSHVNAYCISFYIMYCD*LQSKQNILGFKVNKPMCFQSRFKLLCVSSSHKDSQRNQAVATADS*ERAQCLQTYCCMSSATHKN*AWFLLDECNGKSYYHSQINTKCHNGCSQSVFYLPWSIRVTD*IFAPDRLQKF*CDGFNIRA*IPQNSQRDGFNIRAWSSLKILSVTDLIFAPESLKPQSAGF*IRAYLFLPIVDVPKDLTRDVTMK*NFLISS*LFFGVRTKKYFGWANMGKRWTMISHRQIVIMFSWGC**KFFLAIIFF*KLFK*KFFMGKPGQTLDKRMPYRFSKNSYLGVLSSQT*YKTLIFENHGREFSRAVP*GVSVSAIAILYHYQPLSEIGRDLSCAQPTSEGYLRAH*AGILLHSEPLLYDSRTNVPLKAIPSGTLHTPHPISYSSPPSRRRHETDASNNRNSAALPTGSEIIVNISLNSAAEVTGCLF*LRESKHVFDCVTRCSYWVRYIWNHFCNPVVCWSKRQCQALDTYLF*CYTILTGQAL*GVVLFDRVACVFRCRFEYAWWSKEM*GLFGPCSQPSHLSRVQGDMPSGTHVTQSLWSSLVRQEFVKLSCWFPNSSNPRYPNRRFAGTITGCDTH*HTSDALNITLS*YD*GHSERSDGFETCGVSRRYPKRH*RGPEYYEGGY*IAVRSCQGD*RKACHLR*TAARSFNGRCHRGVEP*EVEVQKHYHFWDAGAS*ILPGTYQIGRGGSCSRCFE*DLSPRHPGYRRSSTWEIRQDSLQATLCTTRLRG*GEKDPPE*TPV*RPVQNF***D*ATTWDPFAAQGKTPGSSRTRRDPYNYPIYPWFSEDCVG*TAKRLLAKKLNRNPLVYLQNVRGLRTFFFFFFFFF*EGKMLDAYPAR*TGGVMWDSRPNRRTTH*KPLQVYHLDLCSRKRGELLCITCSLPPQKTGSTHLTTLVVLIRLIHIHTRLNTRRSIPHISHTHSG*IRGGPQRITRTPHTSG*IRGGLALRTQHKAVKYAGTTRSTLTTH*GG*IRGGLALRTQHKTVKYVATTRSTHATPKAVKYADIKTRIQYRDTPYALAPGVGGGGTTFLLLGGAPVGVLGPRGFPLLPPSPSCSSPRGGHPHGLPVLGHGFTPNGLVPGRPLFRHLLGLLVDLIPHDRLGKRPKGPPPGFGPCCLSYKRVHRYRRLQLRRE*PPLLLVSRASREGMLGVVTDLPPTVVAKGGRRFPNSRPKGVEGPMRGEEL*HPVIHGGYWASLTRQKRRRHRY*SAGPIVIIIRVPFFLPSPQGCGRRLPSSLGRSLLHQLRGHPAAKVLPITASTAV*FRGPIDFQVRRDLARYHAESVVGDRPVRRRRSNQGRFLRPTQDGPVRFGLKGLCPNRGGVQDDRLPYRII*PPGLYRWSPHVGEKGRQGPKDPLALGRGRQQVVFK*FFRAHKDTQVSQRRGGRHGDPHYLVCPLSKYLTPR*GDNFSFLCRYFKAGPPEPLPDLIHDLGQPHLELGDVSYGEENRQVVRIRDWPDSALPRNEVEEVVIHQVPEEGTQDRPLRHPRPDSAFNMLGGVVHHHPPVPEVILDYPGDDRGNASPR*DPKNEVPANGVEGVLNVDRHHQAPAVPGGAFPCESGDLKGGIHCTDPPSETVLERVERVRTGVRLHQRLHSVLPYLTQGREHANGPIHRWRGRVFPRLG*EDHPRPLP*GRDGTPHQRVPQQGRNVVRVCSGHARDYLGGDRIKTRGLLGLNSGDRSPHQVPVHPSKDGLLVPSCHPAPEASRGPRGARRGNRHKQVFDDGPNLKGSLYLHWRSPLEGGHHRLIWFPPGIHIHRYPHFGPISVLGPPDLLLEGLSCGGIRLPCLVGIRAPLFPAALEPPPNSVCRSLGTRDLPGPPGLRSPATSGL*LLSQLPFGGPFKRRLHPVHERGGVRGGGALRRLSPGGCRPPHG*SPHTRPPSAPGPSPGPNTATRPGRGGEGGAS*YPPVCATRSCDQIRRRVPAPSSS*YIGQWSDPQTLYR*RIYPHACGA*R*TLP*L*WEPVPSTRVLRSKPVPSGPRFYPPPPHTGDLALRSPATTTPRVRVLASLTNSASDSKCVENCLRLMLGEMYPLMNVMSPTTADANPSTDSWGAQGRPGSRRSTRGEVHDYVAGTFAAGGVPSLMEPLMVHPEYRAPTGASLVDDESPHSIFWVSQVYP*TVSRTLELSLQSSFQLSLTVLVRYRSRGCI*P*MEFTTHLGLHSQATRLYGEILPKRVPVATGLAPSPGKWPHSRWTWTRCDVTG*TDPPEHYNSLRRNRGIQCWANSCSLAATKEILVSFFSSA**YA*IQRVISPTLRSSIVIITCTTREKKQRPREVKRRYIIYLLGSSARARASGIPLLDIAPRTGLPAGVRGVRV*WHLYTDATGPGRGPDEKLG*RI*SRSMCNNKTSSDSFSSLARSKFPMHTARIRHRATRTCIFSPVHIPAHSRRPERRIDVIDLVWW*SSGAITRFSRGKVLIPDSSPLIERIRVFPYL*LRLAKVSFRRGSSIRHGWRLSSRNDHRFLL*RPSAIISFEIPLSLHASSSDSQQREPWKNKLFRGLDDRRDPRGLLYDRPRTRQRHGAIGETLFFSILRRRESSYIYLSRHQRLSVRQCSNIHAAAPTRIPGYRNVLNDAWSNRRLALFFSSDVWRKQTLLCVDGTWP*GGNE*GG*ARTRATTGKIHRPDHVNEWFFHFSSRTAPPHYSFYINPLWIFTASRKNECAVVVPSMCIDGNWTFSLTSSSLSSTTTLFKIPGAAWTRRYSIDRRTYAARTPRSFSSISSLLFGLSF*GQVYHFRRRREHG*KISRGT*RQILQTSASGEAAVCVCVSDPGSGAAHGRS**NNDAQRRDESMHARESSRDHSSSHSLPLSFWFSHGKRIYTLHDSRREPLQTPTNRPTFARTSRISSVSSDPTPKRVTSSETRDGEDVITQRPTQAVFCM**RPSARRGPGIVSVDRNVRSKCRCSCVLQFTR*RAISCVLQRPTSQVIHRSG*SCY*ICSLISLFSELWRVLSLSLFLSLSRARARFI*PLGALVVCVFVPVLGRE*ISFLDTSHFTRSRRQHAQTRGGTVIITAHLRYEVNANRRDGGSYLRGQSQRRVLFFPYPVNDGLSRETSRERTRDCVHIIIVPFSKRGRRVSGGLERLLFALHRWQRTGASR*ETRILRL*RPSARKPCHGVAKCVRI*SLVSVEMHSHLVFGICINAFAFSFWYLFKCIRI*FLVSV*MHSHLVFGICLNAFAFSFWYLFI*LHSHLYSVFA*LRFQVFCFLLFEPC**SFRRFTYGNLVTTFTSSK*SSLVIFPATSAMPRHCRAPVRRPH*IIQSVVATGGVYKGQGRNQRELMTRAYWEFLVHGE*LQAPIPSTKEVQRVTRAFRPGKTR*FLQCSVRAAQNI*GHHRPVIAQSRAARSRLSL*EDLFVRW**NPTDRSRGPS*YHKLRLFSRLESRSLSELTRQIAPPTKNGHAPPPTESRKSYKSVNPSGVRAW*GFPC*VKLSRRLHSWWCPSVNSFKFQLCNHTSPGTQKLWFPGSCPPSHRRNFGGSLAGIVYG*N*GGI*SPSNL*LSFLINENIFGKCFRFCPSCDDPRISPLTSQYECPHLSLLIITSGFRKPTK*NRGPIPLFHAHSIQAKVACFEHSNLFKVNVPAHLDTQ*RAPRWDISWTAP*RAKPTGRTYHIMPVKHRER*TDTVTHRFNYELFNRNNFNIRYWSWNYRGCWHQTCPPMDPC*RI*SVLIPITGPRMSPVSLFFVTTSPCREWVICAPAAFLGCGSRFSGSLSGIEP*FPVTRYNHGRRRTYHRQLIRQTFERCVAVAR*PCDQHKVIQSHQSKRWDGRRTIRHRLVLI**KRSFHLWSELCFACISSRITTVIQVNVGTI*GTITDLMSHSRFHLNTVCTETCMA*SLRQAYDYWQDQPGSFAKLPSIRIHHTFVFFLFSSRRPLF*RRIDDAPRL*LYKTCTRQRAVLERHHILES\u001b[0m\n",
      "CAKMYH010000097.1_start=145000_end=175000_frame=+3 FragmentStart=0_FragmentEnd=9999\n",
      "\u001b[31mRNATADGH*RES*I*PSMSTSTIRCARDVTSSCRVYCL*RKPQLACNPRTMRVSRGQWSPLSILSKEMPIAQVRTRLMLPC*ISRALSSQCPWSK*GSLSDRTKSPSTSTPSTRRKGRRSFRCVSPATRGINTSTCSTHRIKSTVM*GTLYLSRTCPGW*ACS*AGTRKRNSSAIGMYRKLVKY*NVSRNKLNKNIYGYRCMHYFGSVEKLEIHSLDCGKMNDCAILLPSEGKNLLSFENHCRKERLPFVVYADLECIIEKTEDNRVGDLDNKLHTYQHHKVHSIAYYMHCSYDTSLSTYRCRRDADCVSWFVYELKKFANFAKPILNSNVPMLDLTSEQLTIFHDATNCHICEKPFKANDVRVRDHCHLSGRFRGPAHSECNLNYKNAFYIPIVFHNLSGYDSHFIIEEIATAFDGHVDVLPITKEKYISFTKNVEDTAESDSRNYIKLRFIDSYKFLNTSLDKLASFLSIDQLKILRSKFETLSTEDFNLLTRKGVFPYEYLDCANKLQDPCLPPRESFYSSVTGETVSESDYAHAETIWQRFGIRTLGEYSDLYLKTDVLLLADIFENFRESCIKSYGLDSAHYYTLPGFTWDAMLKHTKIEFELLTDVDMVMFIERGIRGGLSQCSGRYAHANNKYMPSYDASEESSYLMYFDVNNLYGWAMCQPLPYAKFQWVEDVAKFDVSSIKVDSLIGYILEVDLEYPQRLHNAHADLPFCPTRAKPPGSRQDKLLATVYDKQRYVIHYRNLQQCTRHGLRITKIHRVLQFAQSPWLRDYIELNTRFRTSATNDFEKNLYKLMNNAVFGKTMENVRNHVDVKLLTHWEGRYGAEAMIAKPNFHSRSVFSENLIAVELRKLEVKFNKPIYVGMCILDISKICLYEFHHEYMSPKHGENCKILYTDTDSLIYHIRCDDIYETMKHNIDRFDTSDYPIDNAYNMPRVNKKVPGLMKDENNGVIMTEFVGLRAKMYALRVDGKKDTKKAKGVKTNVIARTITFDDYAQCLQREIEMVRRQSCIRSKHHKVYTISESKIALSPYDDKRHIVPDSTDTLPWGHYNIPL*NRNYCIINSGIIVL*IVELLYYK*WNYCIINSGINVLK*KNCLHIYTYVSLYLLNY*FYNILFLLIQELCDLSNPSHLTYTLSPFLRNTFSTRCTSGSATRCSSCS*NPPATGFPQESTSRYVAGLVACTLAILNTSVVQFGV*PLSKMVLNLLTRTNSPNLNLAGAAIFMLLYTVASSLSAITGVTSQGRILMVLCFRALYSASRRGSTSIHL*VPLSVNNFHILFFKVRLKRSTTEAFITEYVE**LISCFVKSFCISAL*NSFP*SVCKFFGYRSLNIFANALVTSAPLLVLSGTAHAYLLNTSMTVSM*WRPWLKREYGRISTMLACHKSSYPCTTTRLRGKCLRAGACNSSTSCSFL*PWFSSLLLDFDNGCMFDRRGVLDTNDAIIIAYIYYVLLVGPRKFWTSCCSVAKAVIASLTLRVSLSGCGIELNASDIF*TLFCNVSISF*NTTSFLSNSSCCSLKSLMFFSTYSLLTTSVSATG*ATRRILRDFASKSTPTMQRVLSRM*FRSKPLHL**SIVAAPLFSSDTPNLLIDISMHTAHIIGMRFNL**GLPRGVPR*SIEFRDRESCYPPDATLQANAFDPPARWDRSSVRNRSCYRLPP*RAVPLDLSLPY*LMREGVAVQLHICTCVPCCSIWDF*HHDRVCGRSSPAVYFYIFVYRHRCIEHHREFS*KSVRKDRVFLCILHHL*LYYHPCLYRKPYLQASFHYCQSIRRTHSPLLYPYHHLGSRSCIFAPAGRNDCETSLVPRMFGIAV**MLQTTHWD*FRKHHHQWLRVIAHWEMYLLVWVESENRLIWHSVGSASLELVSRLWVNIPPTCVVSSLPCAMCSLSEGFF*ALMFHSPQRLCSSAAMCQLPSLRYFPQYVLVVRR*V*SISPTRYLPPSCQSSKPDVSDEWLRWFLQFPSLFSRDP*SPDYRYRSSLYRRRCFPTDVLTTIDHLMVWQTR*IPFYNVHWTLHYPCLSPRNHTPVANNYDTKRRNPRKACRCLRDRCTHVSSWYHPA*TESTDSHCRVLDVWESLHTSDRDRSSQRSSGAPLQSTLVSYLACRMPRHQR*KWNSEAIRSVG*RHCYSKT*SSQFHLSEPINSPSTDISAVATTWNTRTRSRSGRREDFPTS*PARWSFHNLMDHK*GSG*CLVACYHVCALFSKPSLAIYRQNLSRVWLQVVARIASSPRTVKNDFEYVEAVMHPIYRSALKHDGSVFKMLLILSDNYDIRDLTSEQLKYIPKIILLRDFGRHIDRLWDRLPEHIKANSEVQQYRRCLEHYNRPWQRTHIDGPTPLIKNCSECHRRE*RKVVVC*IEL*TRYLSNYTSRDISFAVQELILQNDWLEGIEVSIRWTQRVANTILHIRVATTSAKGTRQITFSLTKRENASLRETRLWVKEVLLQLFGLL*RPRRRSEWG*KQKLAKGLQREHRKSGFFRWQNGVVYYHFYRCWVFSDHWLVERRGSPRR*TIIRRRNVSCRKCNAIIAPWKVADFISRRTSADREYLNEKKKRRKENKNACGRNYRCAIGGVGKTYAYSIL*RCFYAQRVTSWWSTSKRERYRKFGQCRGAGDSLGGVCEERVSSYIFRQLWESSTTYGNGKISG*GCCEN*IQSNVLSEVRSEELRTTMSTLSTNDRRQI*GLTSHHSDSVLVEQFGQNMSLTFTLTGKSSTLAASYFPPIDLSDDDYELGLTTFETYHTIPNIDSSNDKFYFIVNNSADTAYEYITIPHGSYELDAIAKYLKQRLLERYPKNLGDTDGDGDDGDNDVYPIVLRPNNNTMKSELYCRFTVDFTKPNNIGSLLGFSTNRVLAPERWHESDDPINIMNVNIIRIECSVTAGTYNNGRRVHTIHEFSPRVPPGYKISETPAQIIYLPITARVITDLTIRVVDQDGRLLDFRGEEITIRLHVRRRLR*YVWCERNACIERLQKPVSSK*NCLQHQQL*SR*KEEAQCCEHCIFEIFGIHCAHLSWKKKWLIF*ALEGSRRLMIASSSLRLTHTTHT*TQRLDTAMR*EYRYSSRIYTHCRVKVSSMWRGN*R*ISQMMR*R*CWEIIVWRSYSMRFDTS*MAWRLIATETLE*LARLKTMCR*HLTKTKIWRMPDGA*NDAMDH**KIISIFASHSNIC*DFARTTNT*LLMRVTN*F*YGRATTTML**DHRCWNQKVNYLNYNGGCLM*R*TTLISYRCYVLWKVGKT*AFVFNRGICTSILCCKTQTSIRGP*RHPHSWRSRDV*SLLYRLVEEM*RAKTLLSSTTVN*PM*NFFSTRNFTHTMI*TWTLTRISMPSCITCIRNSVNRIMGIVATRHYSPWLNFYNLVPSW*LIVRDKMSPSRMAPWTCA*NSSVKRMCRQILQPTV*FCTIGWLNTIH*QT*CAK*IKLPRYLCALSCVKFIQNFIVKIEMLYEKNCILLSVLKASGPLNCTDNGCTNIR*PARVHRRWKICREGSSCPTQGDNSRTLYFWESYATISSYKIGQIKHSVVGGKTSRTTVGRWRRSVQYG*TANYESCS*CDRRRRRYISYSIR*RAAETRLACGFPR*KYESGRDHRDAGH*LRGYQISK*AKCS*YSAMW*TCKALRLAKCI*NIQLVV*TPEGNA*IKYNQFLIHKCFFFFTLPNLLHVR*IKTIVLIIM*KPFDIRSKPFDTRSIPFDTRSKPFDTRSIPFDTRSKPFDIRSKPFNTRSIPFDTRSKPFNTRSIPVQYPFHTVRYPF*FAFKTVQSDMV*LNDTSKKKGKKTRVKKERMGSDEDKCWRIISEKKM*VGEHSFCKAKHFSISSYEFRCESLETQRDQLHSKLH*TKFSFLCATVFCATNI*KKKMGINRIAPEWDEEPCSDVFEVCTLKYFLTFIAFNR*NRARSNQTAVVLVLYRGFYFPELATADADAVAIAIAIAIAIAIAIAIAIAIAAASNGM*YFVFFSFFSFFLFLSVLKY*YYIDVCVYVLEQRLPHGTVCDVGAAPGGGCCTSGGTCPGAAYAAEFGANDRSCHGGKVAATVGAIQAGGAPAATAASITARNWMDCCQQAAAAAGVGDDAPGVSIATIRDVDASGVVVVVICHTTLVASVDAIDAVLAADAVLAADTVLAAVLNAVLAADAVLAADTVLAAVLAAVLTAVLTAVLTAAVAPIATARVGGG*IYAAAVAPIATARVGGG*IYAAAVAPIATKAIIFSIFFIFCFLFFMFLFFFLFFYL**FFVTIYILKRISEYHFIHQSSSLSPNFKIC*RHIILFRSSRC*MMSPCTAAPEVSNYARSCATLRLINRNALEYC*L*KLLALECVRLYRQVVLSLSLFQNFSFKGNALSLSLRRRGVKTPIFPNIVRNNF**CIKQFHRIMVWKIIWGSSPPSVRYKKKFWGGPRSERDFLGVIHLRGNFRRWVRSGEVSAAARPGLIPSTIAASPSPRHVRAQPVFHSAQAPRPCFPPPRSPARPHFPPAPALPSEDLS*NPLIHTTLVNSKLCSMSLSNDRARRMGITACGLNSLIVVFRTYSTWVR*CIARRL*EVECPDGVLC*RPLILRSDCLSG*GVVVSAGSSCHR*SGLVLTLAGSHRCHQLLC*GAWVEILDANLGVLLASFTLVVHGLRKSG**CRDGRIRVRARR*GIVAGRRVRTHRKV*QVYWIPIWVTMTLSLDESGGVPVQSFIKICARTVCRR*YTMVGAKRGPSGSPSLTRDFGVSPCADGTGALPKSLMWLCRILAVRLPQSVCARCRRP*VSARAQQKKLKNLTSSPSMLSKSFFNDAFR*FRCQRDLPDHLFHLPCLQNRIINNNSQEVRDPLKRPSTSSIFLINKRRNRSNNDAFL*FTCQRDLPDHLFHLPCLQNRIINKNSQEVRDPLKRPKYKFDFLLIKRRNRSNNDAFL*FRGQRDFPDHLFHLPCLQNRIINNNSQEVRHPLKRPSTSSIF**INGEIALTTMLSFSLHVKEICPTIYFICPVSRTELLTIIAKKSETR*SDQSTSSIFY*LNGEIALTTMLSFSLEVKEICPTIYFICPVSRTELLTIIAKKSVSR*SDQSTSSIFY*LNGEIALTTMLSFSLEFKEICPTIYFICPASCCGRVKRAASRVQMCQPLTSQLRALTHLCLL*RLFDALTRRPLVANESLS*HARTHSSPNCRCAHCAVD*ILLSDPSRQTPTRSLYHSVLSTCISVCDVQWLICPLDNKECQSHKGSRRLFHLPFELPQRRQFNFRTWRKHLQNRIINNNSQ*VRDPLKRPSTSSIF**INGEIAVTTMLSFSLHVKEICPTIYFICPASRTELLTIIAKKSETR*SDQVQVRFFSNIL*KSLVLTV*V*GVWWYIIQNLCTHFFPSLYPYDTSICSPH*IIYTFHTSAACAESHQSLPMLFSAFFTNYNNEIAKRKMI*SSHSYFTSRK*TRDLTRSVSELC*LTDFHAPLERIGEYRGHLFTFQQWHLAPRPLRASAFRGLSERKITTLL*AFLISYRQIH*TVTLRTIGGIF*CKKS*NIG*TCFLSFIYRRFIYKT*KTSLSDILAFLTLENYRRFIYKTWANLFDLKESVVVTAISPFN**KIELVLWSLQRVSDFLAIIVNNSVLEAGQMK*MVGQISLTCKLKESIVVRAISPFIY*KIELVLGRFNGCRTYWLLLLIIRFWRQGK*NKWLGKSL*HLN*RKASLKNDFDNMEGDDVTSQYFSHVPIPKYISKPQNHSTKVPQIQLLPHLLNR*SP*CCTLAVTNTR*SKQTPPRRCTLVVPIAR*SLQNLFAYSPYEARILSSKTNSNKSLISNPS*IETMSRSPPFFDSQSPSHANPFHINHLKSNRRVEYLLYRL*KP*KPNYDAFGVRDIKYGY**PYRL*KPRKSYYVLFRNMSRSLPRVTPAILL*KYINTKSCEASLSFIAELLTTYLFKRC*RLLLFKC*SQCYGNHCKSLPLLYCHSLPYYRL*LSILYFLILLYINNIYRILKAYCYSLIILYYHCNAYYGHIYIYFVLLSLITFYTIFSHITLY**RLLHINACCIQALLCIIIVYACFIHIYISL*LLITYKLLTLTLIAFHFILCIVTNYSLNKTYLGLKLINLCVFNHVSNYCVYPQVIKIPNETKLSQQLIRKSAPSVYKHTVA*AVQPTKTKRGFFWTNATVNPITTAK*TRSVITGVRKVSFTFPGRLE*RIKYSRLIASRNSSVTDLIFAPKFLKTLSVTDLIFAPGLPSKSSV*RI*YSRLSPSNLRVLDSRFAPIFSSPLSTSPKTSPGT*Q*SKIF*FLHNFFLECEQKNILGGQTWGNDGQ*SPTVKSL*CFHGGADENFFWP*FFFENCSNENFLWANLGKRWTNECRIVFPKIRIWGCYLHRPNTRRLFLKITAESSLVPYREVCQCRP*PYCTITSLCPK*AEIYLAPSLRQRGTSAPIRPESYCTLNLSYTTLVRTCPLRPFRAERYTHRIQSPTARRQVAAATRPTRRTTVTPQLFRRDRK*L*T*VLIQLPR*QVVCFDYARVSMCSTV*LGVAIGSVISGIISVTLWFAGLKDSVKP*THICFSATQF*LVKHCEV*CFLIVWLVFFGVGLNMPGGQKKCRGCSAHVVNPVTCPGCKAICHPGPT*LSRSGHPWFDKSLLNCRAGSPTVQTPVIQTAASPAQSLAAIPTDTLQTLSTLPSADMIRDIVSDLMDLKLAAFREDILNGIKEDLSIMRADIKLLSDRVKAIEEKPAISAEQLPAPSMDDVIEEWNHRKLRSKNIIIFGMPEPRESSPELIRSAEVEAARVVLSEICPLGTQAIVVHRLGKSGKTHCRPLCVRLDSAAEAKRILQNKHRYKGPYKISDDKTRQQRGTLSQLREKLRDLHEQGETHITIRYIRGFPKIVSGRPQKDSSQKN*IVTL*CIYKMSVVYALFFFFFFFFFRRGKCLMHTPPDKLAGLCGTPGQIGGLPTKNPSRCTTSICALGRGANFSALLAPSPPRKLGAPTSPLSWSSSGSSTFTHG*IRGDPYHIYHTHTAVKYAEDLNVSHAHHIRADKYAGDSHCVHNTKRLNTRGPHAVRSQHIKADKYAGDSHCVHNTKRLNTWRQHAVRTQHLKRLNTRI*KRGYNIAIPLMP*LPGWGGGGLPFSSWGGRPWVFLAPGVFLFCPLPPAAARLAAATLMASQCLATASRLMASFLAARSSATFWASLWTLSPMTAWANVLKAPHLVSVLVAYPINVSTATGACSSAASSRLCSS*VGQVVRACSASSRTSPPQSSQKGDDAFPILVLKALKDP*EVRSCNTQ*SMGATGRPSPARNVVATGINRRVQLLLSYASHSSCHRLKAVAVASLLRWAALSSTNCGDTPRRRSSLSRLLPLYNSEALLTFKCAGIWPDITQRAW*ATVLYAAVVRTRADFCALRRMVLFVSVLRAFAQTGAAYKTTDSHTE*YSLLACTDGPPTLGRRGARAPRILSPLAAAANRWSLNDFFVPIRTPRYLSVAAGVTGTPITSYVLSLNI*HPVRAIISVFCVAISRPVRLNHCPTLSMTSASLTSNWVTSVTEKRIAKSSAYAIGLTLLSPATR*RRSSYTRFQKKGPRTDP*GTPAQIPHSTCSVGLCTTTRLSLK*SSITLVTIEGTPLLARTPRMRSQRTELKAFLTSIATIRHRRFLAAHSPANLVTSRVASTVPTPLLKPYWNGWNGSGPVYVSISAFIAYSHTLLKAGSTLMGLYTDGEAGSFPALGKRTTLALFHEGGMAPLTSVSLSRAATWSGYALATHATTWEGTASRPGAFLALILATAAPTRSPSILPRTASSFPLVTQLPRPAGARGAPVGGTVTNRCSMMALT*RGVFISTGDLPLREAITVLYGFPQGSISTATLISDQ*ASLALQISFWRAFRAVAYASLAWSASGRPFFRRRWNHLLTLFAAALAHATSRVHQDLGRLPPLGCDFLASCPSVARSSADCILSTNGVESGGGGRCGVCPQGDAAPLTDDLPIPGHHPLRDQVPDRILRPGRGGGGREVPLDIPQCVRHVAVIR*GGVSQHRALLNTSGSGPIRRHYIDEGSTPMLVVHEGRPCLNSDGNQSHQRECFAASLSPPVQGFTPPPPIPGTWR*GHRPRQRPVCAFLLP*PTPPAIPSASKIA*D*CWGKCTH**TLCPLPPRTRTPPLTAGGHRVGRGRDVLLGEKCTTTWPEHSPPVVYPR*WNH*WSTRSIAHRREPASSTMNLPIRSFGFLRFTPERFHVLLNSLFKVLFNFPSRYLFAIGLVVVFSLRWSLPPT*GCTLKQPDSMERSSRNAYRSLRAWHPLRVSGPIQDGLGRGATSRDKRILLNTTIPCGGTAGFSAGLIPVRSPLLRKSLLVSFPPLSNMLKFSG*SRLL*GRQSLLLHVPPEKKNRDREK*REDILYIFLGVARALAPPVSLFWILHLERVSRREYGVCACSGIYTPTRRGRAGGRTRSWAEEYKAEVCATTKLLQILSLPSLARNFPCTPRVYGIAPHAHAFFPPYTSRLIAGDPNDGSM*SISCGGNPAVPSHDFPEERY*YRTLLL*SRELEFSPTSNCASPKCLFVAVRRFDTGGDSPRGTTTGFYFNVRPLLLALRFRYPFTPRAATRSRGNRGKISFSVDWTTGETRGVSCTIDQERDKDMGRSGRLFSFQFYEGESLLTYTSRGISAFRFVNVQIFTQPRQRGFRGTETF*TTRGAIVVSLSSSHRMFGANKHSCVSTERGHREGMNRGARRGHAQRRGKYIDPIMLTSGFFIFHPAQRLPIIHSTSIPCGSSRRPGRTSVLSSCPRCVSMETGLFLSLPHHCRQRQPFLKSLGPLGRDDIV*IGAHMPRALRALSPPSLLFSLVSLSRDKFIISGDVGSTVKRSRAGHEGKFYKPVRAERPLCVCVCLIRGAVQHTGGRNETTTHNAVMKACTHASPRAIIRHHIRFLSLSGSRTAREYTRFTILGASRCKRRRTAQLSLVRRVSLVYHPTRLRNALHRRKRETARM*LRRDRRKQSFVCDNDPQPGVVQELYPWTAMCVRNVDVHVSCSSHVDAQLAAFFNDPRAK*STVQGNRVIKYVR*YLCSRNFGAFSLSLSFSLSLARARALFNHSERLWCVFSSRSWVASESPFSIRATLHARADNTRRHVVVPL**LHTSDTR*TRIDETAGLT*EDNRNDGSCFSPIQLTTASREKPRASALVIAFILLSSRSQRGDAACLAVWSACSLRFTDGSGRERRGEKPGFSVCSDPPHVSRATALLNASAFSLWYLLKCIRI*FLVSV*MHSHLVFGICLNAFAFSFWYLYKCIRI*FLVSV*MHSHLVFGICLYNCIRIYIVFLHSYGFKFFAFCSLSLVNDPSAGSPTETLLRLLLPLNDQVWSSSRQHRQCRDIAAHQSEDLTKSFNR**RRAVCTKGRDVINASL*LALTGNSSFMGNNCKPQSLARRRFSGLPGPFGQGKHADSFSVACVRPRTSKGITDLLLLNLVRLEAACPSKKICLYVGSKIPPTGVGDLHDTISYVYLAG*SLVRYRN*PDKSLHQLRMAMHHHPPNQERAINLSILPVFGPGEVSRVESN*AAGSTPGGALPSIPLSFSFATILLPEPKSFGFPEAARRVIGGTSADR*LASFMVRTRAVSDRLRTSNFRS*LMKTFLANAFASVRLATIQEFHL*RRNTNAPICPY*SLPRGSENQQNRTEVLFHYSMHTVFRRR*PALSTLICSK*TYRPTSTLSEEHRDGILVGPPREELSPPVGRTT*CQLNTASGEPTL*HTDSTTSFLTATTLIYAIGAGITAAAGTRLALQWILVKGFKVYSFRLRGLG*VPYRYFSSLPPRAGSG*FAPLLPSLDVVAVSQAPSPESNPDSPLPVTTMVGAEPTIDS**GRHLKDASPLLDDHAISTKLFRVTKANDGTDGEPSATDWF*SNKSVPSISGRNSVLHVLALELPQLSK*MWVRSKEP*LI**AIRGFTLIRYVLRHAWLNL*DKHMTTGRINQGASRSFPLFEFTTLSCSFCSHRVVRSFRDGSTMPHVYNFIKLAHVSVQF*RDIISSNR\u001b[0m\n",
      "CAKMYH010000097.1_start=145000_end=175000_frame=+ FragmentStart=0_FragmentEnd=2047\n",
      "\u001b[31mccggggggggggggcgctgCGGCGTCTGTCCCCAGGGGGATGCCGCCCCCCTCACGGATGATCTCCCCATACCCGGCCACCATCCGCTCCGGGACCAAGTCCCGGACCGAATACTGCGACCAggccggggagggggggggagggaggtgcCTCTTGATATCCCCCAGTGTGTGCGACACGTAGCTGTGATCAGATAAGGAGGCGTGTCCCAGCACCGAGCTCTTCTTAATACATCGGGCAGTGGTCCGATCCGCAGACATTATATCGATGAAGGATCTACCCCCATGCTTGTGGTGCATGAAGGTAGACCCTGCCTTAACTCTGATGGGAACCAGTCCCATCAACGCGAGTGCTTCGCAGCAAGCCTGTCCCCTCCGGTCCAAGgttttaccccccccccccccataccGGGGACTTGGCGTTAAGGTCACCGGCCACGACAACGCCCCGTGTGCGCGTTCTTGCTTCCCTGACCAACTCCGCCAGCGATTCCAAGTGCGTCGAAAATTGCTTGAGATTAATGTTGGGGGAAATGTACCCACTAATGAACGTTATGTCCCCTACCACCGCGGACGCGAACCCCTCCACTGACAGCTGGGGGGCACAGGGTCGGCcggggtcgcgacgttctactaggggagaagtgcacgactacgtggccggaacattcgccgccggtggtgtaccctcgctaatggaaccactaatggtccacccggagtatcgcgcaccgacgggagccagcctcgtcgacgatgaatctccccattcgatcttttgggtttctcaggtttacccctgaacggtttcacgtactcttgaactctctcttcaaagttcttttcaactttccctcacggtacttgttcgctatcggtctcgtggttgtatttagccttagatggagtttaccacccacttagggttgcactctcaagcaacccgactctatggagagatcctcccgaaacgcgtaccggtcgctacgggcctggcaccctctccgggtaagtggccccattcaagatggacttggacgcggtgcgacgtcacgggataaacggatcctcctgaacactacaattccctgcggcggaaccgcgggattcagtgctgggctaattcctgttcgctcgccgctactaaggaaatccttgttagtttcttttcctccgcttagtaatatgcttaaattcagcgggtaatctcgcctactctgaggtcgtcaatcgttattattacatgtaccaccagagaaaaaaaacagagaccgcgagaagtaaagagaagatatattatatatcttcttgggagtagcgcgcgcgctcgcgcctccggtatccctcttttggatattgcacctcgaacgggtctcccggcgggagtacggggtgtgcgcgtgtagtggcatctatacaccgacgcgacggggccgggccgggggccggacgagaagctgggctgaagaatataaagcagaagtatgtgcaacaacaaaac\u001b[0m\u001b[32mttcttcagattctttctcttccctcgctcgctcgaaatttcccatgca\u001b[0m\u001b[31mcaccgcgcgtatacggcatcgcgccacacgcacatgcattttttcccccgtacacatcccggctcatagccggagacccgaacgacggatcgatgtgatcgatctcgtgtggtggtaatccagcgGTGCCATcacacgattttccagaggaaaggtattaataccggactcttctcctctaatcgagagaattagagttttcccctacctctaattgcgcctcgccaaagtgtcttttcgtcgcggttcgtcgattcgacacgggtggagactctcctcgcggaacgaccaccggtttttactttaacgtccgtccgctattattagctttgagattccgctatcccttcacgcctcgagcagcgactcgcagcagagggaaccgtggaaaaataagcttttccgtggattggacgaccggcgagacccgcggggtctcttgtacgatcgaccaagaacgcgacaaagacatggggcgatcggggagactcttttcttt\u001b[0m\n",
      "========================================================================================================================\n",
      "                                                                                                                        \n"
     ]
    }
   ],
   "source": [
    "TARGET_RECORD_ID = \"CAKMYH010000097.1_start=145000_end=175000_frame=+\"\n",
    "SHOW_NUCLEOTIDE = True\n",
    "SHOW_TRANSLATED = True\n",
    "SHOW_MISSING_FRAMES = True\n",
    "NUCL_VISUAL_OFFSET = np.array((1500, 500))\n",
    "AA_VISUAL_OFFSET = NUCL_VISUAL_OFFSET // 3\n",
    "\n",
    "\n",
    "fp_selected_data = predictions_data[predictions_data.t_record_id.str.startswith(TARGET_RECORD_ID)]\n",
    "\n",
    "\n",
    "visualize_predictions(fp_selected_data, genome_map, proteome_map, show_translated=SHOW_TRANSLATED, show_nucleotide=SHOW_NUCLEOTIDE, show_missing_frames=SHOW_MISSING_FRAMES, nucleotide_offset=NUCL_VISUAL_OFFSET)"
   ]
  },
  {
   "cell_type": "markdown",
   "id": "94e94f3a-5025-4683-a854-a61334333287",
   "metadata": {},
   "source": [
    "# Proteins"
   ]
  },
  {
   "cell_type": "code",
   "execution_count": 26,
   "id": "9d8e098f-5f04-4c9a-acc5-0493df17d254",
   "metadata": {},
   "outputs": [
    {
     "ename": "FileNotFoundError",
     "evalue": "[Errno 2] No such file or directory: 'predictions/annotations/Andrena_dorsata.gff'",
     "output_type": "error",
     "traceback": [
      "\u001b[0;31m---------------------------------------------------------------------------\u001b[0m",
      "\u001b[0;31mFileNotFoundError\u001b[0m                         Traceback (most recent call last)",
      "Cell \u001b[0;32mIn[26], line 1\u001b[0m\n\u001b[0;32m----> 1\u001b[0m records \u001b[38;5;241m=\u001b[39m \u001b[43mget_augustus_proteins\u001b[49m\u001b[43m(\u001b[49m\u001b[43mannotation_file\u001b[49m\u001b[43m)\u001b[49m\n\u001b[1;32m      2\u001b[0m \u001b[38;5;28;01mfor\u001b[39;00m idx, record \u001b[38;5;129;01min\u001b[39;00m \u001b[38;5;28menumerate\u001b[39m(records):\n\u001b[1;32m      3\u001b[0m     \u001b[38;5;28mprint\u001b[39m(idx, record\u001b[38;5;241m.\u001b[39mid, record\u001b[38;5;241m.\u001b[39mdescription)\n",
      "File \u001b[0;32m~/disk2/AMP/nn/reps/Apidaecin_AMP_search/src/io.py:128\u001b[0m, in \u001b[0;36mget_augustus_proteins\u001b[0;34m(augustus_gff_file)\u001b[0m\n\u001b[1;32m    127\u001b[0m \u001b[38;5;28;01mdef\u001b[39;00m \u001b[38;5;21mget_augustus_proteins\u001b[39m(augustus_gff_file):\n\u001b[0;32m--> 128\u001b[0m     \u001b[38;5;28;01mwith\u001b[39;00m \u001b[38;5;28;43mopen\u001b[39;49m\u001b[43m(\u001b[49m\u001b[43maugustus_gff_file\u001b[49m\u001b[43m)\u001b[49m \u001b[38;5;28;01mas\u001b[39;00m gff:\n\u001b[1;32m    129\u001b[0m         content \u001b[38;5;241m=\u001b[39m gff\u001b[38;5;241m.\u001b[39mread()\n\u001b[1;32m    131\u001b[0m     annotation \u001b[38;5;241m=\u001b[39m pd\u001b[38;5;241m.\u001b[39mread_table(augustus_gff_file, comment\u001b[38;5;241m=\u001b[39m\u001b[38;5;124m\"\u001b[39m\u001b[38;5;124m#\u001b[39m\u001b[38;5;124m\"\u001b[39m, header\u001b[38;5;241m=\u001b[39m\u001b[38;5;28;01mNone\u001b[39;00m,\n\u001b[1;32m    132\u001b[0m                                names\u001b[38;5;241m=\u001b[39m[\u001b[38;5;124m\"\u001b[39m\u001b[38;5;124mSeqName\u001b[39m\u001b[38;5;124m\"\u001b[39m, \u001b[38;5;124m\"\u001b[39m\u001b[38;5;124mSource\u001b[39m\u001b[38;5;124m\"\u001b[39m, \u001b[38;5;124m\"\u001b[39m\u001b[38;5;124mFeatureType\u001b[39m\u001b[38;5;124m\"\u001b[39m, \u001b[38;5;124m\"\u001b[39m\u001b[38;5;124mStart\u001b[39m\u001b[38;5;124m\"\u001b[39m,\n\u001b[1;32m    133\u001b[0m                                       \u001b[38;5;124m\"\u001b[39m\u001b[38;5;124mEnd\u001b[39m\u001b[38;5;124m\"\u001b[39m, \u001b[38;5;124m\"\u001b[39m\u001b[38;5;124mScore\u001b[39m\u001b[38;5;124m\"\u001b[39m, \u001b[38;5;124m\"\u001b[39m\u001b[38;5;124mStrand\u001b[39m\u001b[38;5;124m\"\u001b[39m, \u001b[38;5;124m\"\u001b[39m\u001b[38;5;124mPhase\u001b[39m\u001b[38;5;124m\"\u001b[39m, \u001b[38;5;124m\"\u001b[39m\u001b[38;5;124mAttributes\u001b[39m\u001b[38;5;124m\"\u001b[39m])\n",
      "\u001b[0;31mFileNotFoundError\u001b[0m: [Errno 2] No such file or directory: 'predictions/annotations/Andrena_dorsata.gff'"
     ]
    }
   ],
   "source": [
    "records = get_augustus_proteins(annotation_file)\n",
    "for idx, record in enumerate(records):\n",
    "    print(idx, record.id, record.description)\n",
    "    print(record.seq)\n",
    "    print()"
   ]
  },
  {
   "cell_type": "markdown",
   "id": "08cf1dfd-6584-4ab2-a874-cb392efafae5",
   "metadata": {},
   "source": [
    "# Commit proteins"
   ]
  },
  {
   "cell_type": "code",
   "execution_count": 21,
   "id": "345816ee-bdea-4a09-aa29-0c375ccac4dc",
   "metadata": {},
   "outputs": [],
   "source": [
    "def commit_proteins(proteins_file, new_records, force=False):\n",
    "    all_proteins = {rec.id: rec for rec in SeqIO.parse(proteins_file, \"fasta\")}\n",
    "    for record in new_records:\n",
    "        if record.id in all_proteins and not force:\n",
    "            warnings.warn(f\"Protein {record.id} is already commited. Skipping...\", category=UserWarning)\n",
    "            continue\n",
    "        all_proteins[record.id] = record\n",
    "    return SeqIO.write(list(all_proteins.values()), proteins_file, \"fasta\")"
   ]
  },
  {
   "cell_type": "markdown",
   "id": "daa28e87-9eef-495b-93bc-0cbe95b07c5d",
   "metadata": {},
   "source": [
    "## Commit auto"
   ]
  },
  {
   "cell_type": "code",
   "execution_count": 22,
   "id": "73f91c09-778e-497e-9106-a3884c48d4c3",
   "metadata": {},
   "outputs": [
    {
     "name": "stdout",
     "output_type": "stream",
     "text": [
      "0 RJVV01031371.1_start=0_end=30000_frame=+ Gene_start=1393 Gene_end=3525 Auto\n",
      "MAKISAFLIVALFAFAALSVQAEPEPARGGKPSRPRPPPIKPRPPHPRLRREAEGLEEDVAEVETDEVEESAVALDRVRREPGRPGNMPRPKPIPIRPRPPHPRLRREAEELEAEDVLPLERLRREAEELEAEDLEADEVLPLERVRREPGRPGNMPRPKPIPIRPRPPHPRLRREAEELEVEDLEADDVLPLERVRREPGRPGNMPRPKPIPIRPRPPHPVSIIFIENE\n",
      "\n",
      "1 RJVV01183868.1_start=0_end=30000_frame=- Gene_start=28 Gene_end=535 Auto\n",
      "MPRPKPIPIRPRPPHPRLRREAEELEVEDLEADDVLPLERVRREPGRPGNMPRPKPIPIRPRPPHPVSTIFIENE\n",
      "\n",
      "2 RJVV01026129.1_start=0_end=30000_frame=+ Gene_start=1395 Gene_end=2603 Auto\n",
      "MAKISAFLIVALFAFAALSVQAEPEPARGGKPSRPRPPPIKPRPPHPRLRREAEGLEEDVAEVETDEVEESAVALDRVRREPGRPGNMPRPKPIPIRPRPPHPRLRREAEELEAEDVLPLESPSRTRPSRKYATT\n",
      "\n"
     ]
    }
   ],
   "source": [
    "subset_to_commit = [0, 1, 2]\n",
    "records_to_commit = [records[idx] for idx in subset_to_commit]\n",
    "for idx, record in enumerate(records_to_commit):\n",
    "    print(idx, record.id, record.description)\n",
    "    print(record.seq)\n",
    "    print()"
   ]
  },
  {
   "cell_type": "code",
   "execution_count": 23,
   "id": "a54e0b2d-5fa1-42dd-969e-108c12bb3606",
   "metadata": {},
   "outputs": [
    {
     "data": {
      "text/plain": [
       "3"
      ]
     },
     "execution_count": 23,
     "metadata": {},
     "output_type": "execute_result"
    }
   ],
   "source": [
    "commit_proteins(\"hymenoptera_proteins.faa\", records_to_commit)"
   ]
  },
  {
   "cell_type": "markdown",
   "id": "8d3dfd77-1808-4773-90d4-051cd50a18bc",
   "metadata": {},
   "source": [
    "## Commit custom"
   ]
  },
  {
   "cell_type": "code",
   "execution_count": 168,
   "id": "0b68dffb-d70b-40fe-83a0-5b07dee5813e",
   "metadata": {},
   "outputs": [
    {
     "ename": "SyntaxError",
     "evalue": "f-string: empty expression not allowed (1575694441.py, line 5)",
     "output_type": "error",
     "traceback": [
      "\u001b[0;36m  Cell \u001b[0;32mIn[168], line 5\u001b[0;36m\u001b[0m\n\u001b[0;31m    )\u001b[0m\n\u001b[0m    ^\u001b[0m\n\u001b[0;31mSyntaxError\u001b[0m\u001b[0;31m:\u001b[0m f-string: empty expression not allowed\n"
     ]
    }
   ],
   "source": [
    "custom_record = SeqRecord(\n",
    "    Seq(\"\"),\n",
    "    id=\"\",\n",
    "    description=f\"Gene_start={} Gene_end={} Manual\"\n",
    ")\n",
    "custom_record"
   ]
  },
  {
   "cell_type": "code",
   "execution_count": null,
   "id": "4d0ef6ac-186c-420a-b617-70d43913ee76",
   "metadata": {},
   "outputs": [],
   "source": [
    "# commit_proteins(\"hymenoptera_proteins.faa\", [custom_record])"
   ]
  }
 ],
 "metadata": {
  "kernelspec": {
   "display_name": "Python 3 (ipykernel)",
   "language": "python",
   "name": "python3"
  },
  "language_info": {
   "codemirror_mode": {
    "name": "ipython",
    "version": 3
   },
   "file_extension": ".py",
   "mimetype": "text/x-python",
   "name": "python",
   "nbconvert_exporter": "python",
   "pygments_lexer": "ipython3",
   "version": "3.10.9"
  }
 },
 "nbformat": 4,
 "nbformat_minor": 5
}
